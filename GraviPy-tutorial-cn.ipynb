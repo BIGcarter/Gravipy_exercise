{
 "cells": [
  {
   "cell_type": "markdown",
   "metadata": {},
   "source": [
    "# GraviPy - tutorial\n",
    "\n"
   ]
  },
  {
   "cell_type": "markdown",
   "metadata": {},
   "source": [
    "To start working with the gravipy package you must load the package and initialize a pretty-printing mode in Jupyter environment\n",
    "### 载入函数"
   ]
  },
  {
   "cell_type": "code",
   "execution_count": 207,
   "metadata": {
    "jupyter": {
     "outputs_hidden": false
    }
   },
   "outputs": [],
   "source": [
    "from gravipy.tensorial import * # import GraviPy package\n",
    "from sympy import init_printing\n",
    "import inspect\n",
    "init_printing()"
   ]
  },
  {
   "cell_type": "markdown",
   "metadata": {},
   "source": [
    "### Contravariant: 逆变   \n",
    "### Covariant: 协变"
   ]
  },
  {
   "cell_type": "markdown",
   "metadata": {},
   "source": [
    "### The next step is to choose coordinates and define a metric tensor of a particular space. \n",
    "\n",
    "Let's take, for example, the Schwarzschild metric - vacuum solution to the Einstein's field equations which describes the gravitational field of a spherical mass distribution."
   ]
  },
  {
   "cell_type": "markdown",
   "metadata": {},
   "source": [
    "# 1. 坐标系和度规张量 ( _Coordinates_ and _MetricTensor_ )"
   ]
  },
  {
   "cell_type": "markdown",
   "metadata": {},
   "source": [
    "### define some symbolic variables \n",
    "### 定义变量符号"
   ]
  },
  {
   "cell_type": "code",
   "execution_count": 208,
   "metadata": {
    "jupyter": {
     "outputs_hidden": false
    }
   },
   "outputs": [],
   "source": [
    "# for (G=c=1)\n",
    "t, r, theta, phi, M = symbols('t, r, \\\\theta, \\phi, M')"
   ]
  },
  {
   "cell_type": "code",
   "execution_count": 209,
   "metadata": {},
   "outputs": [],
   "source": [
    "# for SI units\n",
    "t, r, theta, phi, M = symbols('t, r, \\\\theta, \\phi, GM/c^2')"
   ]
  },
  {
   "cell_type": "markdown",
   "metadata": {},
   "source": [
    "## create a coordinate four-vector object instantiating \n",
    "## the Coordinates class\n",
    "## $x^{\\mu}$"
   ]
  },
  {
   "cell_type": "code",
   "execution_count": 120,
   "metadata": {},
   "outputs": [
    {
     "data": {
      "image/png": "[encoded data removed]",
      "text/latex": [
       "$\\displaystyle \\left\\{ \\left( -4\\right) : \\phi, \\  \\left( -3\\right) : \\theta, \\  \\left( -2\\right) : r, \\  \\left( -1\\right) : t\\right\\}$"
      ],
      "text/plain": [
       "{(-4,): \\phi, (-3,): \\theta, (-2,): r, (-1,): t}"
      ]
     },
     "execution_count": 120,
     "metadata": {},
     "output_type": "execute_result"
    }
   ],
   "source": [
    "x = Coordinates('\\mu', [t, r, theta, phi])\n",
    "x.components"
   ]
  },
  {
   "cell_type": "markdown",
   "metadata": {},
   "source": [
    "### Each component of any tensor object, can be computed by calling the appropriate instance of the _GeneralTensor_ subclass with indices as arguments. \n",
    "### The covariant indices take positive integer values (1, 2, ..., dim).  协变指标使用正数!!\n",
    "### The contravariant indices take negative values (-1, -2, ..., -dim). 逆变指标使用负数!!"
   ]
  },
  {
   "cell_type": "code",
   "execution_count": 123,
   "metadata": {
    "jupyter": {
     "outputs_hidden": false
    }
   },
   "outputs": [
    {
     "data": {
      "image/png": "[encoded data removed]",
      "text/latex": [
       "$\\displaystyle \\left[\\begin{matrix}t & r & \\theta & \\phi\\end{matrix}\\right]$"
      ],
      "text/plain": [
       "[t  r  \\theta  \\phi]"
      ]
     },
     "execution_count": 123,
     "metadata": {},
     "output_type": "execute_result"
    }
   ],
   "source": [
    "x(-All)"
   ]
  },
  {
   "cell_type": "code",
   "execution_count": 124,
   "metadata": {},
   "outputs": [
    {
     "data": {
      "image/png": "[encoded data removed]",
      "text/latex": [
       "$\\displaystyle t$"
      ],
      "text/plain": [
       "t"
      ]
     },
     "execution_count": 124,
     "metadata": {},
     "output_type": "execute_result"
    }
   ],
   "source": [
    "#x.symbol\n",
    "x(-1)"
   ]
  },
  {
   "cell_type": "markdown",
   "metadata": {},
   "source": [
    "### 定义张量对角元素"
   ]
  },
  {
   "cell_type": "markdown",
   "metadata": {},
   "source": [
    "### Schwarzschild metric"
   ]
  },
  {
   "cell_type": "code",
   "execution_count": 125,
   "metadata": {},
   "outputs": [],
   "source": [
    "# define a matrix of a metric tensor components\n",
    "Metric = diag(-(1-2*M/r), 1/(1-2*M/r), r**2, r**2*sin(theta)**2)  "
   ]
  },
  {
   "cell_type": "markdown",
   "metadata": {},
   "source": [
    "### 测试度规"
   ]
  },
  {
   "cell_type": "code",
   "execution_count": 146,
   "metadata": {},
   "outputs": [],
   "source": [
    "# define a matrix of a metric tensor components\n",
    "Metric = diag(-(1-2*M/r), 1, r**2, r**2*sin(theta)**2)  "
   ]
  },
  {
   "cell_type": "markdown",
   "metadata": {},
   "source": [
    "### 创建度规张量 $g$"
   ]
  },
  {
   "cell_type": "code",
   "execution_count": 147,
   "metadata": {},
   "outputs": [],
   "source": [
    "# create a metric tensor object instantiating the MetricTensor class\n",
    "g = MetricTensor('g_{\\mu\\nu}', x, Metric)"
   ]
  },
  {
   "cell_type": "code",
   "execution_count": 148,
   "metadata": {},
   "outputs": [
    {
     "data": {
      "image/png": "[encoded data removed]",
      "text/latex": [
       "$\\displaystyle g_{\\mu\n",
       "u}$"
      ],
      "text/plain": [
       "g_{\\mu\n",
       "  u}  "
      ]
     },
     "execution_count": 148,
     "metadata": {},
     "output_type": "execute_result"
    }
   ],
   "source": [
    "#MetricTensor?\n",
    "g.symbol"
   ]
  },
  {
   "cell_type": "markdown",
   "metadata": {},
   "source": [
    "## $g_{\\mu\\nu}$"
   ]
  },
  {
   "cell_type": "code",
   "execution_count": 149,
   "metadata": {
    "jupyter": {
     "outputs_hidden": false
    }
   },
   "outputs": [
    {
     "data": {
      "image/png": "[encoded data removed]",
      "text/latex": [
       "$\\displaystyle \\left[\\begin{matrix}\\frac{2 M}{r} - 1 & 0 & 0 & 0\\\\0 & 1 & 0 & 0\\\\0 & 0 & r^{2} & 0\\\\0 & 0 & 0 & r^{2} \\sin^{2}{\\left(\\theta \\right)}\\end{matrix}\\right]$"
      ],
      "text/plain": [
       "⎡2⋅M                            ⎤\n",
       "⎢─── - 1  0  0          0       ⎥\n",
       "⎢ r                             ⎥\n",
       "⎢                               ⎥\n",
       "⎢   0     1  0          0       ⎥\n",
       "⎢                               ⎥\n",
       "⎢             2                 ⎥\n",
       "⎢   0     0  r          0       ⎥\n",
       "⎢                               ⎥\n",
       "⎢                 2    2        ⎥\n",
       "⎣   0     0  0   r ⋅sin (\\theta)⎦"
      ]
     },
     "execution_count": 149,
     "metadata": {},
     "output_type": "execute_result"
    }
   ],
   "source": [
    "g(All, All)"
   ]
  },
  {
   "cell_type": "code",
   "execution_count": 150,
   "metadata": {
    "jupyter": {
     "outputs_hidden": false
    }
   },
   "outputs": [
    {
     "data": {
      "image/png": "[encoded data removed]",
      "text/latex": [
       "$\\displaystyle \\left[\\begin{matrix}0 & 0 & 0 & r^{2} \\sin^{2}{\\left(\\theta \\right)}\\end{matrix}\\right]$"
      ],
      "text/plain": [
       "⎡          2    2        ⎤\n",
       "⎣0  0  0  r ⋅sin (\\theta)⎦"
      ]
     },
     "execution_count": 150,
     "metadata": {},
     "output_type": "execute_result"
    }
   ],
   "source": [
    "g(All, 4)"
   ]
  },
  {
   "cell_type": "markdown",
   "metadata": {},
   "source": [
    "## $g^{\\mu \\nu}$"
   ]
  },
  {
   "cell_type": "code",
   "execution_count": 151,
   "metadata": {},
   "outputs": [
    {
     "data": {
      "image/png": "[encoded data removed]",
      "text/latex": [
       "$\\displaystyle \\left[\\begin{matrix}\\frac{1}{\\frac{2 M}{r} - 1} & 0 & 0 & 0\\\\0 & 1 & 0 & 0\\\\0 & 0 & \\frac{1}{r^{2}} & 0\\\\0 & 0 & 0 & \\frac{1}{r^{2} \\sin^{2}{\\left(\\theta \\right)}}\\end{matrix}\\right]$"
      ],
      "text/plain": [
       "⎡   1                           ⎤\n",
       "⎢───────  0  0          0       ⎥\n",
       "⎢2⋅M                            ⎥\n",
       "⎢─── - 1                        ⎥\n",
       "⎢ r                             ⎥\n",
       "⎢                               ⎥\n",
       "⎢   0     1  0          0       ⎥\n",
       "⎢                               ⎥\n",
       "⎢            1                  ⎥\n",
       "⎢   0     0  ──         0       ⎥\n",
       "⎢             2                 ⎥\n",
       "⎢            r                  ⎥\n",
       "⎢                               ⎥\n",
       "⎢                       1       ⎥\n",
       "⎢   0     0  0   ───────────────⎥\n",
       "⎢                 2    2        ⎥\n",
       "⎣                r ⋅sin (\\theta)⎦"
      ]
     },
     "execution_count": 151,
     "metadata": {},
     "output_type": "execute_result"
    }
   ],
   "source": [
    "g(-All, -All)"
   ]
  },
  {
   "cell_type": "code",
   "execution_count": 131,
   "metadata": {
    "jupyter": {
     "outputs_hidden": false
    }
   },
   "outputs": [
    {
     "data": {
      "image/png": "[encoded data removed]",
      "text/latex": [
       "$\\displaystyle \\left[\\begin{matrix}0 & 0 & 0 & \\frac{1}{r^{2} \\sin^{2}{\\left(\\theta \\right)}}\\end{matrix}\\right]$"
      ],
      "text/plain": [
       "⎡                1       ⎤\n",
       "⎢0  0  0  ───────────────⎥\n",
       "⎢          2    2        ⎥\n",
       "⎣         r ⋅sin (\\theta)⎦"
      ]
     },
     "execution_count": 131,
     "metadata": {},
     "output_type": "execute_result"
    }
   ],
   "source": [
    "g(-All, -4)"
   ]
  },
  {
   "cell_type": "markdown",
   "metadata": {},
   "source": [
    "## $g^{\\mu}_{\\ \\nu} = \\delta^{\\mu}_{\\ \\nu}$"
   ]
  },
  {
   "cell_type": "code",
   "execution_count": 109,
   "metadata": {
    "jupyter": {
     "outputs_hidden": false
    }
   },
   "outputs": [
    {
     "data": {
      "image/png": "[encoded data removed]",
      "text/latex": [
       "$\\displaystyle \\left[\\begin{matrix}1 & 0 & 0 & 0\\\\0 & 1 & 0 & 0\\\\0 & 0 & 1 & 0\\\\0 & 0 & 0 & 1\\end{matrix}\\right]$"
      ],
      "text/plain": [
       "⎡1  0  0  0⎤\n",
       "⎢          ⎥\n",
       "⎢0  1  0  0⎥\n",
       "⎢          ⎥\n",
       "⎢0  0  1  0⎥\n",
       "⎢          ⎥\n",
       "⎣0  0  0  1⎦"
      ]
     },
     "execution_count": 109,
     "metadata": {},
     "output_type": "execute_result"
    }
   ],
   "source": [
    "g(-All, All)"
   ]
  },
  {
   "cell_type": "markdown",
   "metadata": {},
   "source": [
    "## $g_{\\mu\\nu} x^{\\mu} = x_{\\nu}$"
   ]
  },
  {
   "cell_type": "code",
   "execution_count": 77,
   "metadata": {},
   "outputs": [
    {
     "data": {
      "image/png": "[encoded data removed]",
      "text/latex": [
       "$\\displaystyle \\left[\\begin{matrix}t \\left(\\frac{2 M}{r} - 1\\right) & r & \\theta r^{2} & \\phi r^{2} \\sin^{2}{\\left(\\theta \\right)}\\end{matrix}\\right]$"
      ],
      "text/plain": [
       "⎡  ⎛2⋅M    ⎞             2        2    2        ⎤\n",
       "⎢t⋅⎜─── - 1⎟  r  \\theta⋅r   \\phi⋅r ⋅sin (\\theta)⎥\n",
       "⎣  ⎝ r     ⎠                                    ⎦"
      ]
     },
     "execution_count": 77,
     "metadata": {},
     "output_type": "execute_result"
    }
   ],
   "source": [
    "x(All)"
   ]
  },
  {
   "cell_type": "code",
   "execution_count": 95,
   "metadata": {
    "jupyter": {
     "outputs_hidden": false
    }
   },
   "outputs": [
    {
     "data": {
      "image/png": "[encoded data removed]",
      "text/latex": [
       "$\\displaystyle \\left\\{ \\left( -4\\right) : \\phi, \\  \\left( -3\\right) : \\theta, \\  \\left( -2\\right) : r, \\  \\left( -1\\right) : t, \\  \\left( 1\\right) : t \\left(\\frac{2 GM/c^{2}}{r} - 1\\right), \\  \\left( 2\\right) : r, \\  \\left( 3\\right) : \\theta r^{2}, \\  \\left( 4\\right) : \\phi r^{2} \\sin^{2}{\\left(\\theta \\right)}\\right\\}$"
      ],
      "text/plain": [
       "⎧                                                        ⎛2⋅GM/c²    ⎞        \n",
       "⎨(-4,): \\phi, (-3,): \\theta, (-2,): r, (-1,): t, (1,): t⋅⎜─────── - 1⎟, (2,): \n",
       "⎩                                                        ⎝   r       ⎠        \n",
       "\n",
       "                 2              2    2        ⎫\n",
       "r, (3,): \\theta⋅r , (4,): \\phi⋅r ⋅sin (\\theta)⎬\n",
       "                                              ⎭"
      ]
     },
     "execution_count": 95,
     "metadata": {},
     "output_type": "execute_result"
    }
   ],
   "source": [
    "x.components"
   ]
  },
  {
   "cell_type": "markdown",
   "metadata": {},
   "source": [
    "Matrix representation of a tensor can be obtained in the following way"
   ]
  },
  {
   "cell_type": "markdown",
   "metadata": {},
   "source": [
    "# 2. 预定义张量 (Predefined _Tensor_ Classes)"
   ]
  },
  {
   "cell_type": "markdown",
   "metadata": {},
   "source": [
    "The GraviPy package contains a number of the _Tensor_ subclasses that can be used to calculate a tensor components. The _Tensor_ subclasses available in the current version of GraviPy package are"
   ]
  },
  {
   "cell_type": "code",
   "execution_count": 60,
   "metadata": {
    "jupyter": {
     "outputs_hidden": false
    }
   },
   "outputs": [
    {
     "name": "stdout",
     "output_type": "stream",
     "text": [
      "['Christoffel', 'Ricci', 'Riemann', 'Einstein', 'Geodesic']\n"
     ]
    }
   ],
   "source": [
    "print([cls.__name__ for cls in vars()['Tensor'].__subclasses__()])"
   ]
  },
  {
   "cell_type": "markdown",
   "metadata": {},
   "source": [
    "## 2.1 克里斯托夫记号 (The _Christoffel_ symbols )"
   ]
  },
  {
   "cell_type": "markdown",
   "metadata": {},
   "source": [
    "The first one is the _Christoffel_ class that represents Christoffel symbols of the first and second kind. (Note that the Christoffel symbols are not tensors) Components of the _Christoffel_ objects are computed from the below formula "
   ]
  },
  {
   "cell_type": "markdown",
   "metadata": {},
   "source": [
    "## (讲义 1.37) $$ \\Gamma^{\\sigma}_{\\ \\mu \\nu} = \\frac{1}{2}g^{\\sigma \\rho}(g_{\\rho \\mu, \\nu} + g_{\\rho \\nu, \\mu} - g_{\\mu \\nu, \\rho})\n",
    "$$ \n",
    "\n",
    "## $$ \\Gamma_{\\rho \\mu \\nu} = g_{\\rho \\sigma}\\Gamma^{\\sigma}_{\\ \\mu \\nu} = \\frac{1}{2}(g_{\\rho \\mu, \\nu} + g_{\\rho \\nu, \\mu} - g_{\\mu \\nu, \\rho})$$\n"
   ]
  },
  {
   "cell_type": "markdown",
   "metadata": {},
   "source": [
    "Let's create an instance of the _Christoffel_ class for the Schwarzschild metric g and compute some components of the object"
   ]
  },
  {
   "cell_type": "code",
   "execution_count": 152,
   "metadata": {
    "jupyter": {
     "outputs_hidden": false
    }
   },
   "outputs": [],
   "source": [
    "Gamma = Christoffel('Gamma', g)"
   ]
  },
  {
   "cell_type": "markdown",
   "metadata": {},
   "source": [
    "$\\Gamma^{1}_{21}$"
   ]
  },
  {
   "cell_type": "code",
   "execution_count": 153,
   "metadata": {},
   "outputs": [
    {
     "data": {
      "image/png": "[encoded data removed]",
      "text/latex": [
       "$\\displaystyle - \\frac{M}{r \\left(2 M - r\\right)}$"
      ],
      "text/plain": [
       "    -M     \n",
       "───────────\n",
       "r⋅(2⋅M - r)"
      ]
     },
     "execution_count": 153,
     "metadata": {},
     "output_type": "execute_result"
    }
   ],
   "source": [
    "Gamma(-1, 2, 1)"
   ]
  },
  {
   "cell_type": "markdown",
   "metadata": {},
   "source": [
    "Each component of the _Tensor_ object is computed only once due to memoization procedure implemented in the _Tensor_ class. Computed value of a tensor component is stored in _components_ dictionary (attribute of a _Tensor_ instance) and returned by the next call to the instance."
   ]
  },
  {
   "cell_type": "code",
   "execution_count": 154,
   "metadata": {
    "jupyter": {
     "outputs_hidden": false
    }
   },
   "outputs": [
    {
     "data": {
      "image/png": "[encoded data removed]",
      "text/latex": [
       "$\\displaystyle \\left\\{ \\left( -1, \\  2, \\  1\\right) : - \\frac{M}{r \\left(2 M - r\\right)}, \\  \\left( 1, \\  1, \\  2\\right) : - \\frac{M}{r^{2}}, \\  \\left( 1, \\  2, \\  1\\right) : - \\frac{M}{r^{2}}, \\  \\left( 2, \\  1, \\  2\\right) : 0, \\  \\left( 2, \\  2, \\  1\\right) : 0, \\  \\left( 3, \\  1, \\  2\\right) : 0, \\  \\left( 3, \\  2, \\  1\\right) : 0, \\  \\left( 4, \\  1, \\  2\\right) : 0, \\  \\left( 4, \\  2, \\  1\\right) : 0\\right\\}$"
      ],
      "text/plain": [
       "⎧                -M                  -M              -M                       \n",
       "⎪(-1, 2, 1): ───────────, (1, 1, 2): ───, (1, 2, 1): ───, (2, 1, 2): 0, (2, 2,\n",
       "⎨            r⋅(2⋅M - r)               2               2                      \n",
       "⎪                                     r               r                       \n",
       "⎩                                                                             \n",
       "\n",
       "                                                              ⎫\n",
       " 1): 0, (3, 1, 2): 0, (3, 2, 1): 0, (4, 1, 2): 0, (4, 2, 1): 0⎪\n",
       "                                                              ⎬\n",
       "                                                              ⎪\n",
       "                                                              ⎭"
      ]
     },
     "execution_count": 154,
     "metadata": {},
     "output_type": "execute_result"
    }
   ],
   "source": [
    "Gamma.components"
   ]
  },
  {
   "cell_type": "markdown",
   "metadata": {},
   "source": [
    "The above dictionary consists of two elements because the symmetry of the Christoffel symbols is implemented in the _Christoffel_ class. "
   ]
  },
  {
   "cell_type": "markdown",
   "metadata": {},
   "source": [
    "If necessary, you can clear the _components_ dictionary"
   ]
  },
  {
   "cell_type": "code",
   "execution_count": 132,
   "metadata": {
    "jupyter": {
     "outputs_hidden": false
    }
   },
   "outputs": [],
   "source": [
    "#Gamma.components = {}\n",
    "#Gamma.components"
   ]
  },
  {
   "cell_type": "markdown",
   "metadata": {},
   "source": [
    "The _Matrix_ representation of the Christoffel symbols is the following"
   ]
  },
  {
   "cell_type": "code",
   "execution_count": 155,
   "metadata": {
    "jupyter": {
     "outputs_hidden": false
    }
   },
   "outputs": [
    {
     "data": {
      "image/png": "[encoded data removed]",
      "text/latex": [
       "$\\displaystyle \\left[\\begin{matrix}\\left[\\begin{matrix}0 & - \\frac{M}{r \\left(2 M - r\\right)} & 0 & 0\\\\- \\frac{M}{r \\left(2 M - r\\right)} & 0 & 0 & 0\\\\0 & 0 & 0 & 0\\\\0 & 0 & 0 & 0\\end{matrix}\\right] & \\left[\\begin{matrix}\\frac{M}{r^{2}} & 0 & 0 & 0\\\\0 & 0 & 0 & 0\\\\0 & 0 & - r & 0\\\\0 & 0 & 0 & - r \\sin^{2}{\\left(\\theta \\right)}\\end{matrix}\\right] & \\left[\\begin{matrix}0 & 0 & 0 & 0\\\\0 & 0 & \\frac{1}{r} & 0\\\\0 & \\frac{1}{r} & 0 & 0\\\\0 & 0 & 0 & - \\frac{\\sin{\\left(2 \\theta \\right)}}{2}\\end{matrix}\\right] & \\left[\\begin{matrix}0 & 0 & 0 & 0\\\\0 & 0 & 0 & \\frac{1}{r}\\\\0 & 0 & 0 & \\frac{\\sin{\\left(2 \\theta \\right)}}{2 \\sin^{2}{\\left(\\theta \\right)}}\\\\0 & \\frac{1}{r} & \\frac{\\sin{\\left(2 \\theta \\right)}}{2 \\sin^{2}{\\left(\\theta \\right)}} & 0\\end{matrix}\\right]\\end{matrix}\\right]$"
      ],
      "text/plain": [
       "⎡                                                                             \n",
       "⎢                                                                ⎡0  0  0     \n",
       "⎢⎡                 -M           ⎤  ⎡M                         ⎤  ⎢            \n",
       "⎢⎢     0       ───────────  0  0⎥  ⎢──  0  0          0       ⎥  ⎢      1     \n",
       "⎢⎢             r⋅(2⋅M - r)      ⎥  ⎢ 2                        ⎥  ⎢0  0  ─     \n",
       "⎢⎢                              ⎥  ⎢r                         ⎥  ⎢      r     \n",
       "⎢⎢    -M                        ⎥  ⎢                          ⎥  ⎢            \n",
       "⎢⎢───────────       0       0  0⎥  ⎢0   0  0          0       ⎥  ⎢   1        \n",
       "⎢⎢r⋅(2⋅M - r)                   ⎥  ⎢                          ⎥  ⎢0  ─  0     \n",
       "⎢⎢                              ⎥  ⎢0   0  -r         0       ⎥  ⎢   r        \n",
       "⎢⎢     0            0       0  0⎥  ⎢                          ⎥  ⎢            \n",
       "⎢⎢                              ⎥  ⎢                 2        ⎥  ⎢         -si\n",
       "⎢⎣     0            0       0  0⎦  ⎣0   0  0   -r⋅sin (\\theta)⎦  ⎢0  0  0  ───\n",
       "⎢                                                                ⎣            \n",
       "⎣                                                                             \n",
       "\n",
       "               ⎡0  0        0               0       ⎤⎤\n",
       "    0       ⎤  ⎢                                    ⎥⎥\n",
       "            ⎥  ⎢                            1       ⎥⎥\n",
       "            ⎥  ⎢0  0        0               ─       ⎥⎥\n",
       "    0       ⎥  ⎢                            r       ⎥⎥\n",
       "            ⎥  ⎢                                    ⎥⎥\n",
       "            ⎥  ⎢                      sin(2⋅\\theta) ⎥⎥\n",
       "            ⎥  ⎢0  0        0         ──────────────⎥⎥\n",
       "    0       ⎥  ⎢                           2        ⎥⎥\n",
       "            ⎥  ⎢                      2⋅sin (\\theta)⎥⎥\n",
       "            ⎥  ⎢                                    ⎥⎥\n",
       "n(2⋅\\theta) ⎥  ⎢   1  sin(2⋅\\theta)                 ⎥⎥\n",
       "────────────⎥  ⎢0  ─  ──────────────        0       ⎥⎥\n",
       "    2       ⎦  ⎢   r       2                        ⎥⎥\n",
       "               ⎣      2⋅sin (\\theta)                ⎦⎦"
      ]
     },
     "execution_count": 155,
     "metadata": {},
     "output_type": "execute_result"
    }
   ],
   "source": [
    "Gamma(-All, All, All)"
   ]
  },
  {
   "cell_type": "markdown",
   "metadata": {},
   "source": [
    "You can get help on any of classes mentioned before by running the command"
   ]
  },
  {
   "cell_type": "code",
   "execution_count": 205,
   "metadata": {
    "jupyter": {
     "outputs_hidden": false
    }
   },
   "outputs": [
    {
     "data": {
      "text/plain": [
       "True"
      ]
     },
     "execution_count": 205,
     "metadata": {},
     "output_type": "execute_result"
    }
   ],
   "source": [
    "#help(Christoffel)\n",
    "\n",
    "Gamma.is_tensor"
   ]
  },
  {
   "cell_type": "markdown",
   "metadata": {},
   "source": [
    "Try also \"_Christoffel?_\" and  \"_Christoffel??_\""
   ]
  },
  {
   "cell_type": "markdown",
   "metadata": {},
   "source": [
    "## 2.2 黎曼张量 (_Riemann_ tensor)"
   ]
  },
  {
   "cell_type": "markdown",
   "metadata": {},
   "source": [
    "## (GraviPy 定义) $$ R_{\\mu \\nu \\rho \\sigma} = \\frac{\\partial \\Gamma_{\\mu \\nu \\sigma}}{\\partial x^{\\rho}} - \\frac{\\partial \\Gamma_{\\mu \\nu \\rho}}{\\partial x^{\\sigma}} + \\Gamma^{\\alpha}_{\\ \\nu \\sigma}\\Gamma_{\\mu \\rho \\alpha} - \\Gamma^{\\alpha}_{\\ \\nu \\rho}\\Gamma_{\\mu \\sigma \\alpha} - \\frac{\\partial g_{\\mu \\alpha}}{\\partial x^{\\rho}}\\Gamma^{\\alpha}_{\\ \\nu \\sigma} + \\frac{\\partial g_{\\mu \\alpha}}{\\partial x^{\\sigma}}\\Gamma^{\\alpha}_{\\ \\nu \\rho} $$"
   ]
  },
  {
   "cell_type": "markdown",
   "metadata": {},
   "source": [
    "##  (讲义 1.46) $$ R^{\\rho}_{\\ \\mu \\sigma \\nu} = \\frac{\\partial \\Gamma^{\\rho}_{\\ \\mu \\nu}}{\\partial x^{\\sigma}} - \\frac{\\partial \\Gamma^{\\rho}_{\\ \\mu \\sigma}}{\\partial x^{\\nu}} + \\Gamma^{\\rho}_{\\ \\alpha \\sigma} \\Gamma^{\\alpha}_{\\ \\mu \\nu} - \\Gamma^{\\rho}_{\\ \\alpha \\nu}\\Gamma^{\\alpha}_{\\ \\mu \\sigma} $$"
   ]
  },
  {
   "cell_type": "code",
   "execution_count": 159,
   "metadata": {
    "jupyter": {
     "outputs_hidden": false
    }
   },
   "outputs": [],
   "source": [
    "Rm = Riemann('Rm', g)"
   ]
  },
  {
   "cell_type": "markdown",
   "metadata": {},
   "source": [
    "### 输出 $R^{\\mu}_{\\ \\nu \\rho \\sigma}$ 的部分非零分量"
   ]
  },
  {
   "cell_type": "code",
   "execution_count": 160,
   "metadata": {
    "jupyter": {
     "outputs_hidden": false
    }
   },
   "outputs": [
    {
     "data": {
      "text/latex": [
       "$\\displaystyle R_{1212} = - \\frac{M \\left(3 M - 2 r\\right)}{r^{2} \\left(2 M - r\\right)^{2}}$"
      ],
      "text/plain": [
       "<IPython.core.display.Math object>"
      ]
     },
     "metadata": {},
     "output_type": "display_data"
    },
    {
     "data": {
      "text/latex": [
       "$\\displaystyle R_{1313} = \\frac{M}{2 M - r}$"
      ],
      "text/plain": [
       "<IPython.core.display.Math object>"
      ]
     },
     "metadata": {},
     "output_type": "display_data"
    },
    {
     "data": {
      "text/latex": [
       "$\\displaystyle R_{1414} = \\frac{M \\sin^{2}{\\left(\\theta \\right)}}{2 M - r}$"
      ],
      "text/plain": [
       "<IPython.core.display.Math object>"
      ]
     },
     "metadata": {},
     "output_type": "display_data"
    }
   ],
   "source": [
    "from IPython.display import display, Math\n",
    "from sympy import latex\n",
    "for i, j, k, l in list(variations(range(1, 5), 4, True)):\n",
    "    if Rm(i, j, k, l) != 0 and k<l and i<j:\n",
    "        display(Math('R_{'+str(i)+str(j)+str(k)+str(l)+'} = '+ latex(Rm(-i, j, k, l))))"
   ]
  },
  {
   "cell_type": "markdown",
   "metadata": {},
   "source": [
    "### 显示 $R^{\\mu}_{\\ \\nu \\rho \\sigma}$"
   ]
  },
  {
   "cell_type": "code",
   "execution_count": 201,
   "metadata": {
    "jupyter": {
     "outputs_hidden": false
    }
   },
   "outputs": [],
   "source": [
    "#Rm(-All, All, All, All)"
   ]
  },
  {
   "cell_type": "markdown",
   "metadata": {},
   "source": [
    "### 缩并黎曼张量 (Contraction of the _Riemann_ tensor) \n",
    "### $R_{\\mu \\nu} = R^{\\rho}_{\\ \\mu \\rho \\nu} $"
   ]
  },
  {
   "cell_type": "code",
   "execution_count": 178,
   "metadata": {
    "jupyter": {
     "outputs_hidden": false
    }
   },
   "outputs": [
    {
     "data": {
      "image/png": "[encoded data removed]",
      "text/latex": [
       "$\\displaystyle \\left[\\begin{matrix}\\frac{M^{2}}{r^{3} \\left(2 M - r\\right)} & 0 & 0 & 0\\\\0 & - \\frac{M \\left(3 M - 2 r\\right)}{r^{2} \\left(2 M - r\\right)^{2}} & 0 & 0\\\\0 & 0 & \\frac{M}{2 M - r} & 0\\\\0 & 0 & 0 & \\frac{M \\sin^{2}{\\left(\\theta \\right)}}{2 M - r}\\end{matrix}\\right]$"
      ],
      "text/plain": [
       "⎡      2                                               ⎤\n",
       "⎢     M                                                ⎥\n",
       "⎢────────────         0            0           0       ⎥\n",
       "⎢ 3                                                    ⎥\n",
       "⎢r ⋅(2⋅M - r)                                          ⎥\n",
       "⎢                                                      ⎥\n",
       "⎢              -M⋅(3⋅M - 2⋅r)                          ⎥\n",
       "⎢     0        ───────────────     0           0       ⎥\n",
       "⎢                2          2                          ⎥\n",
       "⎢               r ⋅(2⋅M - r)                           ⎥\n",
       "⎢                                                      ⎥\n",
       "⎢                                  M                   ⎥\n",
       "⎢     0               0         ───────        0       ⎥\n",
       "⎢                               2⋅M - r                ⎥\n",
       "⎢                                                      ⎥\n",
       "⎢                                             2        ⎥\n",
       "⎢                                        M⋅sin (\\theta)⎥\n",
       "⎢     0               0            0     ──────────────⎥\n",
       "⎣                                           2⋅M - r    ⎦"
      ]
     },
     "execution_count": 178,
     "metadata": {},
     "output_type": "execute_result"
    }
   ],
   "source": [
    "ricci = sum([Rm(i, All, k, All)*g(-i, -k)\n",
    "             for i, k in list(variations(range(1, 5), 2, True))],\n",
    "            zeros(4))\n",
    "ricci.simplify()\n",
    "ricci"
   ]
  },
  {
   "cell_type": "markdown",
   "metadata": {},
   "source": [
    "## 2.3 里奇张量 (_Ricci_ tensor)"
   ]
  },
  {
   "cell_type": "markdown",
   "metadata": {},
   "source": [
    "##  (讲义 1.47) $$ R^{\\sigma}_{\\ \\mu \\sigma \\nu} = R_{\\mu \\nu} = \\frac{\\partial \\Gamma^{\\sigma}_{\\ \\mu \\nu}}{\\partial x^{\\sigma}} - \\frac{\\partial \\Gamma^{\\sigma}_{\\ \\mu \\sigma}}{\\partial x^{\\nu}} + \\Gamma^{\\sigma}_{\\ \\alpha \\sigma} \\Gamma^{\\alpha}_{\\ \\mu \\nu} - \\Gamma^{\\sigma}_{\\ \\alpha \\nu}\\Gamma^{\\alpha}_{\\ \\mu \\sigma} $$"
   ]
  },
  {
   "cell_type": "markdown",
   "metadata": {},
   "source": [
    "## (GraviPy 定义) $$ R_{\\mu \\nu} = \\frac{\\partial \\Gamma^{\\sigma}_{\\ \\mu \\nu}}{\\partial x^{\\sigma}} - \\frac{\\partial \\Gamma^{\\sigma}_{\\ \\mu \\sigma}}{\\partial x^{\\nu}} + \\Gamma^{\\rho}_{\\ \\sigma \\rho}\\Gamma^{\\sigma}_{\\ \\mu \\nu} - \\Gamma^{\\rho}_{\\ \\mu \\sigma}\\Gamma^{\\sigma}_{\\ \\nu \\rho} $$"
   ]
  },
  {
   "cell_type": "code",
   "execution_count": 156,
   "metadata": {
    "jupyter": {
     "outputs_hidden": false
    }
   },
   "outputs": [
    {
     "data": {
      "image/png": "[encoded data removed]",
      "text/latex": [
       "$\\displaystyle \\left[\\begin{matrix}\\frac{M^{2}}{r^{3} \\left(2 M - r\\right)} & 0 & 0 & 0\\\\0 & - \\frac{M \\left(3 M - 2 r\\right)}{r^{2} \\left(2 M - r\\right)^{2}} & 0 & 0\\\\0 & 0 & \\frac{M}{2 M - r} & 0\\\\0 & 0 & 0 & \\frac{M \\sin^{2}{\\left(\\theta \\right)}}{2 M - r}\\end{matrix}\\right]$"
      ],
      "text/plain": [
       "⎡      2                                               ⎤\n",
       "⎢     M                                                ⎥\n",
       "⎢────────────         0            0           0       ⎥\n",
       "⎢ 3                                                    ⎥\n",
       "⎢r ⋅(2⋅M - r)                                          ⎥\n",
       "⎢                                                      ⎥\n",
       "⎢              -M⋅(3⋅M - 2⋅r)                          ⎥\n",
       "⎢     0        ───────────────     0           0       ⎥\n",
       "⎢                2          2                          ⎥\n",
       "⎢               r ⋅(2⋅M - r)                           ⎥\n",
       "⎢                                                      ⎥\n",
       "⎢                                  M                   ⎥\n",
       "⎢     0               0         ───────        0       ⎥\n",
       "⎢                               2⋅M - r                ⎥\n",
       "⎢                                                      ⎥\n",
       "⎢                                             2        ⎥\n",
       "⎢                                        M⋅sin (\\theta)⎥\n",
       "⎢     0               0            0     ──────────────⎥\n",
       "⎣                                           2⋅M - r    ⎦"
      ]
     },
     "execution_count": 156,
     "metadata": {},
     "output_type": "execute_result"
    }
   ],
   "source": [
    "Ri = Ricci('Ri', g)\n",
    "Ri(All, All)"
   ]
  },
  {
   "cell_type": "code",
   "execution_count": 197,
   "metadata": {},
   "outputs": [
    {
     "data": {
      "image/png": "[encoded data removed]",
      "text/latex": [
       "$\\displaystyle \\left[\\begin{matrix}\\frac{M^{2}}{r^{2} \\left(2 M - r\\right)^{2}} & 0 & 0 & 0\\\\0 & - \\frac{M \\left(3 M - 2 r\\right)}{r^{2} \\left(2 M - r\\right)^{2}} & 0 & 0\\\\0 & 0 & \\frac{M}{r^{2} \\left(2 M - r\\right)} & 0\\\\0 & 0 & 0 & \\frac{M}{r^{2} \\left(2 M - r\\right)}\\end{matrix}\\right]$"
      ],
      "text/plain": [
       "⎡       2                                                  ⎤\n",
       "⎢      M                                                   ⎥\n",
       "⎢─────────────         0              0             0      ⎥\n",
       "⎢ 2          2                                             ⎥\n",
       "⎢r ⋅(2⋅M - r)                                              ⎥\n",
       "⎢                                                          ⎥\n",
       "⎢               -M⋅(3⋅M - 2⋅r)                             ⎥\n",
       "⎢      0        ───────────────       0             0      ⎥\n",
       "⎢                 2          2                             ⎥\n",
       "⎢                r ⋅(2⋅M - r)                              ⎥\n",
       "⎢                                                          ⎥\n",
       "⎢                                     M                    ⎥\n",
       "⎢      0               0         ────────────       0      ⎥\n",
       "⎢                                 2                        ⎥\n",
       "⎢                                r ⋅(2⋅M - r)              ⎥\n",
       "⎢                                                          ⎥\n",
       "⎢                                                   M      ⎥\n",
       "⎢      0               0              0        ────────────⎥\n",
       "⎢                                               2          ⎥\n",
       "⎣                                              r ⋅(2⋅M - r)⎦"
      ]
     },
     "execution_count": 197,
     "metadata": {},
     "output_type": "execute_result"
    }
   ],
   "source": [
    "Ri(-All, All)"
   ]
  },
  {
   "cell_type": "markdown",
   "metadata": {},
   "source": [
    "### 里奇张量缩并 (Contraction of the _Ricci_ tensor) \n",
    "### $R = R_{\\mu}^{\\ \\mu} = g^{\\mu \\nu}R_{\\mu \\nu}$"
   ]
  },
  {
   "cell_type": "code",
   "execution_count": 158,
   "metadata": {
    "jupyter": {
     "outputs_hidden": false
    }
   },
   "outputs": [
    {
     "data": {
      "image/png": "[encoded data removed]",
      "text/latex": [
       "$\\displaystyle \\frac{2 M^{2}}{r^{2} \\left(2 M - r\\right)^{2}}$"
      ],
      "text/plain": [
       "        2    \n",
       "     2⋅M     \n",
       "─────────────\n",
       " 2          2\n",
       "r ⋅(2⋅M - r) "
      ]
     },
     "execution_count": 158,
     "metadata": {},
     "output_type": "execute_result"
    }
   ],
   "source": [
    "Ri.scalar()"
   ]
  },
  {
   "cell_type": "markdown",
   "metadata": {},
   "source": [
    "## 2.4 爱因斯坦张量 (The _Einstein_ tensor)"
   ]
  },
  {
   "cell_type": "markdown",
   "metadata": {},
   "source": [
    "## $$ G_{\\mu \\nu} = R_{\\mu \\nu} - \\frac{1}{2}g_{\\mu \\nu}R $$"
   ]
  },
  {
   "cell_type": "code",
   "execution_count": 179,
   "metadata": {
    "jupyter": {
     "outputs_hidden": false
    }
   },
   "outputs": [
    {
     "data": {
      "image/png": "[encoded data removed]",
      "text/latex": [
       "$\\displaystyle \\left[\\begin{matrix}0 & 0 & 0 & 0\\\\0 & \\frac{2 M}{r^{2} \\left(- 2 M + r\\right)} & 0 & 0\\\\0 & 0 & \\frac{M \\left(M - r\\right)}{\\left(2 M - r\\right)^{2}} & 0\\\\0 & 0 & 0 & \\frac{M \\left(M - r\\right) \\sin^{2}{\\left(\\theta \\right)}}{\\left(2 M - r\\right)^{2}}\\end{matrix}\\right]$"
      ],
      "text/plain": [
       "⎡0        0            0                 0           ⎤\n",
       "⎢                                                    ⎥\n",
       "⎢        2⋅M                                         ⎥\n",
       "⎢0  ─────────────      0                 0           ⎥\n",
       "⎢    2                                               ⎥\n",
       "⎢   r ⋅(-2⋅M + r)                                    ⎥\n",
       "⎢                                                    ⎥\n",
       "⎢                  M⋅(M - r)                         ⎥\n",
       "⎢0        0        ──────────            0           ⎥\n",
       "⎢                           2                        ⎥\n",
       "⎢                  (2⋅M - r)                         ⎥\n",
       "⎢                                                    ⎥\n",
       "⎢                                           2        ⎥\n",
       "⎢                              M⋅(M - r)⋅sin (\\theta)⎥\n",
       "⎢0        0            0       ──────────────────────⎥\n",
       "⎢                                             2      ⎥\n",
       "⎣                                    (2⋅M - r)       ⎦"
      ]
     },
     "execution_count": 179,
     "metadata": {},
     "output_type": "execute_result"
    }
   ],
   "source": [
    "G = Einstein('G', Ri)\n",
    "G(All, All)"
   ]
  },
  {
   "cell_type": "markdown",
   "metadata": {},
   "source": [
    "## 2.5 测地线 ( _Geodesics_ )"
   ]
  },
  {
   "cell_type": "markdown",
   "metadata": {},
   "source": [
    "## $$ w_{\\mu} = \\frac{Du_{\\mu}}{d\\tau} = \\frac{d^2x_{\\mu}}{d\\tau^2} - \\frac{1}{2}g_{\\rho \\sigma, \\mu} \\frac{dx^{\\rho}}{d\\tau}\\frac{dx^{\\sigma}}{d\\tau} $$"
   ]
  },
  {
   "cell_type": "code",
   "execution_count": 184,
   "metadata": {
    "jupyter": {
     "outputs_hidden": false
    }
   },
   "outputs": [
    {
     "data": {
      "image/png": "[encoded data removed]",
      "text/latex": [
       "$\\displaystyle \\left[\\begin{matrix}0\\\\0\\\\0\\\\0\\end{matrix}\\right]$"
      ],
      "text/plain": [
       "⎡0⎤\n",
       "⎢ ⎥\n",
       "⎢0⎥\n",
       "⎢ ⎥\n",
       "⎢0⎥\n",
       "⎢ ⎥\n",
       "⎣0⎦"
      ]
     },
     "execution_count": 184,
     "metadata": {},
     "output_type": "execute_result"
    }
   ],
   "source": [
    "tau = Symbol('\\\\tau')\n",
    "w = Geodesic('w', g, tau)\n",
    "w(All).transpose()"
   ]
  },
  {
   "cell_type": "markdown",
   "metadata": {},
   "source": [
    "Please note that instantiation of a _Geodesic_ class for the metric $g$ automatically turns on a _Parametrization_ mode for the metric $g$. Then all coordinates are functions of a world line parameter $\\tau$"
   ]
  },
  {
   "cell_type": "code",
   "execution_count": 185,
   "metadata": {
    "jupyter": {
     "outputs_hidden": false
    }
   },
   "outputs": [
    {
     "data": {
      "image/png": "[encoded data removed]",
      "text/latex": [
       "$\\displaystyle \\left[ \\left[ \\mu, \\  \\tau\\right]\\right]$"
      ],
      "text/plain": [
       "[[\\mu, \\tau]]"
      ]
     },
     "execution_count": 185,
     "metadata": {},
     "output_type": "execute_result"
    }
   ],
   "source": [
    "Parametrization.info()"
   ]
  },
  {
   "cell_type": "code",
   "execution_count": 186,
   "metadata": {
    "jupyter": {
     "outputs_hidden": false
    }
   },
   "outputs": [
    {
     "data": {
      "image/png": "[encoded data removed]",
      "text/latex": [
       "$\\displaystyle \\left[\\begin{matrix}t & r & \\theta & \\phi\\end{matrix}\\right]$"
      ],
      "text/plain": [
       "[t  r  \\theta  \\phi]"
      ]
     },
     "execution_count": 186,
     "metadata": {},
     "output_type": "execute_result"
    }
   ],
   "source": [
    "x(-All)"
   ]
  },
  {
   "cell_type": "code",
   "execution_count": 117,
   "metadata": {
    "jupyter": {
     "outputs_hidden": false
    }
   },
   "outputs": [
    {
     "data": {
      "image/png": "[encoded data removed]",
      "text/latex": [
       "$\\displaystyle \\left[\\begin{matrix}\\frac{2 GM/c^{2}}{r{\\left(\\tau \\right)}} - 1 & 0 & 0 & 0\\\\0 & 1 & 0 & 0\\\\0 & 0 & r^{2}{\\left(\\tau \\right)} & 0\\\\0 & 0 & 0 & r^{2}{\\left(\\tau \\right)} \\sin^{2}{\\left(\\theta{\\left(\\tau \\right)} \\right)}\\end{matrix}\\right]$"
      ],
      "text/plain": [
       "⎡2⋅GM/c²                                              ⎤\n",
       "⎢─────── - 1  0     0                   0             ⎥\n",
       "⎢r(\\tau)                                              ⎥\n",
       "⎢                                                     ⎥\n",
       "⎢     0       1     0                   0             ⎥\n",
       "⎢                                                     ⎥\n",
       "⎢                 2                                   ⎥\n",
       "⎢     0       0  r (\\tau)               0             ⎥\n",
       "⎢                                                     ⎥\n",
       "⎢                           2          2              ⎥\n",
       "⎣     0       0     0      r (\\tau)⋅sin (\\theta(\\tau))⎦"
      ]
     },
     "execution_count": 117,
     "metadata": {},
     "output_type": "execute_result"
    }
   ],
   "source": [
    "g(All, All)"
   ]
  },
  {
   "cell_type": "markdown",
   "metadata": {},
   "source": [
    "_Parametrization_ mode can be deactivated by typing"
   ]
  },
  {
   "cell_type": "code",
   "execution_count": 187,
   "metadata": {
    "jupyter": {
     "outputs_hidden": false
    }
   },
   "outputs": [
    {
     "name": "stdout",
     "output_type": "stream",
     "text": [
      "No parametrization activated\n"
     ]
    }
   ],
   "source": [
    "Parametrization.deactivate(x)\n",
    "Parametrization.info()"
   ]
  },
  {
   "cell_type": "code",
   "execution_count": 27,
   "metadata": {
    "jupyter": {
     "outputs_hidden": false
    }
   },
   "outputs": [
    {
     "data": {
      "image/png": "[encoded data removed]",
      "text/latex": [
       "$\\displaystyle \\left[\\begin{matrix}t & r & \\theta & \\phi\\end{matrix}\\right]$"
      ],
      "text/plain": [
       "[t  r  \\theta  \\phi]"
      ]
     },
     "execution_count": 27,
     "metadata": {},
     "output_type": "execute_result"
    }
   ],
   "source": [
    "x(-All)"
   ]
  },
  {
   "cell_type": "code",
   "execution_count": 188,
   "metadata": {
    "jupyter": {
     "outputs_hidden": false
    }
   },
   "outputs": [
    {
     "data": {
      "image/png": "[encoded data removed]",
      "text/latex": [
       "$\\displaystyle \\left[\\begin{matrix}\\frac{2 M}{r} - 1 & 0 & 0 & 0\\\\0 & 1 & 0 & 0\\\\0 & 0 & r^{2} & 0\\\\0 & 0 & 0 & r^{2} \\sin^{2}{\\left(\\theta \\right)}\\end{matrix}\\right]$"
      ],
      "text/plain": [
       "⎡2⋅M                            ⎤\n",
       "⎢─── - 1  0  0          0       ⎥\n",
       "⎢ r                             ⎥\n",
       "⎢                               ⎥\n",
       "⎢   0     1  0          0       ⎥\n",
       "⎢                               ⎥\n",
       "⎢             2                 ⎥\n",
       "⎢   0     0  r          0       ⎥\n",
       "⎢                               ⎥\n",
       "⎢                 2    2        ⎥\n",
       "⎣   0     0  0   r ⋅sin (\\theta)⎦"
      ]
     },
     "execution_count": 188,
     "metadata": {},
     "output_type": "execute_result"
    }
   ],
   "source": [
    "g(All, All)"
   ]
  },
  {
   "cell_type": "markdown",
   "metadata": {},
   "source": [
    "# 3. 微分 (Derivatives)"
   ]
  },
  {
   "cell_type": "markdown",
   "metadata": {},
   "source": [
    "## 3.1 偏微分 (Partial derivative)"
   ]
  },
  {
   "cell_type": "markdown",
   "metadata": {},
   "source": [
    "All instances of a _GeneralTensor_ subclasses inherits _partialD_ method which works exactly the same way as SymPy _diff_ method."
   ]
  },
  {
   "cell_type": "code",
   "execution_count": 189,
   "metadata": {
    "jupyter": {
     "outputs_hidden": false
    }
   },
   "outputs": [
    {
     "data": {
      "image/png": "[encoded data removed]",
      "text/latex": [
       "$\\displaystyle \\operatorname{T(1, 2)}{\\left(t,r,\\theta,\\phi \\right)}$"
      ],
      "text/plain": [
       "T(1, 2)(t, r, \\theta, \\phi)"
      ]
     },
     "execution_count": 189,
     "metadata": {},
     "output_type": "execute_result"
    }
   ],
   "source": [
    "T = Tensor('T', 2, g)\n",
    "T(1, 2)"
   ]
  },
  {
   "cell_type": "code",
   "execution_count": 190,
   "metadata": {
    "jupyter": {
     "outputs_hidden": false
    }
   },
   "outputs": [
    {
     "data": {
      "image/png": "[encoded data removed]",
      "text/latex": [
       "$\\displaystyle \\frac{\\partial^{2}}{\\partial t\\partial \\theta} \\operatorname{T(1, 2)}{\\left(t,r,\\theta,\\phi \\right)}$"
      ],
      "text/plain": [
       "     2                                 \n",
       "    ∂                                  \n",
       "──────────(T(1, 2)(t, r, \\theta, \\phi))\n",
       "∂t ∂\\theta                             "
      ]
     },
     "execution_count": 190,
     "metadata": {},
     "output_type": "execute_result"
    }
   ],
   "source": [
    "T.partialD(1, 2, 1, 3) # The first two indices belongs to second rank tensor T"
   ]
  },
  {
   "cell_type": "code",
   "execution_count": 191,
   "metadata": {
    "jupyter": {
     "outputs_hidden": false
    }
   },
   "outputs": [
    {
     "data": {
      "image/png": "[encoded data removed]",
      "text/latex": [
       "$\\displaystyle \\frac{\\partial^{2}}{\\partial t\\partial \\theta} \\operatorname{T(1, 2)}{\\left(t,r,\\theta,\\phi \\right)}$"
      ],
      "text/plain": [
       "     2                                 \n",
       "    ∂                                  \n",
       "──────────(T(1, 2)(t, r, \\theta, \\phi))\n",
       "∂t ∂\\theta                             "
      ]
     },
     "execution_count": 191,
     "metadata": {},
     "output_type": "execute_result"
    }
   ],
   "source": [
    "T(1, 2).diff(x(-1), x(-3))"
   ]
  },
  {
   "cell_type": "markdown",
   "metadata": {},
   "source": [
    "The only difference is that computed value of _partialD_ is saved in  \"_partial_derivative_components_\" dictionary an then returned by the next call to the _partialD_ method."
   ]
  },
  {
   "cell_type": "code",
   "execution_count": 192,
   "metadata": {
    "jupyter": {
     "outputs_hidden": false
    }
   },
   "outputs": [
    {
     "data": {
      "image/png": "[encoded data removed]",
      "text/latex": [
       "$\\displaystyle \\left\\{ \\left( 1, \\  2, \\  1, \\  3\\right) : \\frac{\\partial^{2}}{\\partial t\\partial \\theta} \\operatorname{T(1, 2)}{\\left(t,r,\\theta,\\phi \\right)}\\right\\}$"
      ],
      "text/plain": [
       "⎧                   2                                 ⎫\n",
       "⎪                  ∂                                  ⎪\n",
       "⎨(1, 2, 1, 3): ──────────(T(1, 2)(t, r, \\theta, \\phi))⎬\n",
       "⎪              ∂t ∂\\theta                             ⎪\n",
       "⎩                                                     ⎭"
      ]
     },
     "execution_count": 192,
     "metadata": {},
     "output_type": "execute_result"
    }
   ],
   "source": [
    "T.partial_derivative_components"
   ]
  },
  {
   "cell_type": "markdown",
   "metadata": {},
   "source": [
    "## 3.2 协变微分 (Covariant derivative)"
   ]
  },
  {
   "cell_type": "markdown",
   "metadata": {},
   "source": [
    "### Covariant derivative components of the tensor ___T___  can be computed by the covariantD method from the formula"
   ]
  },
  {
   "cell_type": "markdown",
   "metadata": {},
   "source": [
    "## $$ \\nabla_{\\sigma} T_{\\mu}^{\\ \\nu} = T_{\\mu \\ ;\\sigma}^{\\ \\nu} = \\frac{\\partial T_{\\mu}^{\\ \\nu}}{\\partial x^{\\sigma}} - \\Gamma^{\\rho}_{\\ \\mu \\sigma}T_{\\rho}^{\\ \\nu} + \\Gamma^{\\nu}_{\\ \\rho \\sigma}T_{\\mu}^{\\ \\rho}$$"
   ]
  },
  {
   "cell_type": "markdown",
   "metadata": {},
   "source": [
    "Let's compute some covariant derivatives of a scalar field C"
   ]
  },
  {
   "cell_type": "code",
   "execution_count": 33,
   "metadata": {
    "jupyter": {
     "outputs_hidden": false
    }
   },
   "outputs": [
    {
     "data": {
      "image/png": "[encoded data removed]",
      "text/latex": [
       "$\\displaystyle C{\\left(t,r,\\theta,\\phi \\right)}$"
      ],
      "text/plain": [
       "C(t, r, \\theta, \\phi)"
      ]
     },
     "execution_count": 33,
     "metadata": {},
     "output_type": "execute_result"
    }
   ],
   "source": [
    "C = Tensor('C', 0, g)\n",
    "C()"
   ]
  },
  {
   "cell_type": "code",
   "execution_count": 34,
   "metadata": {
    "jupyter": {
     "outputs_hidden": false
    }
   },
   "outputs": [
    {
     "data": {
      "image/png": "[encoded data removed]",
      "text/latex": [
       "$\\displaystyle \\frac{\\partial}{\\partial t} C{\\left(t,r,\\theta,\\phi \\right)}$"
      ],
      "text/plain": [
       "∂                        \n",
       "──(C(t, r, \\theta, \\phi))\n",
       "∂t                       "
      ]
     },
     "execution_count": 34,
     "metadata": {},
     "output_type": "execute_result"
    }
   ],
   "source": [
    "C.covariantD(1)"
   ]
  },
  {
   "cell_type": "code",
   "execution_count": 35,
   "metadata": {
    "jupyter": {
     "outputs_hidden": false
    }
   },
   "outputs": [
    {
     "data": {
      "image/png": "[encoded data removed]",
      "text/latex": [
       "$\\displaystyle \\frac{r \\frac{\\partial^{2}}{\\partial r\\partial \\theta} C{\\left(t,r,\\theta,\\phi \\right)} - \\frac{\\partial}{\\partial \\theta} C{\\left(t,r,\\theta,\\phi \\right)}}{r}$"
      ],
      "text/plain": [
       "       2                                                            \n",
       "      ∂                                  ∂                          \n",
       "r⋅──────────(C(t, r, \\theta, \\phi)) - ───────(C(t, r, \\theta, \\phi))\n",
       "  ∂r ∂\\theta                          ∂\\theta                       \n",
       "────────────────────────────────────────────────────────────────────\n",
       "                                 r                                  "
      ]
     },
     "execution_count": 35,
     "metadata": {},
     "output_type": "execute_result"
    }
   ],
   "source": [
    "C.covariantD(2, 3)"
   ]
  },
  {
   "cell_type": "markdown",
   "metadata": {},
   "source": [
    "All _covariantD_ components of every _Tensor_ object are also memoized"
   ]
  },
  {
   "cell_type": "code",
   "execution_count": 36,
   "metadata": {
    "jupyter": {
     "outputs_hidden": false
    }
   },
   "outputs": [
    {
     "data": {
      "text/latex": [
       "$\\displaystyle (1,): \\frac{\\partial}{\\partial t} C{\\left(t,r,\\theta,\\phi \\right)}$"
      ],
      "text/plain": [
       "<IPython.core.display.Math object>"
      ]
     },
     "metadata": {},
     "output_type": "display_data"
    },
    {
     "data": {
      "text/latex": [
       "$\\displaystyle (2,): \\frac{\\partial}{\\partial r} C{\\left(t,r,\\theta,\\phi \\right)}$"
      ],
      "text/plain": [
       "<IPython.core.display.Math object>"
      ]
     },
     "metadata": {},
     "output_type": "display_data"
    },
    {
     "data": {
      "text/latex": [
       "$\\displaystyle (3,): \\frac{\\partial}{\\partial \\theta} C{\\left(t,r,\\theta,\\phi \\right)}$"
      ],
      "text/plain": [
       "<IPython.core.display.Math object>"
      ]
     },
     "metadata": {},
     "output_type": "display_data"
    },
    {
     "data": {
      "text/latex": [
       "$\\displaystyle (4,): \\frac{\\partial}{\\partial \\phi} C{\\left(t,r,\\theta,\\phi \\right)}$"
      ],
      "text/plain": [
       "<IPython.core.display.Math object>"
      ]
     },
     "metadata": {},
     "output_type": "display_data"
    },
    {
     "data": {
      "text/latex": [
       "$\\displaystyle (2, 3): \\frac{r \\frac{\\partial^{2}}{\\partial r\\partial \\theta} C{\\left(t,r,\\theta,\\phi \\right)} - \\frac{\\partial}{\\partial \\theta} C{\\left(t,r,\\theta,\\phi \\right)}}{r}$"
      ],
      "text/plain": [
       "<IPython.core.display.Math object>"
      ]
     },
     "metadata": {},
     "output_type": "display_data"
    }
   ],
   "source": [
    "for k in C.covariant_derivative_components:\n",
    "    display(Math(str(k) + ': '\n",
    "                 + latex(C.covariant_derivative_components[k])))"
   ]
  },
  {
   "cell_type": "code",
   "execution_count": 37,
   "metadata": {
    "jupyter": {
     "outputs_hidden": false
    }
   },
   "outputs": [
    {
     "data": {
      "image/png": "[encoded data removed]",
      "text/latex": [
       "$\\displaystyle \\frac{M \\frac{\\partial^{2}}{\\partial t\\partial \\theta} C{\\left(t,r,\\theta,\\phi \\right)} + r \\left(2 M - r\\right) \\frac{\\partial^{3}}{\\partial t\\partial r\\partial \\theta} C{\\left(t,r,\\theta,\\phi \\right)} - \\left(2 M - r\\right) \\frac{\\partial^{2}}{\\partial t\\partial \\theta} C{\\left(t,r,\\theta,\\phi \\right)}}{r \\left(2 M - r\\right)}$"
      ],
      "text/plain": [
       "       2                                                 3                    \n",
       "      ∂                                                 ∂                     \n",
       "M⋅──────────(C(t, r, \\theta, \\phi)) + r⋅(2⋅M - r)⋅─────────────(C(t, r, \\theta\n",
       "  ∂t ∂\\theta                                      ∂t ∂r ∂\\theta               \n",
       "──────────────────────────────────────────────────────────────────────────────\n",
       "                                                            r⋅(2⋅M - r)       \n",
       "\n",
       "                          2                           \n",
       "                         ∂                            \n",
       ", \\phi)) - (2⋅M - r)⋅──────────(C(t, r, \\theta, \\phi))\n",
       "                     ∂t ∂\\theta                       \n",
       "──────────────────────────────────────────────────────\n",
       "                                                      "
      ]
     },
     "execution_count": 37,
     "metadata": {},
     "output_type": "execute_result"
    }
   ],
   "source": [
    "C.covariantD(1, 2, 3)"
   ]
  },
  {
   "cell_type": "markdown",
   "metadata": {},
   "source": [
    "Proof that the covariant derivative of the metric tensor $g$ is zero"
   ]
  },
  {
   "cell_type": "code",
   "execution_count": 38,
   "metadata": {
    "jupyter": {
     "outputs_hidden": false
    }
   },
   "outputs": [
    {
     "data": {
      "text/plain": [
       "True"
      ]
     },
     "execution_count": 38,
     "metadata": {},
     "output_type": "execute_result"
    }
   ],
   "source": [
    "not any([g.covariantD(i, j, k).simplify()\n",
    "         for i, j, k in list(variations(range(1, 5), 3, True))])"
   ]
  },
  {
   "cell_type": "markdown",
   "metadata": {},
   "source": [
    "Bianchi identity in the Schwarzschild spacetime"
   ]
  },
  {
   "cell_type": "markdown",
   "metadata": {},
   "source": [
    "## $$ R_{\\mu \\nu \\sigma \\rho ;\\gamma} + R_{\\mu \\nu \\gamma \\sigma ;\\rho} + R_{\\mu \\nu \\rho \\gamma ;\\sigma} = 0$$"
   ]
  },
  {
   "cell_type": "code",
   "execution_count": 193,
   "metadata": {},
   "outputs": [
    {
     "data": {
      "text/plain": [
       "True"
      ]
     },
     "execution_count": 193,
     "metadata": {},
     "output_type": "execute_result"
    }
   ],
   "source": [
    "not any([(Rm.covariantD(i, j, k, l, m) + Rm.covariantD(i, j, m, k, l)\n",
    "          + Rm.covariantD(i, j, l, m, k)).simplify()\n",
    "         for i, j, k, l, m in list(variations(range(1, 5), 5, True))])"
   ]
  },
  {
   "cell_type": "markdown",
   "metadata": {},
   "source": [
    "## User-defined tensors"
   ]
  },
  {
   "cell_type": "markdown",
   "metadata": {},
   "source": [
    "To define a new scalar/vector/tensor field in some space you should __extend__ the _Tensor_ class or __create an instance__ of the _Tensor_ class."
   ]
  },
  {
   "cell_type": "markdown",
   "metadata": {},
   "source": [
    "### _Tensor_ class instantiation"
   ]
  },
  {
   "cell_type": "markdown",
   "metadata": {},
   "source": [
    "Let's create a third-rank tensor field living in the Schwarzshild spacetime as an instance of the _Tensor_ class"
   ]
  },
  {
   "cell_type": "code",
   "execution_count": 40,
   "metadata": {
    "jupyter": {
     "outputs_hidden": false
    }
   },
   "outputs": [],
   "source": [
    "S = Tensor('S', 3, g)"
   ]
  },
  {
   "cell_type": "markdown",
   "metadata": {},
   "source": [
    "Until you define (override) the _\\_compute\\_covariant\\_component_ method of the __S__ object, all of $4^3$ components are arbitrary functions of coordinates "
   ]
  },
  {
   "cell_type": "code",
   "execution_count": 41,
   "metadata": {
    "jupyter": {
     "outputs_hidden": false
    }
   },
   "outputs": [
    {
     "data": {
      "image/png": "[encoded data removed]",
      "text/latex": [
       "$\\displaystyle \\operatorname{S(1, 2, 3)}{\\left(t,r,\\theta,\\phi \\right)}$"
      ],
      "text/plain": [
       "S(1, 2, 3)(t, r, \\theta, \\phi)"
      ]
     },
     "execution_count": 41,
     "metadata": {},
     "output_type": "execute_result"
    }
   ],
   "source": [
    "S(1, 2, 3)"
   ]
  },
  {
   "cell_type": "code",
   "execution_count": 42,
   "metadata": {
    "jupyter": {
     "outputs_hidden": false
    }
   },
   "outputs": [
    {
     "data": {
      "text/plain": [
       "(['    def _compute_covariant_component(self, idxs):\\n',\n",
       "  '        if len(idxs) == 0:\\n',\n",
       "  '            component = Function(str(self.symbol))(*self.coords.c)\\n',\n",
       "  '        elif len(idxs) == 1:\\n',\n",
       "  '            component = Function(str(self.symbol) +\\n',\n",
       "  \"                                 '(' + str(idxs[0]) + ')')(*self.coords.c)\\n\",\n",
       "  '        else:\\n',\n",
       "  '            component = Function(str(self.symbol) + str(idxs))(*self.coords.c)\\n',\n",
       "  '        return component\\n'],\n",
       " 157)"
      ]
     },
     "execution_count": 42,
     "metadata": {},
     "output_type": "execute_result"
    }
   ],
   "source": [
    "inspect.getsourcelines(T._compute_covariant_component)"
   ]
  },
  {
   "cell_type": "markdown",
   "metadata": {},
   "source": [
    "Let's assume that tensor __S__ is the commutator of the covariant derivatives of some arbitrary vector field __V__ and create a new _\\_compute\\_covariant\\_component_ method for the object __S__"
   ]
  },
  {
   "cell_type": "code",
   "execution_count": 43,
   "metadata": {
    "jupyter": {
     "outputs_hidden": false
    }
   },
   "outputs": [
    {
     "data": {
      "image/png": "[encoded data removed]",
      "text/latex": [
       "$\\displaystyle \\left[\\begin{matrix}\\operatorname{V(1)}{\\left(t,r,\\theta,\\phi \\right)} & \\operatorname{V(2)}{\\left(t,r,\\theta,\\phi \\right)} & \\operatorname{V(3)}{\\left(t,r,\\theta,\\phi \\right)} & \\operatorname{V(4)}{\\left(t,r,\\theta,\\phi \\right)}\\end{matrix}\\right]$"
      ],
      "text/plain": [
       "[V(1)(t, r, \\theta, \\phi)  V(2)(t, r, \\theta, \\phi)  V(3)(t, r, \\theta, \\phi) \n",
       " V(4)(t, r, \\theta, \\phi)]"
      ]
     },
     "execution_count": 43,
     "metadata": {},
     "output_type": "execute_result"
    }
   ],
   "source": [
    "V = Tensor('V', 1, g)\n",
    "V(All)"
   ]
  },
  {
   "cell_type": "code",
   "execution_count": 44,
   "metadata": {
    "jupyter": {
     "outputs_hidden": false
    }
   },
   "outputs": [],
   "source": [
    "def S_new_method(idxs): # definition\n",
    "    component = (V.covariantD(idxs[0], idxs[1], idxs[2])\n",
    "                 - V.covariantD(idxs[0], idxs[2], idxs[1])).simplify()\n",
    "    S.components.update({idxs: component}) # memoization\n",
    "    return component\n",
    "S._compute_covariant_component = S_new_method\n",
    "# _compute_covariant_component method was overriden"
   ]
  },
  {
   "cell_type": "code",
   "execution_count": 45,
   "metadata": {
    "jupyter": {
     "outputs_hidden": false
    }
   },
   "outputs": [
    {
     "data": {
      "image/png": "[encoded data removed]",
      "text/latex": [
       "$\\displaystyle \\frac{M \\left(2 M - r\\right) \\operatorname{V(3)}{\\left(t,r,\\theta,\\phi \\right)}}{r^{4}}$"
      ],
      "text/plain": [
       "M⋅(2⋅M - r)⋅V(3)(t, r, \\theta, \\phi)\n",
       "────────────────────────────────────\n",
       "                  4                 \n",
       "                 r                  "
      ]
     },
     "execution_count": 45,
     "metadata": {},
     "output_type": "execute_result"
    }
   ],
   "source": [
    "S(1, 1, 3)"
   ]
  },
  {
   "cell_type": "markdown",
   "metadata": {},
   "source": [
    "One can check that the well known formula is correct"
   ]
  },
  {
   "cell_type": "markdown",
   "metadata": {},
   "source": [
    "$$ V_{\\mu ;\\nu \\rho} - V_{\\mu ;\\rho \\nu} = R^{\\sigma}_{\\ \\mu \\nu \\rho}V_{\\sigma} $$"
   ]
  },
  {
   "cell_type": "code",
   "execution_count": 46,
   "metadata": {
    "jupyter": {
     "outputs_hidden": false
    }
   },
   "outputs": [
    {
     "data": {
      "image/png": "[encoded data removed]",
      "text/latex": [
       "$\\displaystyle \\left[\\begin{matrix}\\left[\\begin{matrix}0 & 0 & 0 & 0\\\\0 & 0 & 0 & 0\\\\0 & 0 & 0 & 0\\\\0 & 0 & 0 & 0\\end{matrix}\\right] & \\left[\\begin{matrix}0 & 0 & 0 & 0\\\\0 & 0 & 0 & 0\\\\0 & 0 & 0 & 0\\\\0 & 0 & 0 & 0\\end{matrix}\\right] & \\left[\\begin{matrix}0 & 0 & 0 & 0\\\\0 & 0 & 0 & 0\\\\0 & 0 & 0 & 0\\\\0 & 0 & 0 & 0\\end{matrix}\\right] & \\left[\\begin{matrix}0 & 0 & 0 & 0\\\\0 & 0 & 0 & 0\\\\0 & 0 & 0 & 0\\\\0 & 0 & 0 & 0\\end{matrix}\\right]\\end{matrix}\\right]$"
      ],
      "text/plain": [
       "⎡⎡0  0  0  0⎤  ⎡0  0  0  0⎤  ⎡0  0  0  0⎤  ⎡0  0  0  0⎤⎤\n",
       "⎢⎢          ⎥  ⎢          ⎥  ⎢          ⎥  ⎢          ⎥⎥\n",
       "⎢⎢0  0  0  0⎥  ⎢0  0  0  0⎥  ⎢0  0  0  0⎥  ⎢0  0  0  0⎥⎥\n",
       "⎢⎢          ⎥  ⎢          ⎥  ⎢          ⎥  ⎢          ⎥⎥\n",
       "⎢⎢0  0  0  0⎥  ⎢0  0  0  0⎥  ⎢0  0  0  0⎥  ⎢0  0  0  0⎥⎥\n",
       "⎢⎢          ⎥  ⎢          ⎥  ⎢          ⎥  ⎢          ⎥⎥\n",
       "⎣⎣0  0  0  0⎦  ⎣0  0  0  0⎦  ⎣0  0  0  0⎦  ⎣0  0  0  0⎦⎦"
      ]
     },
     "execution_count": 46,
     "metadata": {},
     "output_type": "execute_result"
    }
   ],
   "source": [
    "zeros = reduce(Matrix.add, [Rm(-i, All, All, All)*V(i)\n",
    "                            for i  in range(1, 5)]) - S(All, All, All)\n",
    "zeros.simplify()\n",
    "zeros"
   ]
  },
  {
   "cell_type": "markdown",
   "metadata": {},
   "source": [
    "Another way of tensor creation is to make an instance of the _Tensor_ class with components option. Tensor components stored in _Matrix_ object are  writen to the _components_ dictionary of the instance by this method. "
   ]
  },
  {
   "cell_type": "code",
   "execution_count": 47,
   "metadata": {
    "jupyter": {
     "outputs_hidden": false
    }
   },
   "outputs": [],
   "source": [
    "Z = Tensor('Z', 3, g, components=zeros, components_type=(1, 1, 1))"
   ]
  },
  {
   "cell_type": "code",
   "execution_count": 48,
   "metadata": {
    "jupyter": {
     "outputs_hidden": false
    }
   },
   "outputs": [
    {
     "data": {
      "text/plain": [
       "True"
      ]
     },
     "execution_count": 48,
     "metadata": {},
     "output_type": "execute_result"
    }
   ],
   "source": [
    "not any(Z.components.values())"
   ]
  },
  {
   "cell_type": "markdown",
   "metadata": {},
   "source": [
    "### _Tensor_ class extension"
   ]
  },
  {
   "cell_type": "markdown",
   "metadata": {},
   "source": [
    "As an example of the _Tensor_ class extension you can get the source code of any of the predefined _Tensor_ subclasses"
   ]
  },
  {
   "cell_type": "code",
   "execution_count": 49,
   "metadata": {
    "jupyter": {
     "outputs_hidden": false
    }
   },
   "outputs": [
    {
     "name": "stdout",
     "output_type": "stream",
     "text": [
      "['Christoffel', 'Ricci', 'Riemann', 'Einstein', 'Geodesic']\n"
     ]
    }
   ],
   "source": [
    "print([cls.__name__ for cls in vars()['Tensor'].__subclasses__()])"
   ]
  },
  {
   "cell_type": "code",
   "execution_count": 50,
   "metadata": {
    "jupyter": {
     "outputs_hidden": false
    }
   },
   "outputs": [
    {
     "data": {
      "text/plain": [
       "(['class Christoffel(Tensor):\\n',\n",
       "  '    r\"\"\"Christoffel.\\n',\n",
       "  '\\n',\n",
       "  '    Represents a class of Christoffel symbols of the first and second kind.\\n',\n",
       "  '\\n',\n",
       "  '    Parameters\\n',\n",
       "  '    ==========\\n',\n",
       "  '\\n',\n",
       "  '    symbol : python string - name of the Christoffel symbol\\n',\n",
       "  '    metric : GraviPy MtricTensor object\\n',\n",
       "  '\\n',\n",
       "  '    Examples\\n',\n",
       "  '    ========\\n',\n",
       "  '\\n',\n",
       "  '    Define a Christoffel symbols for the Schwarzschild metric:\\n',\n",
       "  '\\n',\n",
       "  '    >>> from gravipy import *\\n',\n",
       "  \"    >>> t, r, theta, phi = symbols('t, r, \\\\\\\\theta, \\\\phi')\\n\",\n",
       "  \"    >>> chi = Coordinates('\\\\chi', [t, r, theta, phi])\\n\",\n",
       "  \"    >>> M = Symbol('M')\\n\",\n",
       "  '    >>> Metric = diag(-(1 - 2 * M / r), 1 / (1 - 2 * M / r), r ** 2,\\n',\n",
       "  '    ...                  r ** 2 * sin(theta) ** 2)\\n',\n",
       "  \"    >>> g = MetricTensor('g', chi, Metric)\\n\",\n",
       "  \"    >>> Ga = Christoffel('Ga', g)\\n\",\n",
       "  '    >>> Ga(-1, 2, 1)\\n',\n",
       "  '    -M/(r*(2*M - r))\\n',\n",
       "  '    >>> Ga(2, All, All)\\n',\n",
       "  '    Matrix([\\n',\n",
       "  '    [M/r**2,               0,  0,                 0],\\n',\n",
       "  '    [     0, -M/(2*M - r)**2,  0,                 0],\\n',\n",
       "  '    [     0,               0, -r,                 0],\\n',\n",
       "  '    [     0,               0,  0, -r*sin(\\\\theta)**2]])\\n',\n",
       "  '    >>> Ga(1, -1, 2) # doctest: +IGNORE_EXCEPTION_DETAIL\\n',\n",
       "  '    Traceback (most recent call last):\\n',\n",
       "  '    GraviPyError: \"Tensor component Ga(1, -1, 2) doesn\\'t  exist\"\\n',\n",
       "  '\\n',\n",
       "  '    \"\"\"\\n',\n",
       "  '\\n',\n",
       "  '    def __init__(self, symbol, metric, *args, **kwargs):\\n',\n",
       "  '        super(Christoffel, self).__init__(\\n',\n",
       "  '            symbol, 3, metric, index_types=(0, 1, 1), *args, **kwargs)\\n',\n",
       "  '        self.is_connection = True\\n',\n",
       "  '        self.conn = self\\n',\n",
       "  '        self.metric.conn = self\\n',\n",
       "  '\\n',\n",
       "  '    def _compute_covariant_component(self, idxs):\\n',\n",
       "  '        component = Rational(1, 2) * (\\n',\n",
       "  '            self.metric(idxs[0], idxs[1]).diff(self.coords(-idxs[2])) +\\n',\n",
       "  '            self.metric(idxs[0], idxs[2]).diff(self.coords(-idxs[1])) -\\n',\n",
       "  '            self.metric(idxs[1], idxs[2]).diff(self.coords(-idxs[0]))) \\\\\\n',\n",
       "  '            .together().simplify()\\n',\n",
       "  '        self.components.update({idxs: component})\\n',\n",
       "  '        if self.apply_tensor_symmetry:\\n',\n",
       "  '            self.components.update({(idxs[0], idxs[2], idxs[1]): component})\\n',\n",
       "  '        return component\\n'],\n",
       " 515)"
      ]
     },
     "execution_count": 50,
     "metadata": {},
     "output_type": "execute_result"
    }
   ],
   "source": [
    "inspect.getsourcelines(Christoffel)"
   ]
  }
 ],
 "metadata": {
  "kernelspec": {
   "display_name": "Python 3",
   "language": "python",
   "name": "python3"
  },
  "language_info": {
   "codemirror_mode": {
    "name": "ipython",
    "version": 3
   },
   "file_extension": ".py",
   "mimetype": "text/x-python",
   "name": "python",
   "nbconvert_exporter": "python",
   "pygments_lexer": "ipython3",
   "version": "3.7.5"
  }
 },
 "nbformat": 4,
 "nbformat_minor": 4
}
