{
 "cells": [
  {
   "cell_type": "markdown",
   "metadata": {},
   "source": [
    "# GraviPy - tutorial\n",
    "\n"
   ]
  },
  {
   "cell_type": "markdown",
   "metadata": {},
   "source": [
    "To start working with the gravipy package you must load the package and initialize a pretty-printing mode in Jupyter environment\n",
    "### 载入函数"
   ]
  },
  {
   "cell_type": "code",
   "execution_count": 8,
   "metadata": {
    "jupyter": {
     "outputs_hidden": false
    }
   },
   "outputs": [],
   "source": [
    "from gravipy.tensorial import * # import GraviPy package\n",
    "from sympy import init_printing\n",
    "import inspect\n",
    "init_printing()"
   ]
  },
  {
   "cell_type": "markdown",
   "metadata": {},
   "source": [
    "### Contravariant: 逆变   \n",
    "### Covariant: 协变"
   ]
  },
  {
   "cell_type": "markdown",
   "metadata": {},
   "source": [
    "# 1. 坐标系和度规张量 ( _Coordinates_ and _MetricTensor_ )"
   ]
  },
  {
   "cell_type": "markdown",
   "metadata": {},
   "source": [
    "### a. 选定参考系 (choose coordinates)\n",
    "### b. 针对选定空间定义度规张量 (define a metric tensor of a particular space). \n",
    "\n",
    "### Let's take, for example, the Schwarzschild metric - vacuum solution to the Einstein's field equations which describes the gravitational field of a spherical mass distribution."
   ]
  },
  {
   "cell_type": "markdown",
   "metadata": {},
   "source": [
    "### 1.1 定义变量符号 (define some symbolic variables )"
   ]
  },
  {
   "cell_type": "code",
   "execution_count": 9,
   "metadata": {
    "jupyter": {
     "outputs_hidden": false
    }
   },
   "outputs": [],
   "source": [
    "# for (G=c=1)\n",
    "t, r, theta, phi, M = symbols('t, r, \\\\theta, \\phi, M')"
   ]
  },
  {
   "cell_type": "code",
   "execution_count": 209,
   "metadata": {},
   "outputs": [],
   "source": [
    "# for SI units\n",
    "t, r, theta, phi, M = symbols('t, r, \\\\theta, \\phi, GM/c^2')"
   ]
  },
  {
   "cell_type": "markdown",
   "metadata": {},
   "source": [
    "### 1.2 利用 **Coordinates** 类创建一个四维坐标对象 (create a coordinate four-vector object instantiating the Coordinates class)\n",
    "## $x^{\\mu}$"
   ]
  },
  {
   "cell_type": "code",
   "execution_count": 10,
   "metadata": {},
   "outputs": [
    {
     "data": {
      "image/png": "[encoded data removed]",
      "text/latex": [
       "$\\displaystyle \\left\\{ \\left( -4\\right) : \\phi, \\  \\left( -3\\right) : \\theta, \\  \\left( -2\\right) : r, \\  \\left( -1\\right) : t\\right\\}$"
      ],
      "text/plain": [
       "{(-4,): \\phi, (-3,): \\theta, (-2,): r, (-1,): t}"
      ]
     },
     "execution_count": 10,
     "metadata": {},
     "output_type": "execute_result"
    }
   ],
   "source": [
    "x = Coordinates('\\mu', [t, r, theta, phi])\n",
    "x.components"
   ]
  },
  {
   "cell_type": "markdown",
   "metadata": {},
   "source": [
    " Each component of any tensor object, can be computed by calling the appropriate instance of the _GeneralTensor_ subclass with indices as arguments. \n",
    "### 协变指标使用正数!! ( The covariant indices take positive integer values (1, 2, ..., dim).  )\n",
    "### 逆变指标使用负数!! ( The contravariant indices take negative values (-1, -2, ..., -dim).  )"
   ]
  },
  {
   "cell_type": "code",
   "execution_count": 11,
   "metadata": {
    "jupyter": {
     "outputs_hidden": false
    }
   },
   "outputs": [
    {
     "data": {
      "image/png": "[encoded data removed]",
      "text/latex": [
       "$\\displaystyle \\left[\\begin{matrix}t & r & \\theta & \\phi\\end{matrix}\\right]$"
      ],
      "text/plain": [
       "[t  r  \\theta  \\phi]"
      ]
     },
     "execution_count": 11,
     "metadata": {},
     "output_type": "execute_result"
    }
   ],
   "source": [
    "x(-All)"
   ]
  },
  {
   "cell_type": "code",
   "execution_count": 12,
   "metadata": {},
   "outputs": [
    {
     "data": {
      "image/png": "[encoded data removed]",
      "text/latex": [
       "$\\displaystyle t$"
      ],
      "text/plain": [
       "t"
      ]
     },
     "execution_count": 12,
     "metadata": {},
     "output_type": "execute_result"
    }
   ],
   "source": [
    "#x.symbol\n",
    "x(-1)"
   ]
  },
  {
   "cell_type": "markdown",
   "metadata": {},
   "source": [
    "### 定义张量对角元素"
   ]
  },
  {
   "cell_type": "markdown",
   "metadata": {},
   "source": [
    "### 史瓦施度规 (Schwarzschild metric)"
   ]
  },
  {
   "cell_type": "code",
   "execution_count": 13,
   "metadata": {},
   "outputs": [],
   "source": [
    "# define a matrix of a metric tensor components\n",
    "Metric = diag(-(1-2*M/r), 1/(1-2*M/r), r**2, r**2*sin(theta)**2)  "
   ]
  },
  {
   "cell_type": "markdown",
   "metadata": {},
   "source": [
    "### 测试度规"
   ]
  },
  {
   "cell_type": "code",
   "execution_count": 146,
   "metadata": {},
   "outputs": [],
   "source": [
    "# define a matrix of a metric tensor components\n",
    "Metric = diag(-(1-2*M/r), 1, r**2, r**2*sin(theta)**2)  "
   ]
  },
  {
   "cell_type": "markdown",
   "metadata": {},
   "source": [
    "### 创建度规张量 $g$"
   ]
  },
  {
   "cell_type": "code",
   "execution_count": 14,
   "metadata": {},
   "outputs": [],
   "source": [
    "# create a metric tensor object instantiating the MetricTensor class\n",
    "g = MetricTensor('g_{\\mu\\nu}', x, Metric)"
   ]
  },
  {
   "cell_type": "code",
   "execution_count": 15,
   "metadata": {},
   "outputs": [
    {
     "data": {
      "image/png": "[encoded data removed]",
      "text/latex": [
       "$\\displaystyle g_{\\mu\n",
       "u}$"
      ],
      "text/plain": [
       "g_{\\mu\n",
       "  u}  "
      ]
     },
     "execution_count": 15,
     "metadata": {},
     "output_type": "execute_result"
    }
   ],
   "source": [
    "#MetricTensor?\n",
    "g.symbol"
   ]
  },
  {
   "cell_type": "markdown",
   "metadata": {},
   "source": [
    "## $g_{\\mu\\nu}$"
   ]
  },
  {
   "cell_type": "code",
   "execution_count": 16,
   "metadata": {
    "jupyter": {
     "outputs_hidden": false
    }
   },
   "outputs": [
    {
     "data": {
      "image/png": "[encoded data removed]",
      "text/latex": [
       "$\\displaystyle \\left[\\begin{matrix}\\frac{2 M}{r} - 1 & 0 & 0 & 0\\\\0 & \\frac{1}{- \\frac{2 M}{r} + 1} & 0 & 0\\\\0 & 0 & r^{2} & 0\\\\0 & 0 & 0 & r^{2} \\sin^{2}{\\left(\\theta \\right)}\\end{matrix}\\right]$"
      ],
      "text/plain": [
       "⎡2⋅M                                    ⎤\n",
       "⎢─── - 1      0      0          0       ⎥\n",
       "⎢ r                                     ⎥\n",
       "⎢                                       ⎥\n",
       "⎢             1                         ⎥\n",
       "⎢   0     ─────────  0          0       ⎥\n",
       "⎢           2⋅M                         ⎥\n",
       "⎢         - ─── + 1                     ⎥\n",
       "⎢            r                          ⎥\n",
       "⎢                                       ⎥\n",
       "⎢                     2                 ⎥\n",
       "⎢   0         0      r          0       ⎥\n",
       "⎢                                       ⎥\n",
       "⎢                         2    2        ⎥\n",
       "⎣   0         0      0   r ⋅sin (\\theta)⎦"
      ]
     },
     "execution_count": 16,
     "metadata": {},
     "output_type": "execute_result"
    }
   ],
   "source": [
    "g(All, All)"
   ]
  },
  {
   "cell_type": "code",
   "execution_count": 17,
   "metadata": {
    "jupyter": {
     "outputs_hidden": false
    }
   },
   "outputs": [
    {
     "data": {
      "image/png": "[encoded data removed]",
      "text/latex": [
       "$\\displaystyle \\left[\\begin{matrix}0 & 0 & 0 & r^{2} \\sin^{2}{\\left(\\theta \\right)}\\end{matrix}\\right]$"
      ],
      "text/plain": [
       "⎡          2    2        ⎤\n",
       "⎣0  0  0  r ⋅sin (\\theta)⎦"
      ]
     },
     "execution_count": 17,
     "metadata": {},
     "output_type": "execute_result"
    }
   ],
   "source": [
    "g(All, 4)"
   ]
  },
  {
   "cell_type": "markdown",
   "metadata": {},
   "source": [
    "## $g^{\\mu \\nu}$"
   ]
  },
  {
   "cell_type": "code",
   "execution_count": 18,
   "metadata": {},
   "outputs": [
    {
     "data": {
      "image/png": "[encoded data removed]",
      "text/latex": [
       "$\\displaystyle \\left[\\begin{matrix}\\frac{1}{\\frac{2 M}{r} - 1} & 0 & 0 & 0\\\\0 & - \\frac{2 M}{r} + 1 & 0 & 0\\\\0 & 0 & \\frac{1}{r^{2}} & 0\\\\0 & 0 & 0 & \\frac{1}{r^{2} \\sin^{2}{\\left(\\theta \\right)}}\\end{matrix}\\right]$"
      ],
      "text/plain": [
       "⎡   1                                   ⎤\n",
       "⎢───────      0      0          0       ⎥\n",
       "⎢2⋅M                                    ⎥\n",
       "⎢─── - 1                                ⎥\n",
       "⎢ r                                     ⎥\n",
       "⎢                                       ⎥\n",
       "⎢           2⋅M                         ⎥\n",
       "⎢   0     - ─── + 1  0          0       ⎥\n",
       "⎢            r                          ⎥\n",
       "⎢                                       ⎥\n",
       "⎢                    1                  ⎥\n",
       "⎢   0         0      ──         0       ⎥\n",
       "⎢                     2                 ⎥\n",
       "⎢                    r                  ⎥\n",
       "⎢                                       ⎥\n",
       "⎢                               1       ⎥\n",
       "⎢   0         0      0   ───────────────⎥\n",
       "⎢                         2    2        ⎥\n",
       "⎣                        r ⋅sin (\\theta)⎦"
      ]
     },
     "execution_count": 18,
     "metadata": {},
     "output_type": "execute_result"
    }
   ],
   "source": [
    "g(-All, -All)"
   ]
  },
  {
   "cell_type": "code",
   "execution_count": 19,
   "metadata": {
    "jupyter": {
     "outputs_hidden": false
    }
   },
   "outputs": [
    {
     "data": {
      "image/png": "[encoded data removed]",
      "text/latex": [
       "$\\displaystyle \\left[\\begin{matrix}0 & 0 & 0 & \\frac{1}{r^{2} \\sin^{2}{\\left(\\theta \\right)}}\\end{matrix}\\right]$"
      ],
      "text/plain": [
       "⎡                1       ⎤\n",
       "⎢0  0  0  ───────────────⎥\n",
       "⎢          2    2        ⎥\n",
       "⎣         r ⋅sin (\\theta)⎦"
      ]
     },
     "execution_count": 19,
     "metadata": {},
     "output_type": "execute_result"
    }
   ],
   "source": [
    "g(-All, -4)"
   ]
  },
  {
   "cell_type": "markdown",
   "metadata": {},
   "source": [
    "## $g^{\\mu}_{\\ \\nu} = \\delta^{\\mu}_{\\ \\nu}$"
   ]
  },
  {
   "cell_type": "code",
   "execution_count": 20,
   "metadata": {
    "jupyter": {
     "outputs_hidden": false
    }
   },
   "outputs": [
    {
     "data": {
      "image/png": "[encoded data removed]",
      "text/latex": [
       "$\\displaystyle \\left[\\begin{matrix}1 & 0 & 0 & 0\\\\0 & 1 & 0 & 0\\\\0 & 0 & 1 & 0\\\\0 & 0 & 0 & 1\\end{matrix}\\right]$"
      ],
      "text/plain": [
       "⎡1  0  0  0⎤\n",
       "⎢          ⎥\n",
       "⎢0  1  0  0⎥\n",
       "⎢          ⎥\n",
       "⎢0  0  1  0⎥\n",
       "⎢          ⎥\n",
       "⎣0  0  0  1⎦"
      ]
     },
     "execution_count": 20,
     "metadata": {},
     "output_type": "execute_result"
    }
   ],
   "source": [
    "g(-All, All)"
   ]
  },
  {
   "cell_type": "markdown",
   "metadata": {},
   "source": [
    "## $g_{\\mu\\nu} x^{\\mu} = x_{\\nu}$"
   ]
  },
  {
   "cell_type": "code",
   "execution_count": 21,
   "metadata": {},
   "outputs": [
    {
     "data": {
      "image/png": "[encoded data removed]",
      "text/latex": [
       "$\\displaystyle \\left[\\begin{matrix}t \\left(\\frac{2 M}{r} - 1\\right) & \\frac{r}{- \\frac{2 M}{r} + 1} & \\theta r^{2} & \\phi r^{2} \\sin^{2}{\\left(\\theta \\right)}\\end{matrix}\\right]$"
      ],
      "text/plain": [
       "⎡  ⎛2⋅M    ⎞      r              2        2    2        ⎤\n",
       "⎢t⋅⎜─── - 1⎟  ─────────  \\theta⋅r   \\phi⋅r ⋅sin (\\theta)⎥\n",
       "⎢  ⎝ r     ⎠    2⋅M                                     ⎥\n",
       "⎢             - ─── + 1                                 ⎥\n",
       "⎣                r                                      ⎦"
      ]
     },
     "execution_count": 21,
     "metadata": {},
     "output_type": "execute_result"
    }
   ],
   "source": [
    "x(All)"
   ]
  },
  {
   "cell_type": "code",
   "execution_count": 22,
   "metadata": {
    "jupyter": {
     "outputs_hidden": false
    }
   },
   "outputs": [
    {
     "data": {
      "image/png": "[encoded data removed]",
      "text/latex": [
       "$\\displaystyle \\left\\{ \\left( -4\\right) : \\phi, \\  \\left( -3\\right) : \\theta, \\  \\left( -2\\right) : r, \\  \\left( -1\\right) : t, \\  \\left( 1\\right) : t \\left(\\frac{2 M}{r} - 1\\right), \\  \\left( 2\\right) : \\frac{r}{- \\frac{2 M}{r} + 1}, \\  \\left( 3\\right) : \\theta r^{2}, \\  \\left( 4\\right) : \\phi r^{2} \\sin^{2}{\\left(\\theta \\right)}\\right\\}$"
      ],
      "text/plain": [
       "⎧                                                        ⎛2⋅M    ⎞            \n",
       "⎪(-4,): \\phi, (-3,): \\theta, (-2,): r, (-1,): t, (1,): t⋅⎜─── - 1⎟, (2,): ────\n",
       "⎨                                                        ⎝ r     ⎠          2⋅\n",
       "⎪                                                                         - ──\n",
       "⎩                                                                            r\n",
       "\n",
       "r                    2              2    2        ⎫\n",
       "─────, (3,): \\theta⋅r , (4,): \\phi⋅r ⋅sin (\\theta)⎪\n",
       "M                                                 ⎬\n",
       "─ + 1                                             ⎪\n",
       "                                                  ⎭"
      ]
     },
     "execution_count": 22,
     "metadata": {},
     "output_type": "execute_result"
    }
   ],
   "source": [
    "x.components"
   ]
  },
  {
   "cell_type": "markdown",
   "metadata": {},
   "source": [
    "Matrix representation of a tensor can be obtained in the following way"
   ]
  },
  {
   "cell_type": "markdown",
   "metadata": {},
   "source": [
    "# 2. 预定义张量 (Predefined _Tensor_ Classes)"
   ]
  },
  {
   "cell_type": "markdown",
   "metadata": {},
   "source": [
    "The GraviPy package contains a number of the _Tensor_ subclasses that can be used to calculate a tensor components. The _Tensor_ subclasses available in the current version of GraviPy package are"
   ]
  },
  {
   "cell_type": "code",
   "execution_count": 23,
   "metadata": {
    "jupyter": {
     "outputs_hidden": false
    }
   },
   "outputs": [
    {
     "name": "stdout",
     "output_type": "stream",
     "text": [
      "['Christoffel', 'Ricci', 'Riemann', 'Einstein', 'Geodesic']\n"
     ]
    }
   ],
   "source": [
    "print([cls.__name__ for cls in vars()['Tensor'].__subclasses__()])"
   ]
  },
  {
   "cell_type": "markdown",
   "metadata": {},
   "source": [
    "## 2.1 克里斯托夫记号 (The _Christoffel_ symbols )"
   ]
  },
  {
   "cell_type": "markdown",
   "metadata": {},
   "source": [
    "The first one is the _Christoffel_ class that represents Christoffel symbols of the first and second kind. (Note that the Christoffel symbols are not tensors) Components of the _Christoffel_ objects are computed from the below formula "
   ]
  },
  {
   "cell_type": "markdown",
   "metadata": {},
   "source": [
    "## (讲义 1.37) $$ \\Gamma^{\\sigma}_{\\ \\mu \\nu} = \\frac{1}{2}g^{\\sigma \\rho}(g_{\\rho \\mu, \\nu} + g_{\\rho \\nu, \\mu} - g_{\\mu \\nu, \\rho})\n",
    "$$ \n",
    "\n",
    "## $$ \\Gamma_{\\rho \\mu \\nu} = g_{\\rho \\sigma}\\Gamma^{\\sigma}_{\\ \\mu \\nu} = \\frac{1}{2}(g_{\\rho \\mu, \\nu} + g_{\\rho \\nu, \\mu} - g_{\\mu \\nu, \\rho})$$\n"
   ]
  },
  {
   "cell_type": "markdown",
   "metadata": {},
   "source": [
    "Let's create an instance of the _Christoffel_ class for the Schwarzschild metric g and compute some components of the object"
   ]
  },
  {
   "cell_type": "code",
   "execution_count": 24,
   "metadata": {
    "jupyter": {
     "outputs_hidden": false
    }
   },
   "outputs": [],
   "source": [
    "Gamma = Christoffel('Gamma', g)"
   ]
  },
  {
   "cell_type": "markdown",
   "metadata": {},
   "source": [
    "$\\Gamma^{1}_{21}$"
   ]
  },
  {
   "cell_type": "code",
   "execution_count": 25,
   "metadata": {},
   "outputs": [
    {
     "data": {
      "image/png": "[encoded data removed]",
      "text/latex": [
       "$\\displaystyle - \\frac{M}{r \\left(2 M - r\\right)}$"
      ],
      "text/plain": [
       "    -M     \n",
       "───────────\n",
       "r⋅(2⋅M - r)"
      ]
     },
     "execution_count": 25,
     "metadata": {},
     "output_type": "execute_result"
    }
   ],
   "source": [
    "Gamma(-1, 2, 1)"
   ]
  },
  {
   "cell_type": "markdown",
   "metadata": {},
   "source": [
    "Each component of the _Tensor_ object is computed only once due to memoization procedure implemented in the _Tensor_ class. Computed value of a tensor component is stored in _components_ dictionary (attribute of a _Tensor_ instance) and returned by the next call to the instance."
   ]
  },
  {
   "cell_type": "code",
   "execution_count": 26,
   "metadata": {
    "jupyter": {
     "outputs_hidden": false
    }
   },
   "outputs": [
    {
     "data": {
      "image/png": "[encoded data removed]",
      "text/latex": [
       "$\\displaystyle \\left\\{ \\left( -1, \\  2, \\  1\\right) : - \\frac{M}{r \\left(2 M - r\\right)}, \\  \\left( 1, \\  1, \\  2\\right) : - \\frac{M}{r^{2}}, \\  \\left( 1, \\  2, \\  1\\right) : - \\frac{M}{r^{2}}, \\  \\left( 2, \\  1, \\  2\\right) : 0, \\  \\left( 2, \\  2, \\  1\\right) : 0, \\  \\left( 3, \\  1, \\  2\\right) : 0, \\  \\left( 3, \\  2, \\  1\\right) : 0, \\  \\left( 4, \\  1, \\  2\\right) : 0, \\  \\left( 4, \\  2, \\  1\\right) : 0\\right\\}$"
      ],
      "text/plain": [
       "⎧                -M                  -M              -M                       \n",
       "⎪(-1, 2, 1): ───────────, (1, 1, 2): ───, (1, 2, 1): ───, (2, 1, 2): 0, (2, 2,\n",
       "⎨            r⋅(2⋅M - r)               2               2                      \n",
       "⎪                                     r               r                       \n",
       "⎩                                                                             \n",
       "\n",
       "                                                              ⎫\n",
       " 1): 0, (3, 1, 2): 0, (3, 2, 1): 0, (4, 1, 2): 0, (4, 2, 1): 0⎪\n",
       "                                                              ⎬\n",
       "                                                              ⎪\n",
       "                                                              ⎭"
      ]
     },
     "execution_count": 26,
     "metadata": {},
     "output_type": "execute_result"
    }
   ],
   "source": [
    "Gamma.components"
   ]
  },
  {
   "cell_type": "markdown",
   "metadata": {},
   "source": [
    "The above dictionary consists of two elements because the symmetry of the Christoffel symbols is implemented in the _Christoffel_ class. "
   ]
  },
  {
   "cell_type": "markdown",
   "metadata": {},
   "source": [
    "If necessary, you can clear the _components_ dictionary"
   ]
  },
  {
   "cell_type": "code",
   "execution_count": 132,
   "metadata": {
    "jupyter": {
     "outputs_hidden": false
    }
   },
   "outputs": [],
   "source": [
    "#Gamma.components = {}\n",
    "#Gamma.components"
   ]
  },
  {
   "cell_type": "markdown",
   "metadata": {},
   "source": [
    "The _Matrix_ representation of the Christoffel symbols is the following"
   ]
  },
  {
   "cell_type": "code",
   "execution_count": 27,
   "metadata": {
    "jupyter": {
     "outputs_hidden": false
    }
   },
   "outputs": [
    {
     "data": {
      "image/png": "[encoded data removed]",
      "text/latex": [
       "$\\displaystyle \\left[\\begin{matrix}\\left[\\begin{matrix}0 & - \\frac{M}{r \\left(2 M - r\\right)} & 0 & 0\\\\- \\frac{M}{r \\left(2 M - r\\right)} & 0 & 0 & 0\\\\0 & 0 & 0 & 0\\\\0 & 0 & 0 & 0\\end{matrix}\\right] & \\left[\\begin{matrix}\\frac{M \\left(- 2 M + r\\right)}{r^{3}} & 0 & 0 & 0\\\\0 & - \\frac{M \\left(- 2 M + r\\right)}{r \\left(2 M - r\\right)^{2}} & 0 & 0\\\\0 & 0 & 2 M - r & 0\\\\0 & 0 & 0 & - \\left(- 2 M + r\\right) \\sin^{2}{\\left(\\theta \\right)}\\end{matrix}\\right] & \\left[\\begin{matrix}0 & 0 & 0 & 0\\\\0 & 0 & \\frac{1}{r} & 0\\\\0 & \\frac{1}{r} & 0 & 0\\\\0 & 0 & 0 & - \\frac{\\sin{\\left(2 \\theta \\right)}}{2}\\end{matrix}\\right] & \\left[\\begin{matrix}0 & 0 & 0 & 0\\\\0 & 0 & 0 & \\frac{1}{r}\\\\0 & 0 & 0 & \\frac{\\sin{\\left(2 \\theta \\right)}}{2 \\sin^{2}{\\left(\\theta \\right)}}\\\\0 & \\frac{1}{r} & \\frac{\\sin{\\left(2 \\theta \\right)}}{2 \\sin^{2}{\\left(\\theta \\right)}} & 0\\end{matrix}\\right]\\end{matrix}\\right]$"
      ],
      "text/plain": [
       "⎡                                  ⎡M⋅(-2⋅M + r)                              \n",
       "⎢                                  ⎢────────────        0            0        \n",
       "⎢⎡                 -M           ⎤  ⎢      3                                   \n",
       "⎢⎢     0       ───────────  0  0⎥  ⎢     r                                    \n",
       "⎢⎢             r⋅(2⋅M - r)      ⎥  ⎢                                          \n",
       "⎢⎢                              ⎥  ⎢              -M⋅(-2⋅M + r)               \n",
       "⎢⎢    -M                        ⎥  ⎢     0        ──────────────     0        \n",
       "⎢⎢───────────       0       0  0⎥  ⎢                          2               \n",
       "⎢⎢r⋅(2⋅M - r)                   ⎥  ⎢               r⋅(2⋅M - r)                \n",
       "⎢⎢                              ⎥  ⎢                                          \n",
       "⎢⎢     0            0       0  0⎥  ⎢     0              0         2⋅M - r     \n",
       "⎢⎢                              ⎥  ⎢                                          \n",
       "⎢⎣     0            0       0  0⎦  ⎢                                          \n",
       "⎢                                  ⎣     0              0            0     -(-\n",
       "⎣                                                                             \n",
       "\n",
       "                     ⎤                              ⎡0  0        0            \n",
       "        0            ⎥  ⎡0  0  0         0       ⎤  ⎢                         \n",
       "                     ⎥  ⎢                        ⎥  ⎢                         \n",
       "                     ⎥  ⎢      1                 ⎥  ⎢0  0        0            \n",
       "                     ⎥  ⎢0  0  ─         0       ⎥  ⎢                         \n",
       "                     ⎥  ⎢      r                 ⎥  ⎢                         \n",
       "        0            ⎥  ⎢                        ⎥  ⎢                      sin\n",
       "                     ⎥  ⎢   1                    ⎥  ⎢0  0        0         ───\n",
       "                     ⎥  ⎢0  ─  0         0       ⎥  ⎢                         \n",
       "                     ⎥  ⎢   r                    ⎥  ⎢                      2⋅s\n",
       "        0            ⎥  ⎢                        ⎥  ⎢                         \n",
       "                     ⎥  ⎢         -sin(2⋅\\theta) ⎥  ⎢   1  sin(2⋅\\theta)      \n",
       "            2        ⎥  ⎢0  0  0  ───────────────⎥  ⎢0  ─  ──────────────     \n",
       "2⋅M + r)⋅sin (\\theta)⎦  ⎣                2       ⎦  ⎢   r       2             \n",
       "                                                    ⎣      2⋅sin (\\theta)     \n",
       "\n",
       "   0       ⎤⎤\n",
       "           ⎥⎥\n",
       "   1       ⎥⎥\n",
       "   ─       ⎥⎥\n",
       "   r       ⎥⎥\n",
       "           ⎥⎥\n",
       "(2⋅\\theta) ⎥⎥\n",
       "───────────⎥⎥\n",
       "  2        ⎥⎥\n",
       "in (\\theta)⎥⎥\n",
       "           ⎥⎥\n",
       "           ⎥⎥\n",
       "   0       ⎥⎥\n",
       "           ⎥⎥\n",
       "           ⎦⎦"
      ]
     },
     "execution_count": 27,
     "metadata": {},
     "output_type": "execute_result"
    }
   ],
   "source": [
    "Gamma(-All, All, All)"
   ]
  },
  {
   "cell_type": "markdown",
   "metadata": {},
   "source": [
    "You can get help on any of classes mentioned before by running the command"
   ]
  },
  {
   "cell_type": "code",
   "execution_count": 28,
   "metadata": {
    "jupyter": {
     "outputs_hidden": false
    }
   },
   "outputs": [],
   "source": [
    "#help(Christoffel)\n",
    "#Gamma.is_tensor"
   ]
  },
  {
   "cell_type": "markdown",
   "metadata": {},
   "source": [
    "Try also \"_Christoffel?_\" and  \"_Christoffel??_\""
   ]
  },
  {
   "cell_type": "markdown",
   "metadata": {},
   "source": [
    "## 2.2 黎曼张量 (_Riemann_ tensor)"
   ]
  },
  {
   "cell_type": "markdown",
   "metadata": {},
   "source": [
    "## (GraviPy 定义) $$ R_{\\mu \\nu \\rho \\sigma} = \\frac{\\partial \\Gamma_{\\mu \\nu \\sigma}}{\\partial x^{\\rho}} - \\frac{\\partial \\Gamma_{\\mu \\nu \\rho}}{\\partial x^{\\sigma}} + \\Gamma^{\\alpha}_{\\ \\nu \\sigma}\\Gamma_{\\mu \\rho \\alpha} - \\Gamma^{\\alpha}_{\\ \\nu \\rho}\\Gamma_{\\mu \\sigma \\alpha} - \\frac{\\partial g_{\\mu \\alpha}}{\\partial x^{\\rho}}\\Gamma^{\\alpha}_{\\ \\nu \\sigma} + \\frac{\\partial g_{\\mu \\alpha}}{\\partial x^{\\sigma}}\\Gamma^{\\alpha}_{\\ \\nu \\rho} $$"
   ]
  },
  {
   "cell_type": "markdown",
   "metadata": {},
   "source": [
    "##  (讲义 1.46) $$ R^{\\rho}_{\\ \\mu \\sigma \\nu} = \\frac{\\partial \\Gamma^{\\rho}_{\\ \\mu \\nu}}{\\partial x^{\\sigma}} - \\frac{\\partial \\Gamma^{\\rho}_{\\ \\mu \\sigma}}{\\partial x^{\\nu}} + \\Gamma^{\\rho}_{\\ \\alpha \\sigma} \\Gamma^{\\alpha}_{\\ \\mu \\nu} - \\Gamma^{\\rho}_{\\ \\alpha \\nu}\\Gamma^{\\alpha}_{\\ \\mu \\sigma} $$"
   ]
  },
  {
   "cell_type": "code",
   "execution_count": 29,
   "metadata": {
    "jupyter": {
     "outputs_hidden": false
    }
   },
   "outputs": [],
   "source": [
    "Rm = Riemann('Rm', g)"
   ]
  },
  {
   "cell_type": "markdown",
   "metadata": {},
   "source": [
    "### 输出 $R^{\\mu}_{\\ \\nu \\rho \\sigma}$ 的部分非零分量"
   ]
  },
  {
   "cell_type": "code",
   "execution_count": 30,
   "metadata": {
    "jupyter": {
     "outputs_hidden": false
    }
   },
   "outputs": [
    {
     "data": {
      "text/latex": [
       "$\\displaystyle R_{1212} = - \\frac{2 M}{r^{2} \\left(2 M - r\\right)}$"
      ],
      "text/plain": [
       "<IPython.core.display.Math object>"
      ]
     },
     "metadata": {},
     "output_type": "display_data"
    },
    {
     "data": {
      "text/latex": [
       "$\\displaystyle R_{1313} = \\frac{M \\left(- 2 M + r\\right)}{r \\left(2 M - r\\right)}$"
      ],
      "text/plain": [
       "<IPython.core.display.Math object>"
      ]
     },
     "metadata": {},
     "output_type": "display_data"
    },
    {
     "data": {
      "text/latex": [
       "$\\displaystyle R_{1414} = \\frac{M \\left(- 2 M + r\\right) \\sin^{2}{\\left(\\theta \\right)}}{r \\left(2 M - r\\right)}$"
      ],
      "text/plain": [
       "<IPython.core.display.Math object>"
      ]
     },
     "metadata": {},
     "output_type": "display_data"
    },
    {
     "data": {
      "text/latex": [
       "$\\displaystyle R_{2323} = \\frac{M \\left(- 2 M + r\\right)}{r \\left(2 M - r\\right)}$"
      ],
      "text/plain": [
       "<IPython.core.display.Math object>"
      ]
     },
     "metadata": {},
     "output_type": "display_data"
    },
    {
     "data": {
      "text/latex": [
       "$\\displaystyle R_{2424} = \\frac{M \\left(- 2 M + r\\right) \\sin^{2}{\\left(\\theta \\right)}}{r \\left(2 M - r\\right)}$"
      ],
      "text/plain": [
       "<IPython.core.display.Math object>"
      ]
     },
     "metadata": {},
     "output_type": "display_data"
    },
    {
     "data": {
      "text/latex": [
       "$\\displaystyle R_{3434} = \\frac{2 M \\sin^{2}{\\left(\\theta \\right)}}{r}$"
      ],
      "text/plain": [
       "<IPython.core.display.Math object>"
      ]
     },
     "metadata": {},
     "output_type": "display_data"
    }
   ],
   "source": [
    "from IPython.display import display, Math\n",
    "from sympy import latex\n",
    "for i, j, k, l in list(variations(range(1, 5), 4, True)):\n",
    "    if Rm(i, j, k, l) != 0 and k<l and i<j:\n",
    "        display(Math('R_{'+str(i)+str(j)+str(k)+str(l)+'} = '+ latex(Rm(-i, j, k, l))))"
   ]
  },
  {
   "cell_type": "markdown",
   "metadata": {},
   "source": [
    "### 显示 $R^{\\mu}_{\\ \\nu \\rho \\sigma}$"
   ]
  },
  {
   "cell_type": "code",
   "execution_count": 31,
   "metadata": {
    "jupyter": {
     "outputs_hidden": false
    }
   },
   "outputs": [
    {
     "data": {
      "image/png": "[encoded data removed]",
      "text/latex": [
       "$\\displaystyle \\left[\\begin{matrix}\\left[\\begin{matrix}0 & 0 & 0 & 0\\\\0 & 0 & 0 & 0\\\\0 & 0 & 0 & 0\\\\0 & 0 & 0 & 0\\end{matrix}\\right] & \\left[\\begin{matrix}0 & - \\frac{2 M}{r^{2} \\left(2 M - r\\right)} & 0 & 0\\\\\\frac{2 M}{r^{2} \\left(2 M - r\\right)} & 0 & 0 & 0\\\\0 & 0 & 0 & 0\\\\0 & 0 & 0 & 0\\end{matrix}\\right] & \\left[\\begin{matrix}0 & 0 & \\frac{M \\left(- 2 M + r\\right)}{r \\left(2 M - r\\right)} & 0\\\\0 & 0 & 0 & 0\\\\- \\frac{M \\left(- 2 M + r\\right)}{r \\left(2 M - r\\right)} & 0 & 0 & 0\\\\0 & 0 & 0 & 0\\end{matrix}\\right] & \\left[\\begin{matrix}0 & 0 & 0 & \\frac{M \\left(- 2 M + r\\right) \\sin^{2}{\\left(\\theta \\right)}}{r \\left(2 M - r\\right)}\\\\0 & 0 & 0 & 0\\\\0 & 0 & 0 & 0\\\\- \\frac{M \\left(- 2 M + r\\right) \\sin^{2}{\\left(\\theta \\right)}}{r \\left(2 M - r\\right)} & 0 & 0 & 0\\end{matrix}\\right]\\\\\\left[\\begin{matrix}0 & \\frac{2 M \\left(- 2 M + r\\right)}{r^{4}} & 0 & 0\\\\- \\frac{2 M \\left(- 2 M + r\\right)}{r^{4}} & 0 & 0 & 0\\\\0 & 0 & 0 & 0\\\\0 & 0 & 0 & 0\\end{matrix}\\right] & \\left[\\begin{matrix}0 & 0 & 0 & 0\\\\0 & 0 & 0 & 0\\\\0 & 0 & 0 & 0\\\\0 & 0 & 0 & 0\\end{matrix}\\right] & \\left[\\begin{matrix}0 & 0 & 0 & 0\\\\0 & 0 & \\frac{M \\left(- 2 M + r\\right)}{r \\left(2 M - r\\right)} & 0\\\\0 & - \\frac{M \\left(- 2 M + r\\right)}{r \\left(2 M - r\\right)} & 0 & 0\\\\0 & 0 & 0 & 0\\end{matrix}\\right] & \\left[\\begin{matrix}0 & 0 & 0 & 0\\\\0 & 0 & 0 & \\frac{M \\left(- 2 M + r\\right) \\sin^{2}{\\left(\\theta \\right)}}{r \\left(2 M - r\\right)}\\\\0 & 0 & 0 & 0\\\\0 & - \\frac{M \\left(- 2 M + r\\right) \\sin^{2}{\\left(\\theta \\right)}}{r \\left(2 M - r\\right)} & 0 & 0\\end{matrix}\\right]\\\\\\left[\\begin{matrix}0 & 0 & - \\frac{M \\left(- 2 M + r\\right)}{r^{4}} & 0\\\\0 & 0 & 0 & 0\\\\\\frac{M \\left(- 2 M + r\\right)}{r^{4}} & 0 & 0 & 0\\\\0 & 0 & 0 & 0\\end{matrix}\\right] & \\left[\\begin{matrix}0 & 0 & 0 & 0\\\\0 & 0 & - \\frac{M}{r^{2} \\left(2 M - r\\right)} & 0\\\\0 & \\frac{M}{r^{2} \\left(2 M - r\\right)} & 0 & 0\\\\0 & 0 & 0 & 0\\end{matrix}\\right] & \\left[\\begin{matrix}0 & 0 & 0 & 0\\\\0 & 0 & 0 & 0\\\\0 & 0 & 0 & 0\\\\0 & 0 & 0 & 0\\end{matrix}\\right] & \\left[\\begin{matrix}0 & 0 & 0 & 0\\\\0 & 0 & 0 & 0\\\\0 & 0 & 0 & \\frac{2 M \\sin^{2}{\\left(\\theta \\right)}}{r}\\\\0 & 0 & - \\frac{2 M \\sin^{2}{\\left(\\theta \\right)}}{r} & 0\\end{matrix}\\right]\\\\\\left[\\begin{matrix}0 & 0 & 0 & - \\frac{M \\left(- 2 M + r\\right)}{r^{4}}\\\\0 & 0 & 0 & 0\\\\0 & 0 & 0 & 0\\\\\\frac{M \\left(- 2 M + r\\right)}{r^{4}} & 0 & 0 & 0\\end{matrix}\\right] & \\left[\\begin{matrix}0 & 0 & 0 & 0\\\\0 & 0 & 0 & - \\frac{M}{r^{2} \\left(2 M - r\\right)}\\\\0 & 0 & 0 & 0\\\\0 & \\frac{M}{r^{2} \\left(2 M - r\\right)} & 0 & 0\\end{matrix}\\right] & \\left[\\begin{matrix}0 & 0 & 0 & 0\\\\0 & 0 & 0 & 0\\\\0 & 0 & 0 & - \\frac{2 M}{r}\\\\0 & 0 & \\frac{2 M}{r} & 0\\end{matrix}\\right] & \\left[\\begin{matrix}0 & 0 & 0 & 0\\\\0 & 0 & 0 & 0\\\\0 & 0 & 0 & 0\\\\0 & 0 & 0 & 0\\end{matrix}\\right]\\end{matrix}\\right]$"
      ],
      "text/plain": [
       "⎡                                          ⎡                 -2⋅M           ⎤ \n",
       "⎢                                          ⎢     0        ────────────  0  0⎥ \n",
       "⎢                                          ⎢               2                ⎥ \n",
       "⎢              ⎡0  0  0  0⎤                ⎢              r ⋅(2⋅M - r)      ⎥ \n",
       "⎢              ⎢          ⎥                ⎢                                ⎥ \n",
       "⎢              ⎢0  0  0  0⎥                ⎢    2⋅M                         ⎥ \n",
       "⎢              ⎢          ⎥                ⎢────────────       0        0  0⎥ \n",
       "⎢              ⎢0  0  0  0⎥                ⎢ 2                              ⎥ \n",
       "⎢              ⎢          ⎥                ⎢r ⋅(2⋅M - r)                    ⎥ \n",
       "⎢              ⎣0  0  0  0⎦                ⎢                                ⎥ \n",
       "⎢                                          ⎢     0             0        0  0⎥ \n",
       "⎢                                          ⎢                                ⎥ \n",
       "⎢                                          ⎣     0             0        0  0⎦ \n",
       "⎢                                                                             \n",
       "⎢⎡                  2⋅M⋅(-2⋅M + r)      ⎤                                     \n",
       "⎢⎢       0          ──────────────  0  0⎥                                     \n",
       "⎢⎢                         4            ⎥                                     \n",
       "⎢⎢                        r             ⎥             ⎡0  0  0  0⎤            \n",
       "⎢⎢                                      ⎥             ⎢          ⎥            \n",
       "⎢⎢-2⋅M⋅(-2⋅M + r)                       ⎥             ⎢0  0  0  0⎥            \n",
       "⎢⎢────────────────        0         0  0⎥             ⎢          ⎥            \n",
       "⎢⎢        4                             ⎥             ⎢0  0  0  0⎥            \n",
       "⎢⎢       r                              ⎥             ⎢          ⎥            \n",
       "⎢⎢                                      ⎥             ⎣0  0  0  0⎦            \n",
       "⎢⎢       0                0         0  0⎥                                     \n",
       "⎢⎢                                      ⎥                                     \n",
       "⎢⎣       0                0         0  0⎦                                     \n",
       "⎢                                                                             \n",
       "⎢  ⎡                 -M⋅(-2⋅M + r)    ⎤    ⎡0       0             0        0⎤ \n",
       "⎢  ⎢     0        0  ──────────────  0⎥    ⎢                                ⎥ \n",
       "⎢  ⎢                        4         ⎥    ⎢                     -M         ⎥ \n",
       "⎢  ⎢                       r          ⎥    ⎢0       0        ────────────  0⎥ \n",
       "⎢  ⎢                                  ⎥    ⎢                  2             ⎥ \n",
       "⎢  ⎢     0        0        0         0⎥    ⎢                 r ⋅(2⋅M - r)   ⎥ \n",
       "⎢  ⎢                                  ⎥    ⎢                                ⎥ \n",
       "⎢  ⎢M⋅(-2⋅M + r)                      ⎥    ⎢        M                       ⎥ \n",
       "⎢  ⎢────────────  0        0         0⎥    ⎢0  ────────────       0        0⎥ \n",
       "⎢  ⎢      4                           ⎥    ⎢    2                           ⎥ \n",
       "⎢  ⎢     r                            ⎥    ⎢   r ⋅(2⋅M - r)                 ⎥ \n",
       "⎢  ⎢                                  ⎥    ⎢                                ⎥ \n",
       "⎢  ⎣     0        0        0         0⎦    ⎣0       0             0        0⎦ \n",
       "⎢                                                                             \n",
       "⎢  ⎡                    -M⋅(-2⋅M + r) ⎤    ⎡0       0        0       0      ⎤ \n",
       "⎢  ⎢     0        0  0  ──────────────⎥    ⎢                                ⎥ \n",
       "⎢  ⎢                           4      ⎥    ⎢                        -M      ⎥ \n",
       "⎢  ⎢                          r       ⎥    ⎢0       0        0  ────────────⎥ \n",
       "⎢  ⎢                                  ⎥    ⎢                     2          ⎥ \n",
       "⎢  ⎢     0        0  0        0       ⎥    ⎢                    r ⋅(2⋅M - r)⎥ \n",
       "⎢  ⎢                                  ⎥    ⎢                                ⎥ \n",
       "⎢  ⎢     0        0  0        0       ⎥    ⎢0       0        0       0      ⎥ \n",
       "⎢  ⎢                                  ⎥    ⎢                                ⎥ \n",
       "⎢  ⎢M⋅(-2⋅M + r)                      ⎥    ⎢        M                       ⎥ \n",
       "⎢  ⎢────────────  0  0        0       ⎥    ⎢0  ────────────  0       0      ⎥ \n",
       "⎢  ⎢      4                           ⎥    ⎢    2                           ⎥ \n",
       "⎣  ⎣     r                            ⎦    ⎣   r ⋅(2⋅M - r)                 ⎦ \n",
       "\n",
       "                                       ⎡                                      \n",
       " ⎡                   M⋅(-2⋅M + r)   ⎤  ⎢                                   M⋅(\n",
       " ⎢      0         0  ────────────  0⎥  ⎢             0               0  0  ───\n",
       " ⎢                   r⋅(2⋅M - r)    ⎥  ⎢                                      \n",
       " ⎢                                  ⎥  ⎢                                      \n",
       " ⎢      0         0       0        0⎥  ⎢             0               0  0     \n",
       " ⎢                                  ⎥  ⎢                                      \n",
       " ⎢-M⋅(-2⋅M + r)                     ⎥  ⎢             0               0  0     \n",
       " ⎢──────────────  0       0        0⎥  ⎢                                      \n",
       " ⎢ r⋅(2⋅M - r)                      ⎥  ⎢                 2                    \n",
       " ⎢                                  ⎥  ⎢-M⋅(-2⋅M + r)⋅sin (\\theta)            \n",
       " ⎣      0         0       0        0⎦  ⎢───────────────────────────  0  0     \n",
       "                                       ⎣        r⋅(2⋅M - r)                   \n",
       "                                                                              \n",
       "                                       ⎡0               0               0     \n",
       " ⎡0        0              0        0⎤  ⎢                                      \n",
       " ⎢                                  ⎥  ⎢                                      \n",
       " ⎢                   M⋅(-2⋅M + r)   ⎥  ⎢                                   M⋅(\n",
       " ⎢0        0         ────────────  0⎥  ⎢0               0               0  ───\n",
       " ⎢                   r⋅(2⋅M - r)    ⎥  ⎢                                      \n",
       " ⎢                                  ⎥  ⎢                                      \n",
       " ⎢   -M⋅(-2⋅M + r)                  ⎥  ⎢0               0               0     \n",
       " ⎢0  ──────────────       0        0⎥  ⎢                                      \n",
       " ⎢    r⋅(2⋅M - r)                   ⎥  ⎢                    2                 \n",
       " ⎢                                  ⎥  ⎢   -M⋅(-2⋅M + r)⋅sin (\\theta)         \n",
       " ⎣0        0              0        0⎦  ⎢0  ───────────────────────────  0     \n",
       "                                       ⎣           r⋅(2⋅M - r)                \n",
       "                                                                              \n",
       "                                                ⎡0  0          0              \n",
       "                                                ⎢                             \n",
       "                                                ⎢0  0          0              \n",
       "             ⎡0  0  0  0⎤                       ⎢                             \n",
       "             ⎢          ⎥                       ⎢                             \n",
       "             ⎢0  0  0  0⎥                       ⎢                          2⋅M\n",
       "             ⎢          ⎥                       ⎢0  0          0           ───\n",
       "             ⎢0  0  0  0⎥                       ⎢                             \n",
       "             ⎢          ⎥                       ⎢                             \n",
       "             ⎣0  0  0  0⎦                       ⎢              2              \n",
       "                                                ⎢      -2⋅M⋅sin (\\theta)      \n",
       "                                                ⎢0  0  ──────────────────     \n",
       "                                                ⎣              r              \n",
       "                                                                              \n",
       "                                                                              \n",
       "          ⎡0  0   0     0  ⎤                                                  \n",
       "          ⎢                ⎥                                                  \n",
       "          ⎢0  0   0     0  ⎥                                    ⎡0  0  0  0⎤  \n",
       "          ⎢                ⎥                                    ⎢          ⎥  \n",
       "          ⎢           -2⋅M ⎥                                    ⎢0  0  0  0⎥  \n",
       "          ⎢0  0   0   ─────⎥                                    ⎢          ⎥  \n",
       "          ⎢             r  ⎥                                    ⎢0  0  0  0⎥  \n",
       "          ⎢                ⎥                                    ⎢          ⎥  \n",
       "          ⎢      2⋅M       ⎥                                    ⎣0  0  0  0⎦  \n",
       "          ⎢0  0  ───    0  ⎥                                                  \n",
       "          ⎣       r        ⎦                                                  \n",
       "                                                                              \n",
       "\n",
       "             2        ⎤⎤\n",
       "-2⋅M + r)⋅sin (\\theta)⎥⎥\n",
       "──────────────────────⎥⎥\n",
       "    r⋅(2⋅M - r)       ⎥⎥\n",
       "                      ⎥⎥\n",
       "         0            ⎥⎥\n",
       "                      ⎥⎥\n",
       "         0            ⎥⎥\n",
       "                      ⎥⎥\n",
       "                      ⎥⎥\n",
       "                      ⎥⎥\n",
       "         0            ⎥⎥\n",
       "                      ⎦⎥\n",
       "                       ⎥\n",
       "         0            ⎤⎥\n",
       "                      ⎥⎥\n",
       "             2        ⎥⎥\n",
       "-2⋅M + r)⋅sin (\\theta)⎥⎥\n",
       "──────────────────────⎥⎥\n",
       "    r⋅(2⋅M - r)       ⎥⎥\n",
       "                      ⎥⎥\n",
       "         0            ⎥⎥\n",
       "                      ⎥⎥\n",
       "                      ⎥⎥\n",
       "                      ⎥⎥\n",
       "         0            ⎥⎥\n",
       "                      ⎦⎥\n",
       "                       ⎥\n",
       "    0        ⎤         ⎥\n",
       "             ⎥         ⎥\n",
       "    0        ⎥         ⎥\n",
       "             ⎥         ⎥\n",
       "    2        ⎥         ⎥\n",
       "⋅sin (\\theta)⎥         ⎥\n",
       "─────────────⎥         ⎥\n",
       "    r        ⎥         ⎥\n",
       "             ⎥         ⎥\n",
       "             ⎥         ⎥\n",
       "             ⎥         ⎥\n",
       "    0        ⎥         ⎥\n",
       "             ⎦         ⎥\n",
       "                       ⎥\n",
       "                       ⎥\n",
       "                       ⎥\n",
       "                       ⎥\n",
       "                       ⎥\n",
       "                       ⎥\n",
       "                       ⎥\n",
       "                       ⎥\n",
       "                       ⎥\n",
       "                       ⎥\n",
       "                       ⎥\n",
       "                       ⎥\n",
       "                       ⎥\n",
       "                       ⎦"
      ]
     },
     "execution_count": 31,
     "metadata": {},
     "output_type": "execute_result"
    }
   ],
   "source": [
    "Rm(-All, All, All, All)"
   ]
  },
  {
   "cell_type": "markdown",
   "metadata": {},
   "source": [
    "### 缩并黎曼张量 (Contraction of the _Riemann_ tensor) \n",
    "### $R_{\\mu \\nu} = R^{\\rho}_{\\ \\mu \\rho \\nu} $"
   ]
  },
  {
   "cell_type": "code",
   "execution_count": 34,
   "metadata": {},
   "outputs": [
    {
     "data": {
      "image/png": "[encoded data removed]",
      "text/latex": [
       "$\\displaystyle \\left[\\begin{matrix}0 & 0 & 0 & 0\\\\0 & - \\frac{2 M}{r^{3}} & 0 & 0\\\\0 & 0 & \\frac{M \\left(- 2 M + r\\right)}{r^{2}} & 0\\\\0 & 0 & 0 & \\frac{M \\left(- 2 M + r\\right) \\sin^{2}{\\left(\\theta \\right)}}{r^{2}}\\end{matrix}\\right]$"
      ],
      "text/plain": [
       "⎡0    0         0                    0            ⎤\n",
       "⎢                                                 ⎥\n",
       "⎢   -2⋅M                                          ⎥\n",
       "⎢0  ─────       0                    0            ⎥\n",
       "⎢      3                                          ⎥\n",
       "⎢     r                                           ⎥\n",
       "⎢                                                 ⎥\n",
       "⎢          M⋅(-2⋅M + r)                           ⎥\n",
       "⎢0    0    ────────────              0            ⎥\n",
       "⎢                2                                ⎥\n",
       "⎢               r                                 ⎥\n",
       "⎢                                                 ⎥\n",
       "⎢                                        2        ⎥\n",
       "⎢                        M⋅(-2⋅M + r)⋅sin (\\theta)⎥\n",
       "⎢0    0         0        ─────────────────────────⎥\n",
       "⎢                                     2           ⎥\n",
       "⎣                                    r            ⎦"
      ]
     },
     "execution_count": 34,
     "metadata": {},
     "output_type": "execute_result"
    }
   ],
   "source": [
    "sum?\n",
    "zeros(4)\n",
    "Rm(1, All, 1, All)"
   ]
  },
  {
   "cell_type": "code",
   "execution_count": 35,
   "metadata": {
    "jupyter": {
     "outputs_hidden": false
    }
   },
   "outputs": [
    {
     "data": {
      "image/png": "[encoded data removed]",
      "text/latex": [
       "$\\displaystyle \\left[\\begin{matrix}0 & 0 & 0 & 0\\\\0 & 0 & 0 & 0\\\\0 & 0 & 0 & 0\\\\0 & 0 & 0 & 0\\end{matrix}\\right]$"
      ],
      "text/plain": [
       "⎡0  0  0  0⎤\n",
       "⎢          ⎥\n",
       "⎢0  0  0  0⎥\n",
       "⎢          ⎥\n",
       "⎢0  0  0  0⎥\n",
       "⎢          ⎥\n",
       "⎣0  0  0  0⎦"
      ]
     },
     "execution_count": 35,
     "metadata": {},
     "output_type": "execute_result"
    }
   ],
   "source": [
    "ricci = sum([Rm(i, All, k, All)*g(-i, -k)\n",
    "             for i, k in list(variations(range(1, 5), 2, True))],\n",
    "            zeros(4))\n",
    "ricci.simplify()\n",
    "ricci"
   ]
  },
  {
   "cell_type": "markdown",
   "metadata": {},
   "source": [
    "## 2.3 里奇张量 (_Ricci_ tensor)"
   ]
  },
  {
   "cell_type": "markdown",
   "metadata": {},
   "source": [
    "##  (讲义 1.47) $$ R^{\\sigma}_{\\ \\mu \\sigma \\nu} = R_{\\mu \\nu} = \\frac{\\partial \\Gamma^{\\sigma}_{\\ \\mu \\nu}}{\\partial x^{\\sigma}} - \\frac{\\partial \\Gamma^{\\sigma}_{\\ \\mu \\sigma}}{\\partial x^{\\nu}} + \\Gamma^{\\sigma}_{\\ \\alpha \\sigma} \\Gamma^{\\alpha}_{\\ \\mu \\nu} - \\Gamma^{\\sigma}_{\\ \\alpha \\nu}\\Gamma^{\\alpha}_{\\ \\mu \\sigma} $$"
   ]
  },
  {
   "cell_type": "markdown",
   "metadata": {},
   "source": [
    "## (GraviPy 定义) $$ R_{\\mu \\nu} = \\frac{\\partial \\Gamma^{\\sigma}_{\\ \\mu \\nu}}{\\partial x^{\\sigma}} - \\frac{\\partial \\Gamma^{\\sigma}_{\\ \\mu \\sigma}}{\\partial x^{\\nu}} + \\Gamma^{\\rho}_{\\ \\sigma \\rho}\\Gamma^{\\sigma}_{\\ \\mu \\nu} - \\Gamma^{\\rho}_{\\ \\mu \\sigma}\\Gamma^{\\sigma}_{\\ \\nu \\rho} $$"
   ]
  },
  {
   "cell_type": "code",
   "execution_count": 36,
   "metadata": {
    "jupyter": {
     "outputs_hidden": false
    }
   },
   "outputs": [
    {
     "data": {
      "image/png": "[encoded data removed]",
      "text/latex": [
       "$\\displaystyle \\left[\\begin{matrix}0 & 0 & 0 & 0\\\\0 & 0 & 0 & 0\\\\0 & 0 & 0 & 0\\\\0 & 0 & 0 & 0\\end{matrix}\\right]$"
      ],
      "text/plain": [
       "⎡0  0  0  0⎤\n",
       "⎢          ⎥\n",
       "⎢0  0  0  0⎥\n",
       "⎢          ⎥\n",
       "⎢0  0  0  0⎥\n",
       "⎢          ⎥\n",
       "⎣0  0  0  0⎦"
      ]
     },
     "execution_count": 36,
     "metadata": {},
     "output_type": "execute_result"
    }
   ],
   "source": [
    "Ri = Ricci('Ri', g)\n",
    "Ri(All, All)"
   ]
  },
  {
   "cell_type": "code",
   "execution_count": 37,
   "metadata": {},
   "outputs": [
    {
     "data": {
      "image/png": "[encoded data removed]",
      "text/latex": [
       "$\\displaystyle \\left[\\begin{matrix}0 & 0 & 0 & 0\\\\0 & 0 & 0 & 0\\\\0 & 0 & 0 & 0\\\\0 & 0 & 0 & 0\\end{matrix}\\right]$"
      ],
      "text/plain": [
       "⎡0  0  0  0⎤\n",
       "⎢          ⎥\n",
       "⎢0  0  0  0⎥\n",
       "⎢          ⎥\n",
       "⎢0  0  0  0⎥\n",
       "⎢          ⎥\n",
       "⎣0  0  0  0⎦"
      ]
     },
     "execution_count": 37,
     "metadata": {},
     "output_type": "execute_result"
    }
   ],
   "source": [
    "Ri(-All, All)"
   ]
  },
  {
   "cell_type": "markdown",
   "metadata": {},
   "source": [
    "### 里奇张量缩并 (Contraction of the _Ricci_ tensor) \n",
    "### $R = R_{\\mu}^{\\ \\mu} = g^{\\mu \\nu}R_{\\mu \\nu}$"
   ]
  },
  {
   "cell_type": "code",
   "execution_count": 38,
   "metadata": {
    "jupyter": {
     "outputs_hidden": false
    }
   },
   "outputs": [
    {
     "data": {
      "image/png": "[encoded data removed]",
      "text/latex": [
       "$\\displaystyle 0$"
      ],
      "text/plain": [
       "0"
      ]
     },
     "execution_count": 38,
     "metadata": {},
     "output_type": "execute_result"
    }
   ],
   "source": [
    "Ri.scalar()"
   ]
  },
  {
   "cell_type": "markdown",
   "metadata": {},
   "source": [
    "## 2.4 爱因斯坦张量 (The _Einstein_ tensor)"
   ]
  },
  {
   "cell_type": "markdown",
   "metadata": {},
   "source": [
    "## $$ G_{\\mu \\nu} = R_{\\mu \\nu} - \\frac{1}{2}g_{\\mu \\nu}R $$"
   ]
  },
  {
   "cell_type": "code",
   "execution_count": 39,
   "metadata": {
    "jupyter": {
     "outputs_hidden": false
    }
   },
   "outputs": [
    {
     "data": {
      "image/png": "[encoded data removed]",
      "text/latex": [
       "$\\displaystyle \\left[\\begin{matrix}0 & 0 & 0 & 0\\\\0 & 0 & 0 & 0\\\\0 & 0 & 0 & 0\\\\0 & 0 & 0 & 0\\end{matrix}\\right]$"
      ],
      "text/plain": [
       "⎡0  0  0  0⎤\n",
       "⎢          ⎥\n",
       "⎢0  0  0  0⎥\n",
       "⎢          ⎥\n",
       "⎢0  0  0  0⎥\n",
       "⎢          ⎥\n",
       "⎣0  0  0  0⎦"
      ]
     },
     "execution_count": 39,
     "metadata": {},
     "output_type": "execute_result"
    }
   ],
   "source": [
    "G = Einstein('G', Ri)\n",
    "G(All, All)"
   ]
  },
  {
   "cell_type": "markdown",
   "metadata": {},
   "source": [
    "## 2.5 测地线 ( _Geodesics_ )"
   ]
  },
  {
   "cell_type": "markdown",
   "metadata": {},
   "source": [
    "## $$ w_{\\mu} = \\frac{Du_{\\mu}}{d\\tau} = \\frac{d^2x_{\\mu}}{d\\tau^2} - \\frac{1}{2}g_{\\rho \\sigma, \\mu} \\frac{dx^{\\rho}}{d\\tau}\\frac{dx^{\\sigma}}{d\\tau} $$"
   ]
  },
  {
   "cell_type": "code",
   "execution_count": 40,
   "metadata": {
    "jupyter": {
     "outputs_hidden": false
    }
   },
   "outputs": [
    {
     "data": {
      "image/png": "[encoded data removed]",
      "text/latex": [
       "$\\displaystyle \\left[\\begin{matrix}- \\frac{2 M \\frac{d}{d \\tau} r{\\left(\\tau \\right)} \\frac{d}{d \\tau} t{\\left(\\tau \\right)}}{r^{2}{\\left(\\tau \\right)}} + \\left(\\frac{2 M}{r{\\left(\\tau \\right)}} - 1\\right) \\frac{d^{2}}{d \\tau^{2}} t{\\left(\\tau \\right)}\\\\\\frac{M \\left(\\frac{d}{d \\tau} t{\\left(\\tau \\right)}\\right)^{2}}{r^{2}{\\left(\\tau \\right)}} - \\frac{M \\left(\\frac{d}{d \\tau} r{\\left(\\tau \\right)}\\right)^{2}}{\\left(- \\frac{2 M}{r{\\left(\\tau \\right)}} + 1\\right)^{2} r^{2}{\\left(\\tau \\right)}} - r{\\left(\\tau \\right)} \\sin^{2}{\\left(\\theta{\\left(\\tau \\right)} \\right)} \\left(\\frac{d}{d \\tau} \\phi{\\left(\\tau \\right)}\\right)^{2} - r{\\left(\\tau \\right)} \\left(\\frac{d}{d \\tau} \\theta{\\left(\\tau \\right)}\\right)^{2} + \\frac{\\frac{d^{2}}{d \\tau^{2}} r{\\left(\\tau \\right)}}{- \\frac{2 M}{r{\\left(\\tau \\right)}} + 1}\\\\- r^{2}{\\left(\\tau \\right)} \\sin{\\left(\\theta{\\left(\\tau \\right)} \\right)} \\cos{\\left(\\theta{\\left(\\tau \\right)} \\right)} \\left(\\frac{d}{d \\tau} \\phi{\\left(\\tau \\right)}\\right)^{2} + r^{2}{\\left(\\tau \\right)} \\frac{d^{2}}{d \\tau^{2}} \\theta{\\left(\\tau \\right)} + 2 r{\\left(\\tau \\right)} \\frac{d}{d \\tau} \\theta{\\left(\\tau \\right)} \\frac{d}{d \\tau} r{\\left(\\tau \\right)}\\\\r^{2}{\\left(\\tau \\right)} \\sin^{2}{\\left(\\theta{\\left(\\tau \\right)} \\right)} \\frac{d^{2}}{d \\tau^{2}} \\phi{\\left(\\tau \\right)} + 2 r^{2}{\\left(\\tau \\right)} \\sin{\\left(\\theta{\\left(\\tau \\right)} \\right)} \\cos{\\left(\\theta{\\left(\\tau \\right)} \\right)} \\frac{d}{d \\tau} \\phi{\\left(\\tau \\right)} \\frac{d}{d \\tau} \\theta{\\left(\\tau \\right)} + 2 r{\\left(\\tau \\right)} \\sin^{2}{\\left(\\theta{\\left(\\tau \\right)} \\right)} \\frac{d}{d \\tau} \\phi{\\left(\\tau \\right)} \\frac{d}{d \\tau} r{\\left(\\tau \\right)}\\end{matrix}\\right]$"
      ],
      "text/plain": [
       "⎡                                                                         d   \n",
       "⎢                                                                   2⋅M⋅─────(\n",
       "⎢                                                                       d\\tau \n",
       "⎢                                                                 - ──────────\n",
       "⎢                                                                             \n",
       "⎢                                                                             \n",
       "⎢                                                                             \n",
       "⎢                                                                             \n",
       "⎢                                          2                        2         \n",
       "⎢                          ⎛  d           ⎞         ⎛  d           ⎞          \n",
       "⎢                        M⋅⎜─────(t(\\tau))⎟       M⋅⎜─────(r(\\tau))⎟          \n",
       "⎢                          ⎝d\\tau         ⎠         ⎝d\\tau         ⎠          \n",
       "⎢                        ─────────────────── - ───────────────────────── - r(\\\n",
       "⎢                               2                             2               \n",
       "⎢                              r (\\tau)        ⎛    2⋅M      ⎞   2            \n",
       "⎢                                              ⎜- ─────── + 1⎟ ⋅r (\\tau)      \n",
       "⎢                                              ⎝  r(\\tau)    ⎠                \n",
       "⎢                                                                             \n",
       "⎢                                                                             \n",
       "⎢                            2                                           ⎛  d \n",
       "⎢                         - r (\\tau)⋅sin(\\theta(\\tau))⋅cos(\\theta(\\tau))⋅⎜────\n",
       "⎢                                                                        ⎝d\\ta\n",
       "⎢                                                                             \n",
       "⎢                                                                             \n",
       "⎢                               2                                             \n",
       "⎢ 2          2                 d                     2                        \n",
       "⎢r (\\tau)⋅sin (\\theta(\\tau))⋅──────(\\phi(\\tau)) + 2⋅r (\\tau)⋅sin(\\theta(\\tau))\n",
       "⎢                                 2                                           \n",
       "⎣                            d\\tau                                            \n",
       "\n",
       "           d                                                                  \n",
       "r(\\tau))⋅─────(t(\\tau))                    2                                  \n",
       "         d\\tau            ⎛  2⋅M      ⎞   d                                   \n",
       "─────────────────────── + ⎜─────── - 1⎟⋅──────(t(\\tau))                       \n",
       "    2                     ⎝r(\\tau)    ⎠      2                                \n",
       "   r (\\tau)                             d\\tau                                 \n",
       "                                                                              \n",
       "                                                                              \n",
       "                                                                              \n",
       "                                                                              \n",
       "                                           2                                2 \n",
       "        2               ⎛  d              ⎞            ⎛  d                ⎞  \n",
       "tau)⋅sin (\\theta(\\tau))⋅⎜─────(\\phi(\\tau))⎟  - r(\\tau)⋅⎜─────(\\theta(\\tau))⎟  \n",
       "                        ⎝d\\tau            ⎠            ⎝d\\tau              ⎠  \n",
       "                                                                              \n",
       "                                                                              \n",
       "                                                                              \n",
       "                                                                              \n",
       "              2               2                                               \n",
       "             ⎞     2         d                                d               \n",
       "─(\\phi(\\tau))⎟  + r (\\tau)⋅──────(\\theta(\\tau)) + 2⋅r(\\tau)⋅─────(\\theta(\\tau)\n",
       "u            ⎠                  2                           d\\tau             \n",
       "                           d\\tau                                              \n",
       "                                                                              \n",
       "                                                                              \n",
       "                     d                 d                                2     \n",
       "⋅cos(\\theta(\\tau))⋅─────(\\phi(\\tau))⋅─────(\\theta(\\tau)) + 2⋅r(\\tau)⋅sin (\\the\n",
       "                   d\\tau             d\\tau                                    \n",
       "                                                                              \n",
       "\n",
       "                                          ⎤\n",
       "                                          ⎥\n",
       "                                          ⎥\n",
       "                                          ⎥\n",
       "                                          ⎥\n",
       "                                          ⎥\n",
       "                                          ⎥\n",
       "     2                                    ⎥\n",
       "    d                                     ⎥\n",
       "  ──────(r(\\tau))                         ⎥\n",
       "       2                                  ⎥\n",
       "  d\\tau                                   ⎥\n",
       "+ ───────────────                         ⎥\n",
       "       2⋅M                                ⎥\n",
       "   - ─────── + 1                          ⎥\n",
       "     r(\\tau)                              ⎥\n",
       "                                          ⎥\n",
       "                                          ⎥\n",
       "                                          ⎥\n",
       "    d                                     ⎥\n",
       ")⋅─────(r(\\tau))                          ⎥\n",
       "  d\\tau                                   ⎥\n",
       "                                          ⎥\n",
       "                                          ⎥\n",
       "                                          ⎥\n",
       "            d                 d           ⎥\n",
       "ta(\\tau))⋅─────(\\phi(\\tau))⋅─────(r(\\tau))⎥\n",
       "          d\\tau             d\\tau         ⎥\n",
       "                                          ⎦"
      ]
     },
     "execution_count": 40,
     "metadata": {},
     "output_type": "execute_result"
    }
   ],
   "source": [
    "tau = Symbol('\\\\tau')\n",
    "w = Geodesic('w', g, tau)\n",
    "w(All).transpose()"
   ]
  },
  {
   "cell_type": "code",
   "execution_count": null,
   "metadata": {},
   "outputs": [],
   "source": []
  },
  {
   "cell_type": "markdown",
   "metadata": {},
   "source": [
    "Please note that instantiation of a _Geodesic_ class for the metric $g$ automatically turns on a _Parametrization_ mode for the metric $g$. Then all coordinates are functions of a world line parameter $\\tau$"
   ]
  },
  {
   "cell_type": "code",
   "execution_count": 41,
   "metadata": {
    "jupyter": {
     "outputs_hidden": false
    }
   },
   "outputs": [
    {
     "data": {
      "image/png": "[encoded data removed]",
      "text/latex": [
       "$\\displaystyle \\left[ \\left[ \\mu, \\  \\tau\\right]\\right]$"
      ],
      "text/plain": [
       "[[\\mu, \\tau]]"
      ]
     },
     "execution_count": 41,
     "metadata": {},
     "output_type": "execute_result"
    }
   ],
   "source": [
    "Parametrization.info()"
   ]
  },
  {
   "cell_type": "code",
   "execution_count": 42,
   "metadata": {
    "jupyter": {
     "outputs_hidden": false
    }
   },
   "outputs": [
    {
     "data": {
      "image/png": "[encoded data removed]",
      "text/latex": [
       "$\\displaystyle \\left[\\begin{matrix}t{\\left(\\tau \\right)} & r{\\left(\\tau \\right)} & \\theta{\\left(\\tau \\right)} & \\phi{\\left(\\tau \\right)}\\end{matrix}\\right]$"
      ],
      "text/plain": [
       "[t(\\tau)  r(\\tau)  \\theta(\\tau)  \\phi(\\tau)]"
      ]
     },
     "execution_count": 42,
     "metadata": {},
     "output_type": "execute_result"
    }
   ],
   "source": [
    "x(-All)"
   ]
  },
  {
   "cell_type": "markdown",
   "metadata": {},
   "source": [
    "_Parametrization_ mode can be deactivated by typing"
   ]
  },
  {
   "cell_type": "code",
   "execution_count": 44,
   "metadata": {
    "jupyter": {
     "outputs_hidden": false
    }
   },
   "outputs": [
    {
     "name": "stdout",
     "output_type": "stream",
     "text": [
      "No parametrization activated\n"
     ]
    }
   ],
   "source": [
    "Parametrization.deactivate(x)\n",
    "Parametrization.info()"
   ]
  },
  {
   "cell_type": "code",
   "execution_count": 45,
   "metadata": {
    "jupyter": {
     "outputs_hidden": false
    }
   },
   "outputs": [
    {
     "data": {
      "image/png": "[encoded data removed]",
      "text/latex": [
       "$\\displaystyle \\left[\\begin{matrix}t & r & \\theta & \\phi\\end{matrix}\\right]$"
      ],
      "text/plain": [
       "[t  r  \\theta  \\phi]"
      ]
     },
     "execution_count": 45,
     "metadata": {},
     "output_type": "execute_result"
    }
   ],
   "source": [
    "x(-All)"
   ]
  },
  {
   "cell_type": "code",
   "execution_count": 46,
   "metadata": {
    "jupyter": {
     "outputs_hidden": false
    }
   },
   "outputs": [
    {
     "data": {
      "image/png": "[encoded data removed]",
      "text/latex": [
       "$\\displaystyle \\left[\\begin{matrix}\\frac{2 M}{r} - 1 & 0 & 0 & 0\\\\0 & \\frac{1}{- \\frac{2 M}{r} + 1} & 0 & 0\\\\0 & 0 & r^{2} & 0\\\\0 & 0 & 0 & r^{2} \\sin^{2}{\\left(\\theta \\right)}\\end{matrix}\\right]$"
      ],
      "text/plain": [
       "⎡2⋅M                                    ⎤\n",
       "⎢─── - 1      0      0          0       ⎥\n",
       "⎢ r                                     ⎥\n",
       "⎢                                       ⎥\n",
       "⎢             1                         ⎥\n",
       "⎢   0     ─────────  0          0       ⎥\n",
       "⎢           2⋅M                         ⎥\n",
       "⎢         - ─── + 1                     ⎥\n",
       "⎢            r                          ⎥\n",
       "⎢                                       ⎥\n",
       "⎢                     2                 ⎥\n",
       "⎢   0         0      r          0       ⎥\n",
       "⎢                                       ⎥\n",
       "⎢                         2    2        ⎥\n",
       "⎣   0         0      0   r ⋅sin (\\theta)⎦"
      ]
     },
     "execution_count": 46,
     "metadata": {},
     "output_type": "execute_result"
    }
   ],
   "source": [
    "g(All, All)"
   ]
  },
  {
   "cell_type": "markdown",
   "metadata": {},
   "source": [
    "# 3. 微分 (Derivatives)"
   ]
  },
  {
   "cell_type": "markdown",
   "metadata": {},
   "source": [
    "## 3.1 偏微分 (Partial derivative)"
   ]
  },
  {
   "cell_type": "markdown",
   "metadata": {},
   "source": [
    "### 张量的偏微分可以通过 _partialD_ 函数进行计算, 此函数与 SymPy 的 _diff_ 等效\n",
    "All instances of a _GeneralTensor_ subclasses inherits _partialD_ method which works exactly the same way as SymPy _diff_ method."
   ]
  },
  {
   "cell_type": "code",
   "execution_count": 58,
   "metadata": {
    "jupyter": {
     "outputs_hidden": false
    }
   },
   "outputs": [
    {
     "data": {
      "image/png": "[encoded data removed]",
      "text/latex": [
       "$\\displaystyle \\left[\\begin{matrix}\\operatorname{T(1, 1)}{\\left(t,r,\\theta,\\phi \\right)} & \\operatorname{T(1, 2)}{\\left(t,r,\\theta,\\phi \\right)} & \\operatorname{T(1, 3)}{\\left(t,r,\\theta,\\phi \\right)} & \\operatorname{T(1, 4)}{\\left(t,r,\\theta,\\phi \\right)}\\\\\\operatorname{T(2, 1)}{\\left(t,r,\\theta,\\phi \\right)} & \\operatorname{T(2, 2)}{\\left(t,r,\\theta,\\phi \\right)} & \\operatorname{T(2, 3)}{\\left(t,r,\\theta,\\phi \\right)} & \\operatorname{T(2, 4)}{\\left(t,r,\\theta,\\phi \\right)}\\\\\\operatorname{T(3, 1)}{\\left(t,r,\\theta,\\phi \\right)} & \\operatorname{T(3, 2)}{\\left(t,r,\\theta,\\phi \\right)} & \\operatorname{T(3, 3)}{\\left(t,r,\\theta,\\phi \\right)} & \\operatorname{T(3, 4)}{\\left(t,r,\\theta,\\phi \\right)}\\\\\\operatorname{T(4, 1)}{\\left(t,r,\\theta,\\phi \\right)} & \\operatorname{T(4, 2)}{\\left(t,r,\\theta,\\phi \\right)} & \\operatorname{T(4, 3)}{\\left(t,r,\\theta,\\phi \\right)} & \\operatorname{T(4, 4)}{\\left(t,r,\\theta,\\phi \\right)}\\end{matrix}\\right]$"
      ],
      "text/plain": [
       "⎡T(1, 1)(t, r, \\theta, \\phi)  T(1, 2)(t, r, \\theta, \\phi)  T(1, 3)(t, r, \\thet\n",
       "⎢                                                                             \n",
       "⎢T(2, 1)(t, r, \\theta, \\phi)  T(2, 2)(t, r, \\theta, \\phi)  T(2, 3)(t, r, \\thet\n",
       "⎢                                                                             \n",
       "⎢T(3, 1)(t, r, \\theta, \\phi)  T(3, 2)(t, r, \\theta, \\phi)  T(3, 3)(t, r, \\thet\n",
       "⎢                                                                             \n",
       "⎣T(4, 1)(t, r, \\theta, \\phi)  T(4, 2)(t, r, \\theta, \\phi)  T(4, 3)(t, r, \\thet\n",
       "\n",
       "a, \\phi)  T(1, 4)(t, r, \\theta, \\phi)⎤\n",
       "                                     ⎥\n",
       "a, \\phi)  T(2, 4)(t, r, \\theta, \\phi)⎥\n",
       "                                     ⎥\n",
       "a, \\phi)  T(3, 4)(t, r, \\theta, \\phi)⎥\n",
       "                                     ⎥\n",
       "a, \\phi)  T(4, 4)(t, r, \\theta, \\phi)⎦"
      ]
     },
     "execution_count": 58,
     "metadata": {},
     "output_type": "execute_result"
    }
   ],
   "source": [
    "T = Tensor('T', 2, g)\n",
    "#T(1, 2)\n",
    "T(All, All)"
   ]
  },
  {
   "cell_type": "code",
   "execution_count": 59,
   "metadata": {
    "jupyter": {
     "outputs_hidden": false
    }
   },
   "outputs": [
    {
     "data": {
      "image/png": "[encoded data removed]",
      "text/latex": [
       "$\\displaystyle \\frac{\\partial^{2}}{\\partial t\\partial \\theta} \\operatorname{T(1, 2)}{\\left(t,r,\\theta,\\phi \\right)}$"
      ],
      "text/plain": [
       "     2                                 \n",
       "    ∂                                  \n",
       "──────────(T(1, 2)(t, r, \\theta, \\phi))\n",
       "∂t ∂\\theta                             "
      ]
     },
     "execution_count": 59,
     "metadata": {},
     "output_type": "execute_result"
    }
   ],
   "source": [
    "T.partialD(1, 2, 1, 3) # The first two indices belongs to second rank tensor T"
   ]
  },
  {
   "cell_type": "code",
   "execution_count": 60,
   "metadata": {
    "jupyter": {
     "outputs_hidden": false
    }
   },
   "outputs": [
    {
     "data": {
      "image/png": "[encoded data removed]",
      "text/latex": [
       "$\\displaystyle \\frac{\\partial^{2}}{\\partial t\\partial \\theta} \\operatorname{T(1, 2)}{\\left(t,r,\\theta,\\phi \\right)}$"
      ],
      "text/plain": [
       "     2                                 \n",
       "    ∂                                  \n",
       "──────────(T(1, 2)(t, r, \\theta, \\phi))\n",
       "∂t ∂\\theta                             "
      ]
     },
     "execution_count": 60,
     "metadata": {},
     "output_type": "execute_result"
    }
   ],
   "source": [
    "T(1, 2).diff(x(-1), x(-3))"
   ]
  },
  {
   "cell_type": "markdown",
   "metadata": {},
   "source": [
    "### _partialD_ 能够把所计算的结果存放于  _partial_derivative_components_ 字典中\n",
    "The only difference is that computed value of _partialD_ is saved in  \"_partial_derivative_components_\" dictionary and then returned by the next call to the _partialD_ method."
   ]
  },
  {
   "cell_type": "code",
   "execution_count": 61,
   "metadata": {
    "jupyter": {
     "outputs_hidden": false
    }
   },
   "outputs": [
    {
     "data": {
      "image/png": "[encoded data removed]",
      "text/latex": [
       "$\\displaystyle \\left\\{ \\left( 1, \\  2, \\  1, \\  3\\right) : \\frac{\\partial^{2}}{\\partial t\\partial \\theta} \\operatorname{T(1, 2)}{\\left(t,r,\\theta,\\phi \\right)}\\right\\}$"
      ],
      "text/plain": [
       "⎧                   2                                 ⎫\n",
       "⎪                  ∂                                  ⎪\n",
       "⎨(1, 2, 1, 3): ──────────(T(1, 2)(t, r, \\theta, \\phi))⎬\n",
       "⎪              ∂t ∂\\theta                             ⎪\n",
       "⎩                                                     ⎭"
      ]
     },
     "execution_count": 61,
     "metadata": {},
     "output_type": "execute_result"
    }
   ],
   "source": [
    "T.partial_derivative_components"
   ]
  },
  {
   "cell_type": "code",
   "execution_count": 62,
   "metadata": {},
   "outputs": [
    {
     "data": {
      "image/png": "[encoded data removed]",
      "text/latex": [
       "$\\displaystyle \\left\\{ \\left( 1, \\  2, \\  1, \\  1\\right) : \\frac{\\partial^{2}}{\\partial t^{2}} \\operatorname{T(1, 2)}{\\left(t,r,\\theta,\\phi \\right)}, \\  \\left( 1, \\  2, \\  1, \\  3\\right) : \\frac{\\partial^{2}}{\\partial t\\partial \\theta} \\operatorname{T(1, 2)}{\\left(t,r,\\theta,\\phi \\right)}\\right\\}$"
      ],
      "text/plain": [
       "⎧                2                                                  2         \n",
       "⎪               ∂                                                  ∂          \n",
       "⎨(1, 2, 1, 1): ───(T(1, 2)(t, r, \\theta, \\phi)), (1, 2, 1, 3): ──────────(T(1,\n",
       "⎪                2                                             ∂t ∂\\theta     \n",
       "⎩              ∂t                                                             \n",
       "\n",
       "                        ⎫\n",
       "                        ⎪\n",
       " 2)(t, r, \\theta, \\phi))⎬\n",
       "                        ⎪\n",
       "                        ⎭"
      ]
     },
     "execution_count": 62,
     "metadata": {},
     "output_type": "execute_result"
    }
   ],
   "source": [
    "T.partialD(1, 2, 1, 1) # The first two indices belongs to second rank tensor T\n",
    "T.partial_derivative_components"
   ]
  },
  {
   "cell_type": "markdown",
   "metadata": {},
   "source": [
    "## 3.2 协变微分 (Covariant derivative)"
   ]
  },
  {
   "cell_type": "markdown",
   "metadata": {},
   "source": [
    "### 张量 ___T___ 的协变微分可以利用 covariantD 通过下公式进行计算 \n",
    "(Covariant derivative components of the tensor ___T___  can be computed by the covariantD method from the formula)"
   ]
  },
  {
   "cell_type": "markdown",
   "metadata": {},
   "source": [
    "## $$ \\nabla_{\\sigma} T_{\\mu}^{\\ \\nu} = T_{\\mu \\ ;\\sigma}^{\\ \\nu} = \\frac{\\partial T_{\\mu}^{\\ \\nu}}{\\partial x^{\\sigma}} - \\Gamma^{\\rho}_{\\ \\mu \\sigma}T_{\\rho}^{\\ \\nu} + \\Gamma^{\\nu}_{\\ \\rho \\sigma}T_{\\mu}^{\\ \\rho}$$"
   ]
  },
  {
   "cell_type": "markdown",
   "metadata": {},
   "source": [
    "### GraviPy 强制协变微分阶数需要大于张量的阶数！！！\n",
    "\n",
    "### 计算标量场 C 的协变微分\n",
    "Let's compute some covariant derivatives of a scalar field C"
   ]
  },
  {
   "cell_type": "code",
   "execution_count": 80,
   "metadata": {
    "jupyter": {
     "outputs_hidden": false
    }
   },
   "outputs": [
    {
     "data": {
      "image/png": "[encoded data removed]",
      "text/latex": [
       "$\\displaystyle C{\\left(t,r,\\theta,\\phi \\right)}$"
      ],
      "text/plain": [
       "C(t, r, \\theta, \\phi)"
      ]
     },
     "execution_count": 80,
     "metadata": {},
     "output_type": "execute_result"
    }
   ],
   "source": [
    "C = Tensor('C', 0, g)\n",
    "C()"
   ]
  },
  {
   "cell_type": "code",
   "execution_count": 81,
   "metadata": {
    "jupyter": {
     "outputs_hidden": false
    }
   },
   "outputs": [
    {
     "data": {
      "image/png": "[encoded data removed]",
      "text/latex": [
       "$\\displaystyle \\frac{\\partial}{\\partial t} C{\\left(t,r,\\theta,\\phi \\right)}$"
      ],
      "text/plain": [
       "∂                        \n",
       "──(C(t, r, \\theta, \\phi))\n",
       "∂t                       "
      ]
     },
     "execution_count": 81,
     "metadata": {},
     "output_type": "execute_result"
    }
   ],
   "source": [
    "C.covariantD(1)"
   ]
  },
  {
   "cell_type": "code",
   "execution_count": 82,
   "metadata": {
    "jupyter": {
     "outputs_hidden": false
    }
   },
   "outputs": [
    {
     "data": {
      "image/png": "[encoded data removed]",
      "text/latex": [
       "$\\displaystyle \\frac{r \\frac{\\partial^{2}}{\\partial r\\partial \\theta} C{\\left(t,r,\\theta,\\phi \\right)} - \\frac{\\partial}{\\partial \\theta} C{\\left(t,r,\\theta,\\phi \\right)}}{r}$"
      ],
      "text/plain": [
       "       2                                                            \n",
       "      ∂                                  ∂                          \n",
       "r⋅──────────(C(t, r, \\theta, \\phi)) - ───────(C(t, r, \\theta, \\phi))\n",
       "  ∂r ∂\\theta                          ∂\\theta                       \n",
       "────────────────────────────────────────────────────────────────────\n",
       "                                 r                                  "
      ]
     },
     "execution_count": 82,
     "metadata": {},
     "output_type": "execute_result"
    }
   ],
   "source": [
    "C.covariantD(2, 3)"
   ]
  },
  {
   "cell_type": "markdown",
   "metadata": {},
   "source": [
    "### 使用 _covariantD_ 所计算的协变微分会被全部存储，可以利用 _covariant_derivative_components_ 查看\n",
    "All _covariantD_ components of every _Tensor_ object are also memoized"
   ]
  },
  {
   "cell_type": "code",
   "execution_count": 83,
   "metadata": {
    "jupyter": {
     "outputs_hidden": false
    }
   },
   "outputs": [
    {
     "data": {
      "text/latex": [
       "$\\displaystyle (1,): \\frac{\\partial}{\\partial t} C{\\left(t,r,\\theta,\\phi \\right)}$"
      ],
      "text/plain": [
       "<IPython.core.display.Math object>"
      ]
     },
     "metadata": {},
     "output_type": "display_data"
    },
    {
     "data": {
      "text/latex": [
       "$\\displaystyle (2,): \\frac{\\partial}{\\partial r} C{\\left(t,r,\\theta,\\phi \\right)}$"
      ],
      "text/plain": [
       "<IPython.core.display.Math object>"
      ]
     },
     "metadata": {},
     "output_type": "display_data"
    },
    {
     "data": {
      "text/latex": [
       "$\\displaystyle (3,): \\frac{\\partial}{\\partial \\theta} C{\\left(t,r,\\theta,\\phi \\right)}$"
      ],
      "text/plain": [
       "<IPython.core.display.Math object>"
      ]
     },
     "metadata": {},
     "output_type": "display_data"
    },
    {
     "data": {
      "text/latex": [
       "$\\displaystyle (4,): \\frac{\\partial}{\\partial \\phi} C{\\left(t,r,\\theta,\\phi \\right)}$"
      ],
      "text/plain": [
       "<IPython.core.display.Math object>"
      ]
     },
     "metadata": {},
     "output_type": "display_data"
    },
    {
     "data": {
      "text/latex": [
       "$\\displaystyle (2, 3): \\frac{r \\frac{\\partial^{2}}{\\partial r\\partial \\theta} C{\\left(t,r,\\theta,\\phi \\right)} - \\frac{\\partial}{\\partial \\theta} C{\\left(t,r,\\theta,\\phi \\right)}}{r}$"
      ],
      "text/plain": [
       "<IPython.core.display.Math object>"
      ]
     },
     "metadata": {},
     "output_type": "display_data"
    }
   ],
   "source": [
    "for k in C.covariant_derivative_components:\n",
    "    display(Math(str(k) + ': '\n",
    "                 + latex(C.covariant_derivative_components[k])))"
   ]
  },
  {
   "cell_type": "code",
   "execution_count": 84,
   "metadata": {
    "jupyter": {
     "outputs_hidden": false
    }
   },
   "outputs": [
    {
     "data": {
      "image/png": "[encoded data removed]",
      "text/latex": [
       "$\\displaystyle \\frac{M \\frac{\\partial^{2}}{\\partial t\\partial \\theta} C{\\left(t,r,\\theta,\\phi \\right)} + r \\left(2 M - r\\right) \\frac{\\partial^{3}}{\\partial t\\partial r\\partial \\theta} C{\\left(t,r,\\theta,\\phi \\right)} - \\left(2 M - r\\right) \\frac{\\partial^{2}}{\\partial t\\partial \\theta} C{\\left(t,r,\\theta,\\phi \\right)}}{r \\left(2 M - r\\right)}$"
      ],
      "text/plain": [
       "       2                                                 3                    \n",
       "      ∂                                                 ∂                     \n",
       "M⋅──────────(C(t, r, \\theta, \\phi)) + r⋅(2⋅M - r)⋅─────────────(C(t, r, \\theta\n",
       "  ∂t ∂\\theta                                      ∂t ∂r ∂\\theta               \n",
       "──────────────────────────────────────────────────────────────────────────────\n",
       "                                                            r⋅(2⋅M - r)       \n",
       "\n",
       "                          2                           \n",
       "                         ∂                            \n",
       ", \\phi)) - (2⋅M - r)⋅──────────(C(t, r, \\theta, \\phi))\n",
       "                     ∂t ∂\\theta                       \n",
       "──────────────────────────────────────────────────────\n",
       "                                                      "
      ]
     },
     "execution_count": 84,
     "metadata": {},
     "output_type": "execute_result"
    }
   ],
   "source": [
    "C.covariantD(1, 2, 3)"
   ]
  },
  {
   "cell_type": "code",
   "execution_count": null,
   "metadata": {},
   "outputs": [],
   "source": [
    "C.covariant_derivative_components"
   ]
  },
  {
   "cell_type": "markdown",
   "metadata": {},
   "source": [
    "### 验证度规张量 $g$ 的协变微分结果为 0\n",
    "Proof that the covariant derivative of the metric tensor $g$ is zero"
   ]
  },
  {
   "cell_type": "code",
   "execution_count": 99,
   "metadata": {
    "jupyter": {
     "outputs_hidden": false
    }
   },
   "outputs": [
    {
     "data": {
      "text/plain": [
       "True"
      ]
     },
     "execution_count": 99,
     "metadata": {},
     "output_type": "execute_result"
    }
   ],
   "source": [
    "not any([g.covariantD(i, j, k).simplify()\n",
    "         for i, j, k in list(variations(range(1, 5), 3, True))])"
   ]
  },
  {
   "cell_type": "code",
   "execution_count": 87,
   "metadata": {},
   "outputs": [
    {
     "data": {
      "image/png": "[encoded data removed]",
      "text/latex": [
       "$\\displaystyle \\left[ \\left( 1, \\  1\\right), \\  \\left( 1, \\  2\\right), \\  \\left( 1, \\  3\\right), \\  \\left( 1, \\  4\\right), \\  \\left( 2, \\  1\\right), \\  \\left( 2, \\  2\\right), \\  \\left( 2, \\  3\\right), \\  \\left( 2, \\  4\\right), \\  \\left( 3, \\  1\\right), \\  \\left( 3, \\  2\\right), \\  \\left( 3, \\  3\\right), \\  \\left( 3, \\  4\\right), \\  \\left( 4, \\  1\\right), \\  \\left( 4, \\  2\\right), \\  \\left( 4, \\  3\\right), \\  \\left( 4, \\  4\\right)\\right]$"
      ],
      "text/plain": [
       "[(1, 1), (1, 2), (1, 3), (1, 4), (2, 1), (2, 2), (2, 3), (2, 4), (3, 1), (3, 2\n",
       "), (3, 3), (3, 4), (4, 1), (4, 2), (4, 3), (4, 4)]"
      ]
     },
     "execution_count": 87,
     "metadata": {},
     "output_type": "execute_result"
    }
   ],
   "source": [
    "list(variations(range(1, 5), 2, True))"
   ]
  },
  {
   "cell_type": "code",
   "execution_count": 100,
   "metadata": {},
   "outputs": [
    {
     "data": {
      "image/png": "[encoded data removed]",
      "text/latex": [
       "$\\displaystyle \\left\\{ \\left( 1, \\  1, \\  1\\right) : 0, \\  \\left( 1, \\  1, \\  2\\right) : 0, \\  \\left( 1, \\  1, \\  3\\right) : 0, \\  \\left( 1, \\  1, \\  4\\right) : 0, \\  \\left( 1, \\  2, \\  1\\right) : 0, \\  \\left( 1, \\  2, \\  2\\right) : 0, \\  \\left( 1, \\  2, \\  3\\right) : 0, \\  \\left( 1, \\  2, \\  4\\right) : 0, \\  \\left( 1, \\  3, \\  1\\right) : 0, \\  \\left( 1, \\  3, \\  2\\right) : 0, \\  \\left( 1, \\  3, \\  3\\right) : 0, \\  \\left( 1, \\  3, \\  4\\right) : 0, \\  \\left( 1, \\  4, \\  1\\right) : 0, \\  \\left( 1, \\  4, \\  2\\right) : 0, \\  \\left( 1, \\  4, \\  3\\right) : 0, \\  \\left( 1, \\  4, \\  4\\right) : 0, \\  \\left( 2, \\  1, \\  1\\right) : 0, \\  \\left( 2, \\  1, \\  2\\right) : 0, \\  \\left( 2, \\  1, \\  3\\right) : 0, \\  \\left( 2, \\  1, \\  4\\right) : 0, \\  \\left( 2, \\  2, \\  1\\right) : 0, \\  \\left( 2, \\  2, \\  2\\right) : \\frac{2 M \\left(\\left(- 2 M + r\\right)^{2} - \\left(2 M - r\\right)^{2}\\right)}{\\left(- 2 M + r\\right)^{2} \\left(2 M - r\\right)^{2}}, \\  \\left( 2, \\  2, \\  3\\right) : 0, \\  \\left( 2, \\  2, \\  4\\right) : 0, \\  \\left( 2, \\  3, \\  1\\right) : 0, \\  \\left( 2, \\  3, \\  2\\right) : 0, \\  \\left( 2, \\  3, \\  3\\right) : 0, \\  \\left( 2, \\  3, \\  4\\right) : 0, \\  \\left( 2, \\  4, \\  1\\right) : 0, \\  \\left( 2, \\  4, \\  2\\right) : 0, \\  \\left( 2, \\  4, \\  3\\right) : 0, \\  \\left( 2, \\  4, \\  4\\right) : 0, \\  \\left( 3, \\  1, \\  1\\right) : 0, \\  \\left( 3, \\  1, \\  2\\right) : 0, \\  \\left( 3, \\  1, \\  3\\right) : 0, \\  \\left( 3, \\  1, \\  4\\right) : 0, \\  \\left( 3, \\  2, \\  1\\right) : 0, \\  \\left( 3, \\  2, \\  2\\right) : 0, \\  \\left( 3, \\  2, \\  3\\right) : 0, \\  \\left( 3, \\  2, \\  4\\right) : 0, \\  \\left( 3, \\  3, \\  1\\right) : 0, \\  \\left( 3, \\  3, \\  2\\right) : 0, \\  \\left( 3, \\  3, \\  3\\right) : 0, \\  \\left( 3, \\  3, \\  4\\right) : 0, \\  \\left( 3, \\  4, \\  1\\right) : 0, \\  \\left( 3, \\  4, \\  2\\right) : 0, \\  \\left( 3, \\  4, \\  3\\right) : 0, \\  \\left( 3, \\  4, \\  4\\right) : 0, \\  \\left( 4, \\  1, \\  1\\right) : 0, \\  \\left( 4, \\  1, \\  2\\right) : 0, \\  \\left( 4, \\  1, \\  3\\right) : 0, \\  \\left( 4, \\  1, \\  4\\right) : 0, \\  \\left( 4, \\  2, \\  1\\right) : 0, \\  \\left( 4, \\  2, \\  2\\right) : 0, \\  \\left( 4, \\  2, \\  3\\right) : 0, \\  \\left( 4, \\  2, \\  4\\right) : 0, \\  \\left( 4, \\  3, \\  1\\right) : 0, \\  \\left( 4, \\  3, \\  2\\right) : 0, \\  \\left( 4, \\  3, \\  3\\right) : 0, \\  \\left( 4, \\  3, \\  4\\right) : 0, \\  \\left( 4, \\  4, \\  1\\right) : 0, \\  \\left( 4, \\  4, \\  2\\right) : 0, \\  \\left( 4, \\  4, \\  3\\right) : r^{2} \\left(2 \\sin{\\left(\\theta \\right)} \\cos{\\left(\\theta \\right)} - \\sin{\\left(2 \\theta \\right)}\\right), \\  \\left( 4, \\  4, \\  4\\right) : 0\\right\\}$"
      ],
      "text/plain": [
       "⎧                                                                             \n",
       "⎪                                                                             \n",
       "⎨(1, 1, 1): 0, (1, 1, 2): 0, (1, 1, 3): 0, (1, 1, 4): 0, (1, 2, 1): 0, (1, 2, \n",
       "⎪                                                                             \n",
       "⎩                                                                             \n",
       "\n",
       "                                                                              \n",
       "                                                                              \n",
       "2): 0, (1, 2, 3): 0, (1, 2, 4): 0, (1, 3, 1): 0, (1, 3, 2): 0, (1, 3, 3): 0, (\n",
       "                                                                              \n",
       "                                                                              \n",
       "\n",
       "                                                                              \n",
       "                                                                              \n",
       "1, 3, 4): 0, (1, 4, 1): 0, (1, 4, 2): 0, (1, 4, 3): 0, (1, 4, 4): 0, (2, 1, 1)\n",
       "                                                                              \n",
       "                                                                              \n",
       "\n",
       "                                                                            ⎛ \n",
       "                                                                        2⋅M⋅⎝(\n",
       ": 0, (2, 1, 2): 0, (2, 1, 3): 0, (2, 1, 4): 0, (2, 2, 1): 0, (2, 2, 2): ──────\n",
       "                                                                              \n",
       "                                                                            (-\n",
       "\n",
       "         2            2⎞                                                      \n",
       "-2⋅M + r)  - (2⋅M - r) ⎠                                                      \n",
       "────────────────────────, (2, 2, 3): 0, (2, 2, 4): 0, (2, 3, 1): 0, (2, 3, 2):\n",
       "        2          2                                                          \n",
       "2⋅M + r) ⋅(2⋅M - r)                                                           \n",
       "\n",
       "                                                                              \n",
       "                                                                              \n",
       " 0, (2, 3, 3): 0, (2, 3, 4): 0, (2, 4, 1): 0, (2, 4, 2): 0, (2, 4, 3): 0, (2, \n",
       "                                                                              \n",
       "                                                                              \n",
       "\n",
       "                                                                              \n",
       "                                                                              \n",
       "4, 4): 0, (3, 1, 1): 0, (3, 1, 2): 0, (3, 1, 3): 0, (3, 1, 4): 0, (3, 2, 1): 0\n",
       "                                                                              \n",
       "                                                                              \n",
       "\n",
       "                                                                              \n",
       "                                                                              \n",
       ", (3, 2, 2): 0, (3, 2, 3): 0, (3, 2, 4): 0, (3, 3, 1): 0, (3, 3, 2): 0, (3, 3,\n",
       "                                                                              \n",
       "                                                                              \n",
       "\n",
       "                                                                              \n",
       "                                                                              \n",
       " 3): 0, (3, 3, 4): 0, (3, 4, 1): 0, (3, 4, 2): 0, (3, 4, 3): 0, (3, 4, 4): 0, \n",
       "                                                                              \n",
       "                                                                              \n",
       "\n",
       "                                                                              \n",
       "                                                                              \n",
       "(4, 1, 1): 0, (4, 1, 2): 0, (4, 1, 3): 0, (4, 1, 4): 0, (4, 2, 1): 0, (4, 2, 2\n",
       "                                                                              \n",
       "                                                                              \n",
       "\n",
       "                                                                              \n",
       "                                                                              \n",
       "): 0, (4, 2, 3): 0, (4, 2, 4): 0, (4, 3, 1): 0, (4, 3, 2): 0, (4, 3, 3): 0, (4\n",
       "                                                                              \n",
       "                                                                              \n",
       "\n",
       "                                                                              \n",
       "                                                    2                         \n",
       ", 3, 4): 0, (4, 4, 1): 0, (4, 4, 2): 0, (4, 4, 3): r ⋅(2⋅sin(\\theta)⋅cos(\\thet\n",
       "                                                                              \n",
       "                                                                              \n",
       "\n",
       "                                 ⎫\n",
       "                                 ⎪\n",
       "a) - sin(2⋅\\theta)), (4, 4, 4): 0⎬\n",
       "                                 ⎪\n",
       "                                 ⎭"
      ]
     },
     "execution_count": 100,
     "metadata": {},
     "output_type": "execute_result"
    }
   ],
   "source": [
    "g.covariantD(1,1,2)\n",
    "g.covariant_derivative_components"
   ]
  },
  {
   "cell_type": "code",
   "execution_count": 107,
   "metadata": {
    "jupyter": {
     "outputs_hidden": false
    }
   },
   "outputs": [],
   "source": [
    "#not any([g.covariantD(i, j).simplify()\n",
    "#         for i, j in list(variations(range(1, 5), 2, True))])"
   ]
  },
  {
   "cell_type": "markdown",
   "metadata": {},
   "source": [
    "Bianchi identity in the Schwarzschild spacetime"
   ]
  },
  {
   "cell_type": "markdown",
   "metadata": {},
   "source": [
    "## $$ R_{\\mu \\nu \\sigma \\rho ;\\gamma} + R_{\\mu \\nu \\gamma \\sigma ;\\rho} + R_{\\mu \\nu \\rho \\gamma ;\\sigma} = 0$$"
   ]
  },
  {
   "cell_type": "code",
   "execution_count": 193,
   "metadata": {},
   "outputs": [
    {
     "data": {
      "text/plain": [
       "True"
      ]
     },
     "execution_count": 193,
     "metadata": {},
     "output_type": "execute_result"
    }
   ],
   "source": [
    "not any([(Rm.covariantD(i, j, k, l, m) + Rm.covariantD(i, j, m, k, l)\n",
    "          + Rm.covariantD(i, j, l, m, k)).simplify()\n",
    "         for i, j, k, l, m in list(variations(range(1, 5), 5, True))])"
   ]
  },
  {
   "cell_type": "markdown",
   "metadata": {},
   "source": [
    "## User-defined tensors"
   ]
  },
  {
   "cell_type": "markdown",
   "metadata": {},
   "source": [
    "To define a new scalar/vector/tensor field in some space you should __extend__ the _Tensor_ class or __create an instance__ of the _Tensor_ class."
   ]
  },
  {
   "cell_type": "markdown",
   "metadata": {},
   "source": [
    "### _Tensor_ class instantiation"
   ]
  },
  {
   "cell_type": "markdown",
   "metadata": {},
   "source": [
    "Let's create a third-rank tensor field living in the Schwarzshild spacetime as an instance of the _Tensor_ class"
   ]
  },
  {
   "cell_type": "code",
   "execution_count": 98,
   "metadata": {
    "jupyter": {
     "outputs_hidden": false
    }
   },
   "outputs": [
    {
     "data": {
      "image/png": "[encoded data removed]",
      "text/latex": [
       "$\\displaystyle \\left[\\begin{matrix}\\left[\\begin{matrix}\\operatorname{S(1, 1, 1)}{\\left(t,r,\\theta,\\phi \\right)} & \\operatorname{S(1, 1, 2)}{\\left(t,r,\\theta,\\phi \\right)} & \\operatorname{S(1, 1, 3)}{\\left(t,r,\\theta,\\phi \\right)} & \\operatorname{S(1, 1, 4)}{\\left(t,r,\\theta,\\phi \\right)}\\\\\\operatorname{S(1, 2, 1)}{\\left(t,r,\\theta,\\phi \\right)} & \\operatorname{S(1, 2, 2)}{\\left(t,r,\\theta,\\phi \\right)} & \\operatorname{S(1, 2, 3)}{\\left(t,r,\\theta,\\phi \\right)} & \\operatorname{S(1, 2, 4)}{\\left(t,r,\\theta,\\phi \\right)}\\\\\\operatorname{S(1, 3, 1)}{\\left(t,r,\\theta,\\phi \\right)} & \\operatorname{S(1, 3, 2)}{\\left(t,r,\\theta,\\phi \\right)} & \\operatorname{S(1, 3, 3)}{\\left(t,r,\\theta,\\phi \\right)} & \\operatorname{S(1, 3, 4)}{\\left(t,r,\\theta,\\phi \\right)}\\\\\\operatorname{S(1, 4, 1)}{\\left(t,r,\\theta,\\phi \\right)} & \\operatorname{S(1, 4, 2)}{\\left(t,r,\\theta,\\phi \\right)} & \\operatorname{S(1, 4, 3)}{\\left(t,r,\\theta,\\phi \\right)} & \\operatorname{S(1, 4, 4)}{\\left(t,r,\\theta,\\phi \\right)}\\end{matrix}\\right] & \\left[\\begin{matrix}\\operatorname{S(2, 1, 1)}{\\left(t,r,\\theta,\\phi \\right)} & \\operatorname{S(2, 1, 2)}{\\left(t,r,\\theta,\\phi \\right)} & \\operatorname{S(2, 1, 3)}{\\left(t,r,\\theta,\\phi \\right)} & \\operatorname{S(2, 1, 4)}{\\left(t,r,\\theta,\\phi \\right)}\\\\\\operatorname{S(2, 2, 1)}{\\left(t,r,\\theta,\\phi \\right)} & \\operatorname{S(2, 2, 2)}{\\left(t,r,\\theta,\\phi \\right)} & \\operatorname{S(2, 2, 3)}{\\left(t,r,\\theta,\\phi \\right)} & \\operatorname{S(2, 2, 4)}{\\left(t,r,\\theta,\\phi \\right)}\\\\\\operatorname{S(2, 3, 1)}{\\left(t,r,\\theta,\\phi \\right)} & \\operatorname{S(2, 3, 2)}{\\left(t,r,\\theta,\\phi \\right)} & \\operatorname{S(2, 3, 3)}{\\left(t,r,\\theta,\\phi \\right)} & \\operatorname{S(2, 3, 4)}{\\left(t,r,\\theta,\\phi \\right)}\\\\\\operatorname{S(2, 4, 1)}{\\left(t,r,\\theta,\\phi \\right)} & \\operatorname{S(2, 4, 2)}{\\left(t,r,\\theta,\\phi \\right)} & \\operatorname{S(2, 4, 3)}{\\left(t,r,\\theta,\\phi \\right)} & \\operatorname{S(2, 4, 4)}{\\left(t,r,\\theta,\\phi \\right)}\\end{matrix}\\right] & \\left[\\begin{matrix}\\operatorname{S(3, 1, 1)}{\\left(t,r,\\theta,\\phi \\right)} & \\operatorname{S(3, 1, 2)}{\\left(t,r,\\theta,\\phi \\right)} & \\operatorname{S(3, 1, 3)}{\\left(t,r,\\theta,\\phi \\right)} & \\operatorname{S(3, 1, 4)}{\\left(t,r,\\theta,\\phi \\right)}\\\\\\operatorname{S(3, 2, 1)}{\\left(t,r,\\theta,\\phi \\right)} & \\operatorname{S(3, 2, 2)}{\\left(t,r,\\theta,\\phi \\right)} & \\operatorname{S(3, 2, 3)}{\\left(t,r,\\theta,\\phi \\right)} & \\operatorname{S(3, 2, 4)}{\\left(t,r,\\theta,\\phi \\right)}\\\\\\operatorname{S(3, 3, 1)}{\\left(t,r,\\theta,\\phi \\right)} & \\operatorname{S(3, 3, 2)}{\\left(t,r,\\theta,\\phi \\right)} & \\operatorname{S(3, 3, 3)}{\\left(t,r,\\theta,\\phi \\right)} & \\operatorname{S(3, 3, 4)}{\\left(t,r,\\theta,\\phi \\right)}\\\\\\operatorname{S(3, 4, 1)}{\\left(t,r,\\theta,\\phi \\right)} & \\operatorname{S(3, 4, 2)}{\\left(t,r,\\theta,\\phi \\right)} & \\operatorname{S(3, 4, 3)}{\\left(t,r,\\theta,\\phi \\right)} & \\operatorname{S(3, 4, 4)}{\\left(t,r,\\theta,\\phi \\right)}\\end{matrix}\\right] & \\left[\\begin{matrix}\\operatorname{S(4, 1, 1)}{\\left(t,r,\\theta,\\phi \\right)} & \\operatorname{S(4, 1, 2)}{\\left(t,r,\\theta,\\phi \\right)} & \\operatorname{S(4, 1, 3)}{\\left(t,r,\\theta,\\phi \\right)} & \\operatorname{S(4, 1, 4)}{\\left(t,r,\\theta,\\phi \\right)}\\\\\\operatorname{S(4, 2, 1)}{\\left(t,r,\\theta,\\phi \\right)} & \\operatorname{S(4, 2, 2)}{\\left(t,r,\\theta,\\phi \\right)} & \\operatorname{S(4, 2, 3)}{\\left(t,r,\\theta,\\phi \\right)} & \\operatorname{S(4, 2, 4)}{\\left(t,r,\\theta,\\phi \\right)}\\\\\\operatorname{S(4, 3, 1)}{\\left(t,r,\\theta,\\phi \\right)} & \\operatorname{S(4, 3, 2)}{\\left(t,r,\\theta,\\phi \\right)} & \\operatorname{S(4, 3, 3)}{\\left(t,r,\\theta,\\phi \\right)} & \\operatorname{S(4, 3, 4)}{\\left(t,r,\\theta,\\phi \\right)}\\\\\\operatorname{S(4, 4, 1)}{\\left(t,r,\\theta,\\phi \\right)} & \\operatorname{S(4, 4, 2)}{\\left(t,r,\\theta,\\phi \\right)} & \\operatorname{S(4, 4, 3)}{\\left(t,r,\\theta,\\phi \\right)} & \\operatorname{S(4, 4, 4)}{\\left(t,r,\\theta,\\phi \\right)}\\end{matrix}\\right]\\end{matrix}\\right]$"
      ],
      "text/plain": [
       "⎡⎡S(1, 1, 1)(t, r, \\theta, \\phi)  S(1, 1, 2)(t, r, \\theta, \\phi)  S(1, 1, 3)(t\n",
       "⎢⎢                                                                            \n",
       "⎢⎢S(1, 2, 1)(t, r, \\theta, \\phi)  S(1, 2, 2)(t, r, \\theta, \\phi)  S(1, 2, 3)(t\n",
       "⎢⎢                                                                            \n",
       "⎢⎢S(1, 3, 1)(t, r, \\theta, \\phi)  S(1, 3, 2)(t, r, \\theta, \\phi)  S(1, 3, 3)(t\n",
       "⎢⎢                                                                            \n",
       "⎣⎣S(1, 4, 1)(t, r, \\theta, \\phi)  S(1, 4, 2)(t, r, \\theta, \\phi)  S(1, 4, 3)(t\n",
       "\n",
       ", r, \\theta, \\phi)  S(1, 1, 4)(t, r, \\theta, \\phi)⎤  ⎡S(2, 1, 1)(t, r, \\theta,\n",
       "                                                  ⎥  ⎢                        \n",
       ", r, \\theta, \\phi)  S(1, 2, 4)(t, r, \\theta, \\phi)⎥  ⎢S(2, 2, 1)(t, r, \\theta,\n",
       "                                                  ⎥  ⎢                        \n",
       ", r, \\theta, \\phi)  S(1, 3, 4)(t, r, \\theta, \\phi)⎥  ⎢S(2, 3, 1)(t, r, \\theta,\n",
       "                                                  ⎥  ⎢                        \n",
       ", r, \\theta, \\phi)  S(1, 4, 4)(t, r, \\theta, \\phi)⎦  ⎣S(2, 4, 1)(t, r, \\theta,\n",
       "\n",
       " \\phi)  S(2, 1, 2)(t, r, \\theta, \\phi)  S(2, 1, 3)(t, r, \\theta, \\phi)  S(2, 1\n",
       "                                                                              \n",
       " \\phi)  S(2, 2, 2)(t, r, \\theta, \\phi)  S(2, 2, 3)(t, r, \\theta, \\phi)  S(2, 2\n",
       "                                                                              \n",
       " \\phi)  S(2, 3, 2)(t, r, \\theta, \\phi)  S(2, 3, 3)(t, r, \\theta, \\phi)  S(2, 3\n",
       "                                                                              \n",
       " \\phi)  S(2, 4, 2)(t, r, \\theta, \\phi)  S(2, 4, 3)(t, r, \\theta, \\phi)  S(2, 4\n",
       "\n",
       ", 4)(t, r, \\theta, \\phi)⎤  ⎡S(3, 1, 1)(t, r, \\theta, \\phi)  S(3, 1, 2)(t, r, \\\n",
       "                        ⎥  ⎢                                                  \n",
       ", 4)(t, r, \\theta, \\phi)⎥  ⎢S(3, 2, 1)(t, r, \\theta, \\phi)  S(3, 2, 2)(t, r, \\\n",
       "                        ⎥  ⎢                                                  \n",
       ", 4)(t, r, \\theta, \\phi)⎥  ⎢S(3, 3, 1)(t, r, \\theta, \\phi)  S(3, 3, 2)(t, r, \\\n",
       "                        ⎥  ⎢                                                  \n",
       ", 4)(t, r, \\theta, \\phi)⎦  ⎣S(3, 4, 1)(t, r, \\theta, \\phi)  S(3, 4, 2)(t, r, \\\n",
       "\n",
       "theta, \\phi)  S(3, 1, 3)(t, r, \\theta, \\phi)  S(3, 1, 4)(t, r, \\theta, \\phi)⎤ \n",
       "                                                                            ⎥ \n",
       "theta, \\phi)  S(3, 2, 3)(t, r, \\theta, \\phi)  S(3, 2, 4)(t, r, \\theta, \\phi)⎥ \n",
       "                                                                            ⎥ \n",
       "theta, \\phi)  S(3, 3, 3)(t, r, \\theta, \\phi)  S(3, 3, 4)(t, r, \\theta, \\phi)⎥ \n",
       "                                                                            ⎥ \n",
       "theta, \\phi)  S(3, 4, 3)(t, r, \\theta, \\phi)  S(3, 4, 4)(t, r, \\theta, \\phi)⎦ \n",
       "\n",
       " ⎡S(4, 1, 1)(t, r, \\theta, \\phi)  S(4, 1, 2)(t, r, \\theta, \\phi)  S(4, 1, 3)(t\n",
       " ⎢                                                                            \n",
       " ⎢S(4, 2, 1)(t, r, \\theta, \\phi)  S(4, 2, 2)(t, r, \\theta, \\phi)  S(4, 2, 3)(t\n",
       " ⎢                                                                            \n",
       " ⎢S(4, 3, 1)(t, r, \\theta, \\phi)  S(4, 3, 2)(t, r, \\theta, \\phi)  S(4, 3, 3)(t\n",
       " ⎢                                                                            \n",
       " ⎣S(4, 4, 1)(t, r, \\theta, \\phi)  S(4, 4, 2)(t, r, \\theta, \\phi)  S(4, 4, 3)(t\n",
       "\n",
       ", r, \\theta, \\phi)  S(4, 1, 4)(t, r, \\theta, \\phi)⎤⎤\n",
       "                                                  ⎥⎥\n",
       ", r, \\theta, \\phi)  S(4, 2, 4)(t, r, \\theta, \\phi)⎥⎥\n",
       "                                                  ⎥⎥\n",
       ", r, \\theta, \\phi)  S(4, 3, 4)(t, r, \\theta, \\phi)⎥⎥\n",
       "                                                  ⎥⎥\n",
       ", r, \\theta, \\phi)  S(4, 4, 4)(t, r, \\theta, \\phi)⎦⎦"
      ]
     },
     "execution_count": 98,
     "metadata": {},
     "output_type": "execute_result"
    }
   ],
   "source": [
    "S = Tensor('S', 3, g)\n",
    "S(All, All, All)"
   ]
  },
  {
   "cell_type": "markdown",
   "metadata": {},
   "source": [
    "Until you define (override) the _\\_compute\\_covariant\\_component_ method of the __S__ object, all of $4^3$ components are arbitrary functions of coordinates "
   ]
  },
  {
   "cell_type": "code",
   "execution_count": 41,
   "metadata": {
    "jupyter": {
     "outputs_hidden": false
    }
   },
   "outputs": [
    {
     "data": {
      "image/png": "[encoded data removed]",
      "text/latex": [
       "$\\displaystyle \\operatorname{S(1, 2, 3)}{\\left(t,r,\\theta,\\phi \\right)}$"
      ],
      "text/plain": [
       "S(1, 2, 3)(t, r, \\theta, \\phi)"
      ]
     },
     "execution_count": 41,
     "metadata": {},
     "output_type": "execute_result"
    }
   ],
   "source": [
    "S(1, 2, 3)"
   ]
  },
  {
   "cell_type": "code",
   "execution_count": 42,
   "metadata": {
    "jupyter": {
     "outputs_hidden": false
    }
   },
   "outputs": [
    {
     "data": {
      "text/plain": [
       "(['    def _compute_covariant_component(self, idxs):\\n',\n",
       "  '        if len(idxs) == 0:\\n',\n",
       "  '            component = Function(str(self.symbol))(*self.coords.c)\\n',\n",
       "  '        elif len(idxs) == 1:\\n',\n",
       "  '            component = Function(str(self.symbol) +\\n',\n",
       "  \"                                 '(' + str(idxs[0]) + ')')(*self.coords.c)\\n\",\n",
       "  '        else:\\n',\n",
       "  '            component = Function(str(self.symbol) + str(idxs))(*self.coords.c)\\n',\n",
       "  '        return component\\n'],\n",
       " 157)"
      ]
     },
     "execution_count": 42,
     "metadata": {},
     "output_type": "execute_result"
    }
   ],
   "source": [
    "inspect.getsourcelines(T._compute_covariant_component)"
   ]
  },
  {
   "cell_type": "markdown",
   "metadata": {},
   "source": [
    "Let's assume that tensor __S__ is the commutator of the covariant derivatives of some arbitrary vector field __V__ and create a new _\\_compute\\_covariant\\_component_ method for the object __S__"
   ]
  },
  {
   "cell_type": "code",
   "execution_count": 43,
   "metadata": {
    "jupyter": {
     "outputs_hidden": false
    }
   },
   "outputs": [
    {
     "data": {
      "image/png": "[encoded data removed]",
      "text/latex": [
       "$\\displaystyle \\left[\\begin{matrix}\\operatorname{V(1)}{\\left(t,r,\\theta,\\phi \\right)} & \\operatorname{V(2)}{\\left(t,r,\\theta,\\phi \\right)} & \\operatorname{V(3)}{\\left(t,r,\\theta,\\phi \\right)} & \\operatorname{V(4)}{\\left(t,r,\\theta,\\phi \\right)}\\end{matrix}\\right]$"
      ],
      "text/plain": [
       "[V(1)(t, r, \\theta, \\phi)  V(2)(t, r, \\theta, \\phi)  V(3)(t, r, \\theta, \\phi) \n",
       " V(4)(t, r, \\theta, \\phi)]"
      ]
     },
     "execution_count": 43,
     "metadata": {},
     "output_type": "execute_result"
    }
   ],
   "source": [
    "V = Tensor('V', 1, g)\n",
    "V(All)"
   ]
  },
  {
   "cell_type": "code",
   "execution_count": 44,
   "metadata": {
    "jupyter": {
     "outputs_hidden": false
    }
   },
   "outputs": [],
   "source": [
    "def S_new_method(idxs): # definition\n",
    "    component = (V.covariantD(idxs[0], idxs[1], idxs[2])\n",
    "                 - V.covariantD(idxs[0], idxs[2], idxs[1])).simplify()\n",
    "    S.components.update({idxs: component}) # memoization\n",
    "    return component\n",
    "S._compute_covariant_component = S_new_method\n",
    "# _compute_covariant_component method was overriden"
   ]
  },
  {
   "cell_type": "code",
   "execution_count": 45,
   "metadata": {
    "jupyter": {
     "outputs_hidden": false
    }
   },
   "outputs": [
    {
     "data": {
      "image/png": "[encoded data removed]",
      "text/latex": [
       "$\\displaystyle \\frac{M \\left(2 M - r\\right) \\operatorname{V(3)}{\\left(t,r,\\theta,\\phi \\right)}}{r^{4}}$"
      ],
      "text/plain": [
       "M⋅(2⋅M - r)⋅V(3)(t, r, \\theta, \\phi)\n",
       "────────────────────────────────────\n",
       "                  4                 \n",
       "                 r                  "
      ]
     },
     "execution_count": 45,
     "metadata": {},
     "output_type": "execute_result"
    }
   ],
   "source": [
    "S(1, 1, 3)"
   ]
  },
  {
   "cell_type": "markdown",
   "metadata": {},
   "source": [
    "One can check that the well known formula is correct"
   ]
  },
  {
   "cell_type": "markdown",
   "metadata": {},
   "source": [
    "$$ V_{\\mu ;\\nu \\rho} - V_{\\mu ;\\rho \\nu} = R^{\\sigma}_{\\ \\mu \\nu \\rho}V_{\\sigma} $$"
   ]
  },
  {
   "cell_type": "code",
   "execution_count": 46,
   "metadata": {
    "jupyter": {
     "outputs_hidden": false
    }
   },
   "outputs": [
    {
     "data": {
      "image/png": "[encoded data removed]",
      "text/latex": [
       "$\\displaystyle \\left[\\begin{matrix}\\left[\\begin{matrix}0 & 0 & 0 & 0\\\\0 & 0 & 0 & 0\\\\0 & 0 & 0 & 0\\\\0 & 0 & 0 & 0\\end{matrix}\\right] & \\left[\\begin{matrix}0 & 0 & 0 & 0\\\\0 & 0 & 0 & 0\\\\0 & 0 & 0 & 0\\\\0 & 0 & 0 & 0\\end{matrix}\\right] & \\left[\\begin{matrix}0 & 0 & 0 & 0\\\\0 & 0 & 0 & 0\\\\0 & 0 & 0 & 0\\\\0 & 0 & 0 & 0\\end{matrix}\\right] & \\left[\\begin{matrix}0 & 0 & 0 & 0\\\\0 & 0 & 0 & 0\\\\0 & 0 & 0 & 0\\\\0 & 0 & 0 & 0\\end{matrix}\\right]\\end{matrix}\\right]$"
      ],
      "text/plain": [
       "⎡⎡0  0  0  0⎤  ⎡0  0  0  0⎤  ⎡0  0  0  0⎤  ⎡0  0  0  0⎤⎤\n",
       "⎢⎢          ⎥  ⎢          ⎥  ⎢          ⎥  ⎢          ⎥⎥\n",
       "⎢⎢0  0  0  0⎥  ⎢0  0  0  0⎥  ⎢0  0  0  0⎥  ⎢0  0  0  0⎥⎥\n",
       "⎢⎢          ⎥  ⎢          ⎥  ⎢          ⎥  ⎢          ⎥⎥\n",
       "⎢⎢0  0  0  0⎥  ⎢0  0  0  0⎥  ⎢0  0  0  0⎥  ⎢0  0  0  0⎥⎥\n",
       "⎢⎢          ⎥  ⎢          ⎥  ⎢          ⎥  ⎢          ⎥⎥\n",
       "⎣⎣0  0  0  0⎦  ⎣0  0  0  0⎦  ⎣0  0  0  0⎦  ⎣0  0  0  0⎦⎦"
      ]
     },
     "execution_count": 46,
     "metadata": {},
     "output_type": "execute_result"
    }
   ],
   "source": [
    "zeros = reduce(Matrix.add, [Rm(-i, All, All, All)*V(i)\n",
    "                            for i  in range(1, 5)]) - S(All, All, All)\n",
    "zeros.simplify()\n",
    "zeros"
   ]
  },
  {
   "cell_type": "markdown",
   "metadata": {},
   "source": [
    "Another way of tensor creation is to make an instance of the _Tensor_ class with components option. Tensor components stored in _Matrix_ object are  writen to the _components_ dictionary of the instance by this method. "
   ]
  },
  {
   "cell_type": "code",
   "execution_count": 47,
   "metadata": {
    "jupyter": {
     "outputs_hidden": false
    }
   },
   "outputs": [],
   "source": [
    "Z = Tensor('Z', 3, g, components=zeros, components_type=(1, 1, 1))"
   ]
  },
  {
   "cell_type": "code",
   "execution_count": 48,
   "metadata": {
    "jupyter": {
     "outputs_hidden": false
    }
   },
   "outputs": [
    {
     "data": {
      "text/plain": [
       "True"
      ]
     },
     "execution_count": 48,
     "metadata": {},
     "output_type": "execute_result"
    }
   ],
   "source": [
    "not any(Z.components.values())"
   ]
  },
  {
   "cell_type": "markdown",
   "metadata": {},
   "source": [
    "### _Tensor_ class extension"
   ]
  },
  {
   "cell_type": "markdown",
   "metadata": {},
   "source": [
    "As an example of the _Tensor_ class extension you can get the source code of any of the predefined _Tensor_ subclasses"
   ]
  },
  {
   "cell_type": "code",
   "execution_count": 49,
   "metadata": {
    "jupyter": {
     "outputs_hidden": false
    }
   },
   "outputs": [
    {
     "name": "stdout",
     "output_type": "stream",
     "text": [
      "['Christoffel', 'Ricci', 'Riemann', 'Einstein', 'Geodesic']\n"
     ]
    }
   ],
   "source": [
    "print([cls.__name__ for cls in vars()['Tensor'].__subclasses__()])"
   ]
  },
  {
   "cell_type": "code",
   "execution_count": 50,
   "metadata": {
    "jupyter": {
     "outputs_hidden": false
    }
   },
   "outputs": [
    {
     "data": {
      "text/plain": [
       "(['class Christoffel(Tensor):\\n',\n",
       "  '    r\"\"\"Christoffel.\\n',\n",
       "  '\\n',\n",
       "  '    Represents a class of Christoffel symbols of the first and second kind.\\n',\n",
       "  '\\n',\n",
       "  '    Parameters\\n',\n",
       "  '    ==========\\n',\n",
       "  '\\n',\n",
       "  '    symbol : python string - name of the Christoffel symbol\\n',\n",
       "  '    metric : GraviPy MtricTensor object\\n',\n",
       "  '\\n',\n",
       "  '    Examples\\n',\n",
       "  '    ========\\n',\n",
       "  '\\n',\n",
       "  '    Define a Christoffel symbols for the Schwarzschild metric:\\n',\n",
       "  '\\n',\n",
       "  '    >>> from gravipy import *\\n',\n",
       "  \"    >>> t, r, theta, phi = symbols('t, r, \\\\\\\\theta, \\\\phi')\\n\",\n",
       "  \"    >>> chi = Coordinates('\\\\chi', [t, r, theta, phi])\\n\",\n",
       "  \"    >>> M = Symbol('M')\\n\",\n",
       "  '    >>> Metric = diag(-(1 - 2 * M / r), 1 / (1 - 2 * M / r), r ** 2,\\n',\n",
       "  '    ...                  r ** 2 * sin(theta) ** 2)\\n',\n",
       "  \"    >>> g = MetricTensor('g', chi, Metric)\\n\",\n",
       "  \"    >>> Ga = Christoffel('Ga', g)\\n\",\n",
       "  '    >>> Ga(-1, 2, 1)\\n',\n",
       "  '    -M/(r*(2*M - r))\\n',\n",
       "  '    >>> Ga(2, All, All)\\n',\n",
       "  '    Matrix([\\n',\n",
       "  '    [M/r**2,               0,  0,                 0],\\n',\n",
       "  '    [     0, -M/(2*M - r)**2,  0,                 0],\\n',\n",
       "  '    [     0,               0, -r,                 0],\\n',\n",
       "  '    [     0,               0,  0, -r*sin(\\\\theta)**2]])\\n',\n",
       "  '    >>> Ga(1, -1, 2) # doctest: +IGNORE_EXCEPTION_DETAIL\\n',\n",
       "  '    Traceback (most recent call last):\\n',\n",
       "  '    GraviPyError: \"Tensor component Ga(1, -1, 2) doesn\\'t  exist\"\\n',\n",
       "  '\\n',\n",
       "  '    \"\"\"\\n',\n",
       "  '\\n',\n",
       "  '    def __init__(self, symbol, metric, *args, **kwargs):\\n',\n",
       "  '        super(Christoffel, self).__init__(\\n',\n",
       "  '            symbol, 3, metric, index_types=(0, 1, 1), *args, **kwargs)\\n',\n",
       "  '        self.is_connection = True\\n',\n",
       "  '        self.conn = self\\n',\n",
       "  '        self.metric.conn = self\\n',\n",
       "  '\\n',\n",
       "  '    def _compute_covariant_component(self, idxs):\\n',\n",
       "  '        component = Rational(1, 2) * (\\n',\n",
       "  '            self.metric(idxs[0], idxs[1]).diff(self.coords(-idxs[2])) +\\n',\n",
       "  '            self.metric(idxs[0], idxs[2]).diff(self.coords(-idxs[1])) -\\n',\n",
       "  '            self.metric(idxs[1], idxs[2]).diff(self.coords(-idxs[0]))) \\\\\\n',\n",
       "  '            .together().simplify()\\n',\n",
       "  '        self.components.update({idxs: component})\\n',\n",
       "  '        if self.apply_tensor_symmetry:\\n',\n",
       "  '            self.components.update({(idxs[0], idxs[2], idxs[1]): component})\\n',\n",
       "  '        return component\\n'],\n",
       " 515)"
      ]
     },
     "execution_count": 50,
     "metadata": {},
     "output_type": "execute_result"
    }
   ],
   "source": [
    "inspect.getsourcelines(Christoffel)"
   ]
  }
 ],
 "metadata": {
  "kernelspec": {
   "display_name": "Python 3",
   "language": "python",
   "name": "python3"
  },
  "language_info": {
   "codemirror_mode": {
    "name": "ipython",
    "version": 3
   },
   "file_extension": ".py",
   "mimetype": "text/x-python",
   "name": "python",
   "nbconvert_exporter": "python",
   "pygments_lexer": "ipython3",
   "version": "3.7.5"
  }
 },
 "nbformat": 4,
 "nbformat_minor": 4
}
